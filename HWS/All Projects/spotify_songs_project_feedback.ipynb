{
 "cells": [
  {
   "cell_type": "markdown",
   "id": "5b0149eb",
   "metadata": {},
   "source": [
    "## CMPINF 2100 - Final project feedback\n",
    "\n",
    "### Spotify songs\n",
    "\n",
    "This report gives general feedback from the proposals abouot the final project. In addition to addressing pitfalls, multiple recommendations are provided to help with the analysis."
   ]
  },
  {
   "cell_type": "markdown",
   "id": "a0314657",
   "metadata": {},
   "source": [
    "## Import modules"
   ]
  },
  {
   "cell_type": "code",
   "execution_count": 1,
   "id": "7aa9481e",
   "metadata": {},
   "outputs": [],
   "source": [
    "import numpy as np\n",
    "import pandas as pd\n",
    "import matplotlib.pyplot as plt\n",
    "\n",
    "import seaborn as sns"
   ]
  },
  {
   "cell_type": "markdown",
   "id": "0eb11a86",
   "metadata": {},
   "source": [
    "## Read data"
   ]
  },
  {
   "cell_type": "code",
   "execution_count": 2,
   "id": "361315dc",
   "metadata": {},
   "outputs": [],
   "source": [
    "data_url = 'https://raw.githubusercontent.com/rfordatascience/tidytuesday/master/data/2020/2020-01-21/spotify_songs.csv'\n",
    "\n",
    "df = pd.read_csv(data_url)"
   ]
  },
  {
   "cell_type": "code",
   "execution_count": 3,
   "id": "65c92a19",
   "metadata": {},
   "outputs": [
    {
     "name": "stdout",
     "output_type": "stream",
     "text": [
      "<class 'pandas.core.frame.DataFrame'>\n",
      "RangeIndex: 32833 entries, 0 to 32832\n",
      "Data columns (total 23 columns):\n",
      " #   Column                    Non-Null Count  Dtype  \n",
      "---  ------                    --------------  -----  \n",
      " 0   track_id                  32833 non-null  object \n",
      " 1   track_name                32828 non-null  object \n",
      " 2   track_artist              32828 non-null  object \n",
      " 3   track_popularity          32833 non-null  int64  \n",
      " 4   track_album_id            32833 non-null  object \n",
      " 5   track_album_name          32828 non-null  object \n",
      " 6   track_album_release_date  32833 non-null  object \n",
      " 7   playlist_name             32833 non-null  object \n",
      " 8   playlist_id               32833 non-null  object \n",
      " 9   playlist_genre            32833 non-null  object \n",
      " 10  playlist_subgenre         32833 non-null  object \n",
      " 11  danceability              32833 non-null  float64\n",
      " 12  energy                    32833 non-null  float64\n",
      " 13  key                       32833 non-null  int64  \n",
      " 14  loudness                  32833 non-null  float64\n",
      " 15  mode                      32833 non-null  int64  \n",
      " 16  speechiness               32833 non-null  float64\n",
      " 17  acousticness              32833 non-null  float64\n",
      " 18  instrumentalness          32833 non-null  float64\n",
      " 19  liveness                  32833 non-null  float64\n",
      " 20  valence                   32833 non-null  float64\n",
      " 21  tempo                     32833 non-null  float64\n",
      " 22  duration_ms               32833 non-null  int64  \n",
      "dtypes: float64(9), int64(4), object(10)\n",
      "memory usage: 5.8+ MB\n"
     ]
    }
   ],
   "source": [
    "df.info()"
   ]
  },
  {
   "cell_type": "markdown",
   "id": "223a0ccb",
   "metadata": {},
   "source": [
    "## Comments\n",
    "\n",
    "### Id variables\n",
    "\n",
    "The data set has several ID variables, `track_id`, `track_album_id`, `playlist_id`. The data set also has names for the songs, album, and playlist. None of these variables should be used as inputs to predictive models. \n",
    "\n",
    "The data dictionary provided by the Tidy Tuesday github page states that `track_id` is a unique song ID. Let's check this by applying `.nunique()` to the `track_id` column. As shown below there are fewer unique values for `track_id` than rows in the data set!"
   ]
  },
  {
   "cell_type": "code",
   "execution_count": 4,
   "id": "79c1da76",
   "metadata": {},
   "outputs": [
    {
     "data": {
      "text/plain": [
       "28356"
      ]
     },
     "execution_count": 4,
     "metadata": {},
     "output_type": "execute_result"
    }
   ],
   "source": [
    "df.track_id.nunique()"
   ]
  },
  {
   "cell_type": "markdown",
   "id": "33732e83",
   "metadata": {},
   "source": [
    "The `.value_counts()` method is applied twice in the cell below. The first `.value_counts()` call counts the number of rows per unique `track_id`. The second `.value_counts()` call counts the number of songs that have 1 row, 2 rows, 3 rows, and so on. As we see below there is one song that has 10 rows associated with it!"
   ]
  },
  {
   "cell_type": "code",
   "execution_count": 5,
   "id": "64ff8121",
   "metadata": {},
   "outputs": [
    {
     "data": {
      "text/plain": [
       "1     25190\n",
       "2      2384\n",
       "3       510\n",
       "4       142\n",
       "5        60\n",
       "6        35\n",
       "7        17\n",
       "8        15\n",
       "9         2\n",
       "10        1\n",
       "Name: track_id, dtype: int64"
      ]
     },
     "execution_count": 5,
     "metadata": {},
     "output_type": "execute_result"
    }
   ],
   "source": [
    "df.track_id.value_counts().value_counts()"
   ]
  },
  {
   "cell_type": "markdown",
   "id": "c6c4ed75",
   "metadata": {},
   "source": [
    "The song with 10 rows is:"
   ]
  },
  {
   "cell_type": "code",
   "execution_count": 6,
   "id": "9ebf2d86",
   "metadata": {},
   "outputs": [
    {
     "data": {
      "text/plain": [
       "7BKLCZ1jbUBVqRi2FVlTVw    10\n",
       "Name: track_id, dtype: int64"
      ]
     },
     "execution_count": 6,
     "metadata": {},
     "output_type": "execute_result"
    }
   ],
   "source": [
    "df.track_id.value_counts()[df.track_id.value_counts() == 10]"
   ]
  },
  {
   "cell_type": "markdown",
   "id": "716353b6",
   "metadata": {},
   "source": [
    "Let's display all rows in the original data set with this `track_id` value. Scrolling through the columns of the displayed rows we see that the columns are the same **except** for those associated with the play list!"
   ]
  },
  {
   "cell_type": "code",
   "execution_count": 7,
   "id": "31741aa9",
   "metadata": {},
   "outputs": [
    {
     "data": {
      "text/html": [
       "<div>\n",
       "<style scoped>\n",
       "    .dataframe tbody tr th:only-of-type {\n",
       "        vertical-align: middle;\n",
       "    }\n",
       "\n",
       "    .dataframe tbody tr th {\n",
       "        vertical-align: top;\n",
       "    }\n",
       "\n",
       "    .dataframe thead th {\n",
       "        text-align: right;\n",
       "    }\n",
       "</style>\n",
       "<table border=\"1\" class=\"dataframe\">\n",
       "  <thead>\n",
       "    <tr style=\"text-align: right;\">\n",
       "      <th></th>\n",
       "      <th>track_id</th>\n",
       "      <th>track_name</th>\n",
       "      <th>track_artist</th>\n",
       "      <th>track_popularity</th>\n",
       "      <th>track_album_id</th>\n",
       "      <th>track_album_name</th>\n",
       "      <th>track_album_release_date</th>\n",
       "      <th>playlist_name</th>\n",
       "      <th>playlist_id</th>\n",
       "      <th>playlist_genre</th>\n",
       "      <th>...</th>\n",
       "      <th>key</th>\n",
       "      <th>loudness</th>\n",
       "      <th>mode</th>\n",
       "      <th>speechiness</th>\n",
       "      <th>acousticness</th>\n",
       "      <th>instrumentalness</th>\n",
       "      <th>liveness</th>\n",
       "      <th>valence</th>\n",
       "      <th>tempo</th>\n",
       "      <th>duration_ms</th>\n",
       "    </tr>\n",
       "  </thead>\n",
       "  <tbody>\n",
       "    <tr>\n",
       "      <th>133</th>\n",
       "      <td>7BKLCZ1jbUBVqRi2FVlTVw</td>\n",
       "      <td>Closer (feat. Halsey)</td>\n",
       "      <td>The Chainsmokers</td>\n",
       "      <td>85</td>\n",
       "      <td>0rSLgV8p5FzfnqlEk4GzxE</td>\n",
       "      <td>Closer (feat. Halsey)</td>\n",
       "      <td>2016-07-29</td>\n",
       "      <td>Dance Pop</td>\n",
       "      <td>37i9dQZF1DWZQaaqNMbbXa</td>\n",
       "      <td>pop</td>\n",
       "      <td>...</td>\n",
       "      <td>8</td>\n",
       "      <td>-5.599</td>\n",
       "      <td>1</td>\n",
       "      <td>0.0338</td>\n",
       "      <td>0.414</td>\n",
       "      <td>0.0</td>\n",
       "      <td>0.111</td>\n",
       "      <td>0.661</td>\n",
       "      <td>95.01</td>\n",
       "      <td>244960</td>\n",
       "    </tr>\n",
       "    <tr>\n",
       "      <th>1731</th>\n",
       "      <td>7BKLCZ1jbUBVqRi2FVlTVw</td>\n",
       "      <td>Closer (feat. Halsey)</td>\n",
       "      <td>The Chainsmokers</td>\n",
       "      <td>85</td>\n",
       "      <td>0rSLgV8p5FzfnqlEk4GzxE</td>\n",
       "      <td>Closer (feat. Halsey)</td>\n",
       "      <td>2016-07-29</td>\n",
       "      <td>Post pop teen</td>\n",
       "      <td>222nc9tKxKhfZ2GBrOpwH3</td>\n",
       "      <td>pop</td>\n",
       "      <td>...</td>\n",
       "      <td>8</td>\n",
       "      <td>-5.599</td>\n",
       "      <td>1</td>\n",
       "      <td>0.0338</td>\n",
       "      <td>0.414</td>\n",
       "      <td>0.0</td>\n",
       "      <td>0.111</td>\n",
       "      <td>0.661</td>\n",
       "      <td>95.01</td>\n",
       "      <td>244960</td>\n",
       "    </tr>\n",
       "    <tr>\n",
       "      <th>2478</th>\n",
       "      <td>7BKLCZ1jbUBVqRi2FVlTVw</td>\n",
       "      <td>Closer (feat. Halsey)</td>\n",
       "      <td>The Chainsmokers</td>\n",
       "      <td>85</td>\n",
       "      <td>0rSLgV8p5FzfnqlEk4GzxE</td>\n",
       "      <td>Closer (feat. Halsey)</td>\n",
       "      <td>2016-07-29</td>\n",
       "      <td>Electropop Hits  2017-2020</td>\n",
       "      <td>7kyvBmlc1uSqsTL0EuNLrx</td>\n",
       "      <td>pop</td>\n",
       "      <td>...</td>\n",
       "      <td>8</td>\n",
       "      <td>-5.599</td>\n",
       "      <td>1</td>\n",
       "      <td>0.0338</td>\n",
       "      <td>0.414</td>\n",
       "      <td>0.0</td>\n",
       "      <td>0.111</td>\n",
       "      <td>0.661</td>\n",
       "      <td>95.01</td>\n",
       "      <td>244960</td>\n",
       "    </tr>\n",
       "    <tr>\n",
       "      <th>4535</th>\n",
       "      <td>7BKLCZ1jbUBVqRi2FVlTVw</td>\n",
       "      <td>Closer (feat. Halsey)</td>\n",
       "      <td>The Chainsmokers</td>\n",
       "      <td>85</td>\n",
       "      <td>0rSLgV8p5FzfnqlEk4GzxE</td>\n",
       "      <td>Closer (feat. Halsey)</td>\n",
       "      <td>2016-07-29</td>\n",
       "      <td>A Loose Definition of Indie Poptimism</td>\n",
       "      <td>4ZO0wp9G8FA3X6oYNBzda6</td>\n",
       "      <td>pop</td>\n",
       "      <td>...</td>\n",
       "      <td>8</td>\n",
       "      <td>-5.599</td>\n",
       "      <td>1</td>\n",
       "      <td>0.0338</td>\n",
       "      <td>0.414</td>\n",
       "      <td>0.0</td>\n",
       "      <td>0.111</td>\n",
       "      <td>0.661</td>\n",
       "      <td>95.01</td>\n",
       "      <td>244960</td>\n",
       "    </tr>\n",
       "    <tr>\n",
       "      <th>7369</th>\n",
       "      <td>7BKLCZ1jbUBVqRi2FVlTVw</td>\n",
       "      <td>Closer (feat. Halsey)</td>\n",
       "      <td>The Chainsmokers</td>\n",
       "      <td>85</td>\n",
       "      <td>0rSLgV8p5FzfnqlEk4GzxE</td>\n",
       "      <td>Closer (feat. Halsey)</td>\n",
       "      <td>2016-07-29</td>\n",
       "      <td>◤ Hip Hop Dance Music – Urban – Trap – Breakin...</td>\n",
       "      <td>0Hr2h94pKN8QAGVAgD6BsD</td>\n",
       "      <td>rap</td>\n",
       "      <td>...</td>\n",
       "      <td>8</td>\n",
       "      <td>-5.599</td>\n",
       "      <td>1</td>\n",
       "      <td>0.0338</td>\n",
       "      <td>0.414</td>\n",
       "      <td>0.0</td>\n",
       "      <td>0.111</td>\n",
       "      <td>0.661</td>\n",
       "      <td>95.01</td>\n",
       "      <td>244960</td>\n",
       "    </tr>\n",
       "    <tr>\n",
       "      <th>17467</th>\n",
       "      <td>7BKLCZ1jbUBVqRi2FVlTVw</td>\n",
       "      <td>Closer (feat. Halsey)</td>\n",
       "      <td>The Chainsmokers</td>\n",
       "      <td>85</td>\n",
       "      <td>0rSLgV8p5FzfnqlEk4GzxE</td>\n",
       "      <td>Closer (feat. Halsey)</td>\n",
       "      <td>2016-07-29</td>\n",
       "      <td>Tropical House Run 190 BPM</td>\n",
       "      <td>37i9dQZF1DWSTc9FdySHtz</td>\n",
       "      <td>latin</td>\n",
       "      <td>...</td>\n",
       "      <td>8</td>\n",
       "      <td>-5.599</td>\n",
       "      <td>1</td>\n",
       "      <td>0.0338</td>\n",
       "      <td>0.414</td>\n",
       "      <td>0.0</td>\n",
       "      <td>0.111</td>\n",
       "      <td>0.661</td>\n",
       "      <td>95.01</td>\n",
       "      <td>244960</td>\n",
       "    </tr>\n",
       "    <tr>\n",
       "      <th>18358</th>\n",
       "      <td>7BKLCZ1jbUBVqRi2FVlTVw</td>\n",
       "      <td>Closer (feat. Halsey)</td>\n",
       "      <td>The Chainsmokers</td>\n",
       "      <td>85</td>\n",
       "      <td>0rSLgV8p5FzfnqlEk4GzxE</td>\n",
       "      <td>Closer (feat. Halsey)</td>\n",
       "      <td>2016-07-29</td>\n",
       "      <td>2020 Hits &amp; 2019  Hits – Top Global Tracks 🔥🔥🔥</td>\n",
       "      <td>4JkkvMpVl4lSioqQjeAL0q</td>\n",
       "      <td>latin</td>\n",
       "      <td>...</td>\n",
       "      <td>8</td>\n",
       "      <td>-5.599</td>\n",
       "      <td>1</td>\n",
       "      <td>0.0338</td>\n",
       "      <td>0.414</td>\n",
       "      <td>0.0</td>\n",
       "      <td>0.111</td>\n",
       "      <td>0.661</td>\n",
       "      <td>95.01</td>\n",
       "      <td>244960</td>\n",
       "    </tr>\n",
       "    <tr>\n",
       "      <th>19770</th>\n",
       "      <td>7BKLCZ1jbUBVqRi2FVlTVw</td>\n",
       "      <td>Closer (feat. Halsey)</td>\n",
       "      <td>The Chainsmokers</td>\n",
       "      <td>85</td>\n",
       "      <td>0rSLgV8p5FzfnqlEk4GzxE</td>\n",
       "      <td>Closer (feat. Halsey)</td>\n",
       "      <td>2016-07-29</td>\n",
       "      <td>2020 Hits &amp; 2019  Hits – Top Global Tracks 🔥🔥🔥</td>\n",
       "      <td>4JkkvMpVl4lSioqQjeAL0q</td>\n",
       "      <td>latin</td>\n",
       "      <td>...</td>\n",
       "      <td>8</td>\n",
       "      <td>-5.599</td>\n",
       "      <td>1</td>\n",
       "      <td>0.0338</td>\n",
       "      <td>0.414</td>\n",
       "      <td>0.0</td>\n",
       "      <td>0.111</td>\n",
       "      <td>0.661</td>\n",
       "      <td>95.01</td>\n",
       "      <td>244960</td>\n",
       "    </tr>\n",
       "    <tr>\n",
       "      <th>23784</th>\n",
       "      <td>7BKLCZ1jbUBVqRi2FVlTVw</td>\n",
       "      <td>Closer (feat. Halsey)</td>\n",
       "      <td>The Chainsmokers</td>\n",
       "      <td>85</td>\n",
       "      <td>0rSLgV8p5FzfnqlEk4GzxE</td>\n",
       "      <td>Closer (feat. Halsey)</td>\n",
       "      <td>2016-07-29</td>\n",
       "      <td>2020 Hits &amp; 2019  Hits – Top Global Tracks 🔥🔥🔥</td>\n",
       "      <td>4JkkvMpVl4lSioqQjeAL0q</td>\n",
       "      <td>r&amp;b</td>\n",
       "      <td>...</td>\n",
       "      <td>8</td>\n",
       "      <td>-5.599</td>\n",
       "      <td>1</td>\n",
       "      <td>0.0338</td>\n",
       "      <td>0.414</td>\n",
       "      <td>0.0</td>\n",
       "      <td>0.111</td>\n",
       "      <td>0.661</td>\n",
       "      <td>95.01</td>\n",
       "      <td>244960</td>\n",
       "    </tr>\n",
       "    <tr>\n",
       "      <th>30629</th>\n",
       "      <td>7BKLCZ1jbUBVqRi2FVlTVw</td>\n",
       "      <td>Closer (feat. Halsey)</td>\n",
       "      <td>The Chainsmokers</td>\n",
       "      <td>85</td>\n",
       "      <td>0rSLgV8p5FzfnqlEk4GzxE</td>\n",
       "      <td>Closer (feat. Halsey)</td>\n",
       "      <td>2016-07-29</td>\n",
       "      <td>2015 songs</td>\n",
       "      <td>6UJw1egIcZVfrBmcKs5uHH</td>\n",
       "      <td>edm</td>\n",
       "      <td>...</td>\n",
       "      <td>8</td>\n",
       "      <td>-5.599</td>\n",
       "      <td>1</td>\n",
       "      <td>0.0338</td>\n",
       "      <td>0.414</td>\n",
       "      <td>0.0</td>\n",
       "      <td>0.111</td>\n",
       "      <td>0.661</td>\n",
       "      <td>95.01</td>\n",
       "      <td>244960</td>\n",
       "    </tr>\n",
       "  </tbody>\n",
       "</table>\n",
       "<p>10 rows × 23 columns</p>\n",
       "</div>"
      ],
      "text/plain": [
       "                     track_id             track_name      track_artist  \\\n",
       "133    7BKLCZ1jbUBVqRi2FVlTVw  Closer (feat. Halsey)  The Chainsmokers   \n",
       "1731   7BKLCZ1jbUBVqRi2FVlTVw  Closer (feat. Halsey)  The Chainsmokers   \n",
       "2478   7BKLCZ1jbUBVqRi2FVlTVw  Closer (feat. Halsey)  The Chainsmokers   \n",
       "4535   7BKLCZ1jbUBVqRi2FVlTVw  Closer (feat. Halsey)  The Chainsmokers   \n",
       "7369   7BKLCZ1jbUBVqRi2FVlTVw  Closer (feat. Halsey)  The Chainsmokers   \n",
       "17467  7BKLCZ1jbUBVqRi2FVlTVw  Closer (feat. Halsey)  The Chainsmokers   \n",
       "18358  7BKLCZ1jbUBVqRi2FVlTVw  Closer (feat. Halsey)  The Chainsmokers   \n",
       "19770  7BKLCZ1jbUBVqRi2FVlTVw  Closer (feat. Halsey)  The Chainsmokers   \n",
       "23784  7BKLCZ1jbUBVqRi2FVlTVw  Closer (feat. Halsey)  The Chainsmokers   \n",
       "30629  7BKLCZ1jbUBVqRi2FVlTVw  Closer (feat. Halsey)  The Chainsmokers   \n",
       "\n",
       "       track_popularity          track_album_id       track_album_name  \\\n",
       "133                  85  0rSLgV8p5FzfnqlEk4GzxE  Closer (feat. Halsey)   \n",
       "1731                 85  0rSLgV8p5FzfnqlEk4GzxE  Closer (feat. Halsey)   \n",
       "2478                 85  0rSLgV8p5FzfnqlEk4GzxE  Closer (feat. Halsey)   \n",
       "4535                 85  0rSLgV8p5FzfnqlEk4GzxE  Closer (feat. Halsey)   \n",
       "7369                 85  0rSLgV8p5FzfnqlEk4GzxE  Closer (feat. Halsey)   \n",
       "17467                85  0rSLgV8p5FzfnqlEk4GzxE  Closer (feat. Halsey)   \n",
       "18358                85  0rSLgV8p5FzfnqlEk4GzxE  Closer (feat. Halsey)   \n",
       "19770                85  0rSLgV8p5FzfnqlEk4GzxE  Closer (feat. Halsey)   \n",
       "23784                85  0rSLgV8p5FzfnqlEk4GzxE  Closer (feat. Halsey)   \n",
       "30629                85  0rSLgV8p5FzfnqlEk4GzxE  Closer (feat. Halsey)   \n",
       "\n",
       "      track_album_release_date  \\\n",
       "133                 2016-07-29   \n",
       "1731                2016-07-29   \n",
       "2478                2016-07-29   \n",
       "4535                2016-07-29   \n",
       "7369                2016-07-29   \n",
       "17467               2016-07-29   \n",
       "18358               2016-07-29   \n",
       "19770               2016-07-29   \n",
       "23784               2016-07-29   \n",
       "30629               2016-07-29   \n",
       "\n",
       "                                           playlist_name  \\\n",
       "133                                            Dance Pop   \n",
       "1731                                       Post pop teen   \n",
       "2478                          Electropop Hits  2017-2020   \n",
       "4535               A Loose Definition of Indie Poptimism   \n",
       "7369   ◤ Hip Hop Dance Music – Urban – Trap – Breakin...   \n",
       "17467                         Tropical House Run 190 BPM   \n",
       "18358     2020 Hits & 2019  Hits – Top Global Tracks 🔥🔥🔥   \n",
       "19770     2020 Hits & 2019  Hits – Top Global Tracks 🔥🔥🔥   \n",
       "23784     2020 Hits & 2019  Hits – Top Global Tracks 🔥🔥🔥   \n",
       "30629                                         2015 songs   \n",
       "\n",
       "                  playlist_id playlist_genre  ... key  loudness  mode  \\\n",
       "133    37i9dQZF1DWZQaaqNMbbXa            pop  ...   8    -5.599     1   \n",
       "1731   222nc9tKxKhfZ2GBrOpwH3            pop  ...   8    -5.599     1   \n",
       "2478   7kyvBmlc1uSqsTL0EuNLrx            pop  ...   8    -5.599     1   \n",
       "4535   4ZO0wp9G8FA3X6oYNBzda6            pop  ...   8    -5.599     1   \n",
       "7369   0Hr2h94pKN8QAGVAgD6BsD            rap  ...   8    -5.599     1   \n",
       "17467  37i9dQZF1DWSTc9FdySHtz          latin  ...   8    -5.599     1   \n",
       "18358  4JkkvMpVl4lSioqQjeAL0q          latin  ...   8    -5.599     1   \n",
       "19770  4JkkvMpVl4lSioqQjeAL0q          latin  ...   8    -5.599     1   \n",
       "23784  4JkkvMpVl4lSioqQjeAL0q            r&b  ...   8    -5.599     1   \n",
       "30629  6UJw1egIcZVfrBmcKs5uHH            edm  ...   8    -5.599     1   \n",
       "\n",
       "       speechiness  acousticness  instrumentalness  liveness  valence  tempo  \\\n",
       "133         0.0338         0.414               0.0     0.111    0.661  95.01   \n",
       "1731        0.0338         0.414               0.0     0.111    0.661  95.01   \n",
       "2478        0.0338         0.414               0.0     0.111    0.661  95.01   \n",
       "4535        0.0338         0.414               0.0     0.111    0.661  95.01   \n",
       "7369        0.0338         0.414               0.0     0.111    0.661  95.01   \n",
       "17467       0.0338         0.414               0.0     0.111    0.661  95.01   \n",
       "18358       0.0338         0.414               0.0     0.111    0.661  95.01   \n",
       "19770       0.0338         0.414               0.0     0.111    0.661  95.01   \n",
       "23784       0.0338         0.414               0.0     0.111    0.661  95.01   \n",
       "30629       0.0338         0.414               0.0     0.111    0.661  95.01   \n",
       "\n",
       "       duration_ms  \n",
       "133         244960  \n",
       "1731        244960  \n",
       "2478        244960  \n",
       "4535        244960  \n",
       "7369        244960  \n",
       "17467       244960  \n",
       "18358       244960  \n",
       "19770       244960  \n",
       "23784       244960  \n",
       "30629       244960  \n",
       "\n",
       "[10 rows x 23 columns]"
      ]
     },
     "execution_count": 7,
     "metadata": {},
     "output_type": "execute_result"
    }
   ],
   "source": [
    "df.loc[ df.track_id.isin(df.track_id.value_counts()[df.track_id.value_counts() == 10].index.to_list()), :]"
   ]
  },
  {
   "cell_type": "markdown",
   "id": "eaae7d1c",
   "metadata": {},
   "source": [
    "Let's check a few of the songs that appear 3 times in the data set."
   ]
  },
  {
   "cell_type": "code",
   "execution_count": 8,
   "id": "083ee0fe",
   "metadata": {},
   "outputs": [
    {
     "data": {
      "text/plain": [
       "5Hroj5K7vLpIG4FNCRIjbP    3\n",
       "37FfCz1YODL6NAuWfxUzJh    3\n",
       "26BkXpWAaajgL2Eh9TA95B    3\n",
       "Name: track_id, dtype: int64"
      ]
     },
     "execution_count": 8,
     "metadata": {},
     "output_type": "execute_result"
    }
   ],
   "source": [
    "df.track_id.value_counts()[df.track_id.value_counts() == 3][:3]"
   ]
  },
  {
   "cell_type": "code",
   "execution_count": 9,
   "id": "44240922",
   "metadata": {},
   "outputs": [
    {
     "data": {
      "text/html": [
       "<div>\n",
       "<style scoped>\n",
       "    .dataframe tbody tr th:only-of-type {\n",
       "        vertical-align: middle;\n",
       "    }\n",
       "\n",
       "    .dataframe tbody tr th {\n",
       "        vertical-align: top;\n",
       "    }\n",
       "\n",
       "    .dataframe thead th {\n",
       "        text-align: right;\n",
       "    }\n",
       "</style>\n",
       "<table border=\"1\" class=\"dataframe\">\n",
       "  <thead>\n",
       "    <tr style=\"text-align: right;\">\n",
       "      <th></th>\n",
       "      <th>track_id</th>\n",
       "      <th>track_name</th>\n",
       "      <th>track_artist</th>\n",
       "      <th>track_popularity</th>\n",
       "      <th>track_album_id</th>\n",
       "      <th>track_album_name</th>\n",
       "      <th>track_album_release_date</th>\n",
       "      <th>playlist_name</th>\n",
       "      <th>playlist_id</th>\n",
       "      <th>playlist_genre</th>\n",
       "      <th>...</th>\n",
       "      <th>key</th>\n",
       "      <th>loudness</th>\n",
       "      <th>mode</th>\n",
       "      <th>speechiness</th>\n",
       "      <th>acousticness</th>\n",
       "      <th>instrumentalness</th>\n",
       "      <th>liveness</th>\n",
       "      <th>valence</th>\n",
       "      <th>tempo</th>\n",
       "      <th>duration_ms</th>\n",
       "    </tr>\n",
       "  </thead>\n",
       "  <tbody>\n",
       "    <tr>\n",
       "      <th>28301</th>\n",
       "      <td>37FfCz1YODL6NAuWfxUzJh</td>\n",
       "      <td>Left Right</td>\n",
       "      <td>Hardwell</td>\n",
       "      <td>58</td>\n",
       "      <td>3192TqWaoGyc53bEHlcl45</td>\n",
       "      <td>Left Right</td>\n",
       "      <td>2019-10-18</td>\n",
       "      <td>Big Room EDM</td>\n",
       "      <td>3S03NWbWkrR1e7DPH9rf9Z</td>\n",
       "      <td>edm</td>\n",
       "      <td>...</td>\n",
       "      <td>10</td>\n",
       "      <td>-3.768</td>\n",
       "      <td>0</td>\n",
       "      <td>0.0666</td>\n",
       "      <td>0.000373</td>\n",
       "      <td>0.353000</td>\n",
       "      <td>0.2850</td>\n",
       "      <td>0.192</td>\n",
       "      <td>128.005</td>\n",
       "      <td>155827</td>\n",
       "    </tr>\n",
       "    <tr>\n",
       "      <th>29830</th>\n",
       "      <td>37FfCz1YODL6NAuWfxUzJh</td>\n",
       "      <td>Left Right</td>\n",
       "      <td>Hardwell</td>\n",
       "      <td>58</td>\n",
       "      <td>3192TqWaoGyc53bEHlcl45</td>\n",
       "      <td>Left Right</td>\n",
       "      <td>2019-10-18</td>\n",
       "      <td>EDM 2019</td>\n",
       "      <td>1T0ed6Mg0QIruHvcoWWIKy</td>\n",
       "      <td>edm</td>\n",
       "      <td>...</td>\n",
       "      <td>10</td>\n",
       "      <td>-3.768</td>\n",
       "      <td>0</td>\n",
       "      <td>0.0666</td>\n",
       "      <td>0.000373</td>\n",
       "      <td>0.353000</td>\n",
       "      <td>0.2850</td>\n",
       "      <td>0.192</td>\n",
       "      <td>128.005</td>\n",
       "      <td>155827</td>\n",
       "    </tr>\n",
       "    <tr>\n",
       "      <th>32072</th>\n",
       "      <td>37FfCz1YODL6NAuWfxUzJh</td>\n",
       "      <td>Left Right</td>\n",
       "      <td>Hardwell</td>\n",
       "      <td>58</td>\n",
       "      <td>3192TqWaoGyc53bEHlcl45</td>\n",
       "      <td>Left Right</td>\n",
       "      <td>2019-10-18</td>\n",
       "      <td>Epic Bass Drops | Best House Mixes</td>\n",
       "      <td>4IS7o1utOzhimFEFnj9gmu</td>\n",
       "      <td>edm</td>\n",
       "      <td>...</td>\n",
       "      <td>10</td>\n",
       "      <td>-3.768</td>\n",
       "      <td>0</td>\n",
       "      <td>0.0666</td>\n",
       "      <td>0.000373</td>\n",
       "      <td>0.353000</td>\n",
       "      <td>0.2850</td>\n",
       "      <td>0.192</td>\n",
       "      <td>128.005</td>\n",
       "      <td>155827</td>\n",
       "    </tr>\n",
       "    <tr>\n",
       "      <th>6598</th>\n",
       "      <td>26BkXpWAaajgL2Eh9TA95B</td>\n",
       "      <td>Givenchy Bag (feat. Future, Nafe Smallz &amp; Chip)</td>\n",
       "      <td>Wiley</td>\n",
       "      <td>61</td>\n",
       "      <td>3kMflVVnVzgLP7EjQbidFU</td>\n",
       "      <td>Givenchy Bag (feat. Future, Nafe Smallz &amp; Chip)</td>\n",
       "      <td>2019-10-03</td>\n",
       "      <td>Rap Workout</td>\n",
       "      <td>37i9dQZF1DX76t638V6CA8</td>\n",
       "      <td>rap</td>\n",
       "      <td>...</td>\n",
       "      <td>11</td>\n",
       "      <td>-6.280</td>\n",
       "      <td>0</td>\n",
       "      <td>0.2690</td>\n",
       "      <td>0.382000</td>\n",
       "      <td>0.000000</td>\n",
       "      <td>0.0875</td>\n",
       "      <td>0.826</td>\n",
       "      <td>97.225</td>\n",
       "      <td>172500</td>\n",
       "    </tr>\n",
       "    <tr>\n",
       "      <th>21966</th>\n",
       "      <td>26BkXpWAaajgL2Eh9TA95B</td>\n",
       "      <td>Givenchy Bag (feat. Future, Nafe Smallz &amp; Chip)</td>\n",
       "      <td>Wiley</td>\n",
       "      <td>61</td>\n",
       "      <td>3kMflVVnVzgLP7EjQbidFU</td>\n",
       "      <td>Givenchy Bag (feat. Future, Nafe Smallz &amp; Chip)</td>\n",
       "      <td>2019-10-03</td>\n",
       "      <td>Chixtape 5 - Tory Lanez</td>\n",
       "      <td>0UXwwVDipbBQeEX7h4YuKU</td>\n",
       "      <td>r&amp;b</td>\n",
       "      <td>...</td>\n",
       "      <td>11</td>\n",
       "      <td>-6.280</td>\n",
       "      <td>0</td>\n",
       "      <td>0.2690</td>\n",
       "      <td>0.382000</td>\n",
       "      <td>0.000000</td>\n",
       "      <td>0.0875</td>\n",
       "      <td>0.826</td>\n",
       "      <td>97.225</td>\n",
       "      <td>172500</td>\n",
       "    </tr>\n",
       "    <tr>\n",
       "      <th>23645</th>\n",
       "      <td>26BkXpWAaajgL2Eh9TA95B</td>\n",
       "      <td>Givenchy Bag (feat. Future, Nafe Smallz &amp; Chip)</td>\n",
       "      <td>Wiley</td>\n",
       "      <td>61</td>\n",
       "      <td>3kMflVVnVzgLP7EjQbidFU</td>\n",
       "      <td>Givenchy Bag (feat. Future, Nafe Smallz &amp; Chip)</td>\n",
       "      <td>2019-10-03</td>\n",
       "      <td>Latest Hits 2020 - Pop, Hip Hop &amp; RnB</td>\n",
       "      <td>7FqZlaYKkQmVnguJbHuj2a</td>\n",
       "      <td>r&amp;b</td>\n",
       "      <td>...</td>\n",
       "      <td>11</td>\n",
       "      <td>-6.280</td>\n",
       "      <td>0</td>\n",
       "      <td>0.2690</td>\n",
       "      <td>0.382000</td>\n",
       "      <td>0.000000</td>\n",
       "      <td>0.0875</td>\n",
       "      <td>0.826</td>\n",
       "      <td>97.225</td>\n",
       "      <td>172500</td>\n",
       "    </tr>\n",
       "    <tr>\n",
       "      <th>1777</th>\n",
       "      <td>5Hroj5K7vLpIG4FNCRIjbP</td>\n",
       "      <td>Best Day Of My Life</td>\n",
       "      <td>American Authors</td>\n",
       "      <td>76</td>\n",
       "      <td>0V4laGZGshNCpurfIdUhHv</td>\n",
       "      <td>Oh, What A Life</td>\n",
       "      <td>2014-01-01</td>\n",
       "      <td>Post pop teen</td>\n",
       "      <td>222nc9tKxKhfZ2GBrOpwH3</td>\n",
       "      <td>pop</td>\n",
       "      <td>...</td>\n",
       "      <td>2</td>\n",
       "      <td>-2.392</td>\n",
       "      <td>1</td>\n",
       "      <td>0.0346</td>\n",
       "      <td>0.059100</td>\n",
       "      <td>0.000262</td>\n",
       "      <td>0.0558</td>\n",
       "      <td>0.538</td>\n",
       "      <td>100.012</td>\n",
       "      <td>194240</td>\n",
       "    </tr>\n",
       "    <tr>\n",
       "      <th>4636</th>\n",
       "      <td>5Hroj5K7vLpIG4FNCRIjbP</td>\n",
       "      <td>Best Day Of My Life</td>\n",
       "      <td>American Authors</td>\n",
       "      <td>76</td>\n",
       "      <td>0V4laGZGshNCpurfIdUhHv</td>\n",
       "      <td>Oh, What A Life</td>\n",
       "      <td>2014-01-01</td>\n",
       "      <td>Intro to Indie Poptimism</td>\n",
       "      <td>6Ylmweq4pT7j3ScIv5uq1c</td>\n",
       "      <td>pop</td>\n",
       "      <td>...</td>\n",
       "      <td>2</td>\n",
       "      <td>-2.392</td>\n",
       "      <td>1</td>\n",
       "      <td>0.0346</td>\n",
       "      <td>0.059100</td>\n",
       "      <td>0.000262</td>\n",
       "      <td>0.0558</td>\n",
       "      <td>0.538</td>\n",
       "      <td>100.012</td>\n",
       "      <td>194240</td>\n",
       "    </tr>\n",
       "    <tr>\n",
       "      <th>20723</th>\n",
       "      <td>5Hroj5K7vLpIG4FNCRIjbP</td>\n",
       "      <td>Best Day Of My Life</td>\n",
       "      <td>American Authors</td>\n",
       "      <td>76</td>\n",
       "      <td>0V4laGZGshNCpurfIdUhHv</td>\n",
       "      <td>Oh, What A Life</td>\n",
       "      <td>2014-01-01</td>\n",
       "      <td>Today's Hits 2000-Present</td>\n",
       "      <td>6a66cg3HcsjYkisYyQcov6</td>\n",
       "      <td>latin</td>\n",
       "      <td>...</td>\n",
       "      <td>2</td>\n",
       "      <td>-2.392</td>\n",
       "      <td>1</td>\n",
       "      <td>0.0346</td>\n",
       "      <td>0.059100</td>\n",
       "      <td>0.000262</td>\n",
       "      <td>0.0558</td>\n",
       "      <td>0.538</td>\n",
       "      <td>100.012</td>\n",
       "      <td>194240</td>\n",
       "    </tr>\n",
       "  </tbody>\n",
       "</table>\n",
       "<p>9 rows × 23 columns</p>\n",
       "</div>"
      ],
      "text/plain": [
       "                     track_id  \\\n",
       "28301  37FfCz1YODL6NAuWfxUzJh   \n",
       "29830  37FfCz1YODL6NAuWfxUzJh   \n",
       "32072  37FfCz1YODL6NAuWfxUzJh   \n",
       "6598   26BkXpWAaajgL2Eh9TA95B   \n",
       "21966  26BkXpWAaajgL2Eh9TA95B   \n",
       "23645  26BkXpWAaajgL2Eh9TA95B   \n",
       "1777   5Hroj5K7vLpIG4FNCRIjbP   \n",
       "4636   5Hroj5K7vLpIG4FNCRIjbP   \n",
       "20723  5Hroj5K7vLpIG4FNCRIjbP   \n",
       "\n",
       "                                            track_name      track_artist  \\\n",
       "28301                                       Left Right          Hardwell   \n",
       "29830                                       Left Right          Hardwell   \n",
       "32072                                       Left Right          Hardwell   \n",
       "6598   Givenchy Bag (feat. Future, Nafe Smallz & Chip)             Wiley   \n",
       "21966  Givenchy Bag (feat. Future, Nafe Smallz & Chip)             Wiley   \n",
       "23645  Givenchy Bag (feat. Future, Nafe Smallz & Chip)             Wiley   \n",
       "1777                               Best Day Of My Life  American Authors   \n",
       "4636                               Best Day Of My Life  American Authors   \n",
       "20723                              Best Day Of My Life  American Authors   \n",
       "\n",
       "       track_popularity          track_album_id  \\\n",
       "28301                58  3192TqWaoGyc53bEHlcl45   \n",
       "29830                58  3192TqWaoGyc53bEHlcl45   \n",
       "32072                58  3192TqWaoGyc53bEHlcl45   \n",
       "6598                 61  3kMflVVnVzgLP7EjQbidFU   \n",
       "21966                61  3kMflVVnVzgLP7EjQbidFU   \n",
       "23645                61  3kMflVVnVzgLP7EjQbidFU   \n",
       "1777                 76  0V4laGZGshNCpurfIdUhHv   \n",
       "4636                 76  0V4laGZGshNCpurfIdUhHv   \n",
       "20723                76  0V4laGZGshNCpurfIdUhHv   \n",
       "\n",
       "                                      track_album_name  \\\n",
       "28301                                       Left Right   \n",
       "29830                                       Left Right   \n",
       "32072                                       Left Right   \n",
       "6598   Givenchy Bag (feat. Future, Nafe Smallz & Chip)   \n",
       "21966  Givenchy Bag (feat. Future, Nafe Smallz & Chip)   \n",
       "23645  Givenchy Bag (feat. Future, Nafe Smallz & Chip)   \n",
       "1777                                   Oh, What A Life   \n",
       "4636                                   Oh, What A Life   \n",
       "20723                                  Oh, What A Life   \n",
       "\n",
       "      track_album_release_date                          playlist_name  \\\n",
       "28301               2019-10-18                           Big Room EDM   \n",
       "29830               2019-10-18                               EDM 2019   \n",
       "32072               2019-10-18     Epic Bass Drops | Best House Mixes   \n",
       "6598                2019-10-03                            Rap Workout   \n",
       "21966               2019-10-03                Chixtape 5 - Tory Lanez   \n",
       "23645               2019-10-03  Latest Hits 2020 - Pop, Hip Hop & RnB   \n",
       "1777                2014-01-01                          Post pop teen   \n",
       "4636                2014-01-01               Intro to Indie Poptimism   \n",
       "20723               2014-01-01              Today's Hits 2000-Present   \n",
       "\n",
       "                  playlist_id playlist_genre  ... key  loudness  mode  \\\n",
       "28301  3S03NWbWkrR1e7DPH9rf9Z            edm  ...  10    -3.768     0   \n",
       "29830  1T0ed6Mg0QIruHvcoWWIKy            edm  ...  10    -3.768     0   \n",
       "32072  4IS7o1utOzhimFEFnj9gmu            edm  ...  10    -3.768     0   \n",
       "6598   37i9dQZF1DX76t638V6CA8            rap  ...  11    -6.280     0   \n",
       "21966  0UXwwVDipbBQeEX7h4YuKU            r&b  ...  11    -6.280     0   \n",
       "23645  7FqZlaYKkQmVnguJbHuj2a            r&b  ...  11    -6.280     0   \n",
       "1777   222nc9tKxKhfZ2GBrOpwH3            pop  ...   2    -2.392     1   \n",
       "4636   6Ylmweq4pT7j3ScIv5uq1c            pop  ...   2    -2.392     1   \n",
       "20723  6a66cg3HcsjYkisYyQcov6          latin  ...   2    -2.392     1   \n",
       "\n",
       "       speechiness  acousticness  instrumentalness  liveness  valence  \\\n",
       "28301       0.0666      0.000373          0.353000    0.2850    0.192   \n",
       "29830       0.0666      0.000373          0.353000    0.2850    0.192   \n",
       "32072       0.0666      0.000373          0.353000    0.2850    0.192   \n",
       "6598        0.2690      0.382000          0.000000    0.0875    0.826   \n",
       "21966       0.2690      0.382000          0.000000    0.0875    0.826   \n",
       "23645       0.2690      0.382000          0.000000    0.0875    0.826   \n",
       "1777        0.0346      0.059100          0.000262    0.0558    0.538   \n",
       "4636        0.0346      0.059100          0.000262    0.0558    0.538   \n",
       "20723       0.0346      0.059100          0.000262    0.0558    0.538   \n",
       "\n",
       "         tempo  duration_ms  \n",
       "28301  128.005       155827  \n",
       "29830  128.005       155827  \n",
       "32072  128.005       155827  \n",
       "6598    97.225       172500  \n",
       "21966   97.225       172500  \n",
       "23645   97.225       172500  \n",
       "1777   100.012       194240  \n",
       "4636   100.012       194240  \n",
       "20723  100.012       194240  \n",
       "\n",
       "[9 rows x 23 columns]"
      ]
     },
     "execution_count": 9,
     "metadata": {},
     "output_type": "execute_result"
    }
   ],
   "source": [
    "df.loc[ df.track_id.isin(df.track_id.value_counts()[df.track_id.value_counts() == 3][:3].index.to_list()), :].sort_values('track_popularity')"
   ]
  },
  {
   "cell_type": "markdown",
   "id": "93f7e2e9",
   "metadata": {},
   "source": [
    "Again we see that the columns are the same **except** for the play list related columns! Since the unique `track_id` seems to be appearing in multiple playlists, let's check the number of unique `playlist_id` values."
   ]
  },
  {
   "cell_type": "code",
   "execution_count": 10,
   "id": "640727c7",
   "metadata": {},
   "outputs": [
    {
     "data": {
      "text/plain": [
       "471"
      ]
     },
     "execution_count": 10,
     "metadata": {},
     "output_type": "execute_result"
    }
   ],
   "source": [
    "df.playlist_id.nunique()"
   ]
  },
  {
   "cell_type": "markdown",
   "id": "700cc25c",
   "metadata": {},
   "source": [
    "Next, let's consider the number of rows associated with each combination of `track_id` and `playlist_id`."
   ]
  },
  {
   "cell_type": "code",
   "execution_count": 11,
   "id": "3021f05e",
   "metadata": {},
   "outputs": [
    {
     "data": {
      "text/html": [
       "<div>\n",
       "<style scoped>\n",
       "    .dataframe tbody tr th:only-of-type {\n",
       "        vertical-align: middle;\n",
       "    }\n",
       "\n",
       "    .dataframe tbody tr th {\n",
       "        vertical-align: top;\n",
       "    }\n",
       "\n",
       "    .dataframe thead th {\n",
       "        text-align: right;\n",
       "    }\n",
       "</style>\n",
       "<table border=\"1\" class=\"dataframe\">\n",
       "  <thead>\n",
       "    <tr style=\"text-align: right;\">\n",
       "      <th></th>\n",
       "      <th>track_id</th>\n",
       "      <th>playlist_id</th>\n",
       "      <th>num_rows</th>\n",
       "    </tr>\n",
       "  </thead>\n",
       "  <tbody>\n",
       "    <tr>\n",
       "      <th>0</th>\n",
       "      <td>0017A6SJgTbfQVU2EtsPNo</td>\n",
       "      <td>37i9dQZF1DWYDQ8wBxd7xt</td>\n",
       "      <td>1</td>\n",
       "    </tr>\n",
       "    <tr>\n",
       "      <th>1</th>\n",
       "      <td>002xjHwzEx66OWFV2IP9dk</td>\n",
       "      <td>0JmBB9HfrzDiZoPVRdv8ns</td>\n",
       "      <td>1</td>\n",
       "    </tr>\n",
       "    <tr>\n",
       "      <th>2</th>\n",
       "      <td>004s3t0ONYlzxII9PLgU6z</td>\n",
       "      <td>3YouF0u7waJnolytf9JCXf</td>\n",
       "      <td>1</td>\n",
       "    </tr>\n",
       "    <tr>\n",
       "      <th>3</th>\n",
       "      <td>008MceT31RotUANsKuzy3L</td>\n",
       "      <td>5TiiHps0hNCyQ6ijVkNZQs</td>\n",
       "      <td>1</td>\n",
       "    </tr>\n",
       "    <tr>\n",
       "      <th>4</th>\n",
       "      <td>008rk8F6ZxspZT4bUlkIQG</td>\n",
       "      <td>37i9dQZF1DXdOtZGKonFlM</td>\n",
       "      <td>1</td>\n",
       "    </tr>\n",
       "    <tr>\n",
       "      <th>...</th>\n",
       "      <td>...</td>\n",
       "      <td>...</td>\n",
       "      <td>...</td>\n",
       "    </tr>\n",
       "    <tr>\n",
       "      <th>32246</th>\n",
       "      <td>7zxRMhXxJMQCeDDg0rKAVo</td>\n",
       "      <td>6HaCi9bqaiuSZEDfCEmwyo</td>\n",
       "      <td>1</td>\n",
       "    </tr>\n",
       "    <tr>\n",
       "      <th>32247</th>\n",
       "      <td>7zyLObYw4QUKQDyZOb4J0Y</td>\n",
       "      <td>4sji14lrB5bgcr51lPALYH</td>\n",
       "      <td>1</td>\n",
       "    </tr>\n",
       "    <tr>\n",
       "      <th>32248</th>\n",
       "      <td>7zycSpvjDcqh6YT1FEl2kY</td>\n",
       "      <td>1kEczIkZH8IgaWT2BiApxZ</td>\n",
       "      <td>1</td>\n",
       "    </tr>\n",
       "    <tr>\n",
       "      <th>32249</th>\n",
       "      <td>7zye9v6B785eFWEFYs13C2</td>\n",
       "      <td>5EMARioe9z9eKOeWIAC2JW</td>\n",
       "      <td>1</td>\n",
       "    </tr>\n",
       "    <tr>\n",
       "      <th>32250</th>\n",
       "      <td>7zzZmpw8L66ZPjH1M6qmOs</td>\n",
       "      <td>37i9dQZF1DWYDQ8wBxd7xt</td>\n",
       "      <td>1</td>\n",
       "    </tr>\n",
       "  </tbody>\n",
       "</table>\n",
       "<p>32251 rows × 3 columns</p>\n",
       "</div>"
      ],
      "text/plain": [
       "                     track_id             playlist_id  num_rows\n",
       "0      0017A6SJgTbfQVU2EtsPNo  37i9dQZF1DWYDQ8wBxd7xt         1\n",
       "1      002xjHwzEx66OWFV2IP9dk  0JmBB9HfrzDiZoPVRdv8ns         1\n",
       "2      004s3t0ONYlzxII9PLgU6z  3YouF0u7waJnolytf9JCXf         1\n",
       "3      008MceT31RotUANsKuzy3L  5TiiHps0hNCyQ6ijVkNZQs         1\n",
       "4      008rk8F6ZxspZT4bUlkIQG  37i9dQZF1DXdOtZGKonFlM         1\n",
       "...                       ...                     ...       ...\n",
       "32246  7zxRMhXxJMQCeDDg0rKAVo  6HaCi9bqaiuSZEDfCEmwyo         1\n",
       "32247  7zyLObYw4QUKQDyZOb4J0Y  4sji14lrB5bgcr51lPALYH         1\n",
       "32248  7zycSpvjDcqh6YT1FEl2kY  1kEczIkZH8IgaWT2BiApxZ         1\n",
       "32249  7zye9v6B785eFWEFYs13C2  5EMARioe9z9eKOeWIAC2JW         1\n",
       "32250  7zzZmpw8L66ZPjH1M6qmOs  37i9dQZF1DWYDQ8wBxd7xt         1\n",
       "\n",
       "[32251 rows x 3 columns]"
      ]
     },
     "execution_count": 11,
     "metadata": {},
     "output_type": "execute_result"
    }
   ],
   "source": [
    "df.groupby(['track_id', 'playlist_id']).size().reset_index(name='num_rows')"
   ]
  },
  {
   "cell_type": "markdown",
   "id": "f8078f03",
   "metadata": {},
   "source": [
    "Applying `.value_counts()` to the number of rows per combination of `track_id` and `playlist_id`, `num_rows`, reveals 31719 `track_id` and `playlist_id` combinations appear once and only once. However, over 500 combinations appear more than once!"
   ]
  },
  {
   "cell_type": "code",
   "execution_count": 12,
   "id": "336457fc",
   "metadata": {},
   "outputs": [
    {
     "data": {
      "text/plain": [
       "1    31719\n",
       "2      482\n",
       "3       50\n",
       "Name: num_rows, dtype: int64"
      ]
     },
     "execution_count": 12,
     "metadata": {},
     "output_type": "execute_result"
    }
   ],
   "source": [
    "df.groupby(['track_id', 'playlist_id']).size().reset_index(name='num_rows').num_rows.value_counts()"
   ]
  },
  {
   "cell_type": "markdown",
   "id": "b3202724",
   "metadata": {},
   "source": [
    "What if we count the number of rows associated with each combination of `track_id`, `track_album_id`, and `playlist_id`? The cell below does just that. Look closely at the number of rows associated with the resulting DataFrame. The result has the same number of rows as our previous grouping!"
   ]
  },
  {
   "cell_type": "code",
   "execution_count": 13,
   "id": "b008f3bc",
   "metadata": {},
   "outputs": [
    {
     "data": {
      "text/html": [
       "<div>\n",
       "<style scoped>\n",
       "    .dataframe tbody tr th:only-of-type {\n",
       "        vertical-align: middle;\n",
       "    }\n",
       "\n",
       "    .dataframe tbody tr th {\n",
       "        vertical-align: top;\n",
       "    }\n",
       "\n",
       "    .dataframe thead th {\n",
       "        text-align: right;\n",
       "    }\n",
       "</style>\n",
       "<table border=\"1\" class=\"dataframe\">\n",
       "  <thead>\n",
       "    <tr style=\"text-align: right;\">\n",
       "      <th></th>\n",
       "      <th>track_id</th>\n",
       "      <th>track_album_id</th>\n",
       "      <th>playlist_id</th>\n",
       "      <th>num_rows</th>\n",
       "    </tr>\n",
       "  </thead>\n",
       "  <tbody>\n",
       "    <tr>\n",
       "      <th>0</th>\n",
       "      <td>0017A6SJgTbfQVU2EtsPNo</td>\n",
       "      <td>1srJQ0njEQgd8w4XSqI4JQ</td>\n",
       "      <td>37i9dQZF1DWYDQ8wBxd7xt</td>\n",
       "      <td>1</td>\n",
       "    </tr>\n",
       "    <tr>\n",
       "      <th>1</th>\n",
       "      <td>002xjHwzEx66OWFV2IP9dk</td>\n",
       "      <td>1ficfUnZMaY1QkNp15Slzm</td>\n",
       "      <td>0JmBB9HfrzDiZoPVRdv8ns</td>\n",
       "      <td>1</td>\n",
       "    </tr>\n",
       "    <tr>\n",
       "      <th>2</th>\n",
       "      <td>004s3t0ONYlzxII9PLgU6z</td>\n",
       "      <td>3z04Lb9Dsilqw68SHt6jLB</td>\n",
       "      <td>3YouF0u7waJnolytf9JCXf</td>\n",
       "      <td>1</td>\n",
       "    </tr>\n",
       "    <tr>\n",
       "      <th>3</th>\n",
       "      <td>008MceT31RotUANsKuzy3L</td>\n",
       "      <td>1Z4ANBVuhTlS6DprlP0m1q</td>\n",
       "      <td>5TiiHps0hNCyQ6ijVkNZQs</td>\n",
       "      <td>1</td>\n",
       "    </tr>\n",
       "    <tr>\n",
       "      <th>4</th>\n",
       "      <td>008rk8F6ZxspZT4bUlkIQG</td>\n",
       "      <td>2BuYm9UcKvI0ydXs5JKwt0</td>\n",
       "      <td>37i9dQZF1DXdOtZGKonFlM</td>\n",
       "      <td>1</td>\n",
       "    </tr>\n",
       "    <tr>\n",
       "      <th>...</th>\n",
       "      <td>...</td>\n",
       "      <td>...</td>\n",
       "      <td>...</td>\n",
       "      <td>...</td>\n",
       "    </tr>\n",
       "    <tr>\n",
       "      <th>32246</th>\n",
       "      <td>7zxRMhXxJMQCeDDg0rKAVo</td>\n",
       "      <td>4JR29CNW14Zc4Z5vflxkoJ</td>\n",
       "      <td>6HaCi9bqaiuSZEDfCEmwyo</td>\n",
       "      <td>1</td>\n",
       "    </tr>\n",
       "    <tr>\n",
       "      <th>32247</th>\n",
       "      <td>7zyLObYw4QUKQDyZOb4J0Y</td>\n",
       "      <td>14HYMxFhpgDIr9cci1u0kt</td>\n",
       "      <td>4sji14lrB5bgcr51lPALYH</td>\n",
       "      <td>1</td>\n",
       "    </tr>\n",
       "    <tr>\n",
       "      <th>32248</th>\n",
       "      <td>7zycSpvjDcqh6YT1FEl2kY</td>\n",
       "      <td>5qs8T6ZHSrnllnOuUk6muC</td>\n",
       "      <td>1kEczIkZH8IgaWT2BiApxZ</td>\n",
       "      <td>1</td>\n",
       "    </tr>\n",
       "    <tr>\n",
       "      <th>32249</th>\n",
       "      <td>7zye9v6B785eFWEFYs13C2</td>\n",
       "      <td>1xdgLmTFMSyJyI5DJOOX7T</td>\n",
       "      <td>5EMARioe9z9eKOeWIAC2JW</td>\n",
       "      <td>1</td>\n",
       "    </tr>\n",
       "    <tr>\n",
       "      <th>32250</th>\n",
       "      <td>7zzZmpw8L66ZPjH1M6qmOs</td>\n",
       "      <td>4t3FtECyV1gClHmpBhXSfB</td>\n",
       "      <td>37i9dQZF1DWYDQ8wBxd7xt</td>\n",
       "      <td>1</td>\n",
       "    </tr>\n",
       "  </tbody>\n",
       "</table>\n",
       "<p>32251 rows × 4 columns</p>\n",
       "</div>"
      ],
      "text/plain": [
       "                     track_id          track_album_id             playlist_id  \\\n",
       "0      0017A6SJgTbfQVU2EtsPNo  1srJQ0njEQgd8w4XSqI4JQ  37i9dQZF1DWYDQ8wBxd7xt   \n",
       "1      002xjHwzEx66OWFV2IP9dk  1ficfUnZMaY1QkNp15Slzm  0JmBB9HfrzDiZoPVRdv8ns   \n",
       "2      004s3t0ONYlzxII9PLgU6z  3z04Lb9Dsilqw68SHt6jLB  3YouF0u7waJnolytf9JCXf   \n",
       "3      008MceT31RotUANsKuzy3L  1Z4ANBVuhTlS6DprlP0m1q  5TiiHps0hNCyQ6ijVkNZQs   \n",
       "4      008rk8F6ZxspZT4bUlkIQG  2BuYm9UcKvI0ydXs5JKwt0  37i9dQZF1DXdOtZGKonFlM   \n",
       "...                       ...                     ...                     ...   \n",
       "32246  7zxRMhXxJMQCeDDg0rKAVo  4JR29CNW14Zc4Z5vflxkoJ  6HaCi9bqaiuSZEDfCEmwyo   \n",
       "32247  7zyLObYw4QUKQDyZOb4J0Y  14HYMxFhpgDIr9cci1u0kt  4sji14lrB5bgcr51lPALYH   \n",
       "32248  7zycSpvjDcqh6YT1FEl2kY  5qs8T6ZHSrnllnOuUk6muC  1kEczIkZH8IgaWT2BiApxZ   \n",
       "32249  7zye9v6B785eFWEFYs13C2  1xdgLmTFMSyJyI5DJOOX7T  5EMARioe9z9eKOeWIAC2JW   \n",
       "32250  7zzZmpw8L66ZPjH1M6qmOs  4t3FtECyV1gClHmpBhXSfB  37i9dQZF1DWYDQ8wBxd7xt   \n",
       "\n",
       "       num_rows  \n",
       "0             1  \n",
       "1             1  \n",
       "2             1  \n",
       "3             1  \n",
       "4             1  \n",
       "...         ...  \n",
       "32246         1  \n",
       "32247         1  \n",
       "32248         1  \n",
       "32249         1  \n",
       "32250         1  \n",
       "\n",
       "[32251 rows x 4 columns]"
      ]
     },
     "execution_count": 13,
     "metadata": {},
     "output_type": "execute_result"
    }
   ],
   "source": [
    "df.groupby(['track_id', 'track_album_id', 'playlist_id']).size().reset_index(name='num_rows')"
   ]
  },
  {
   "cell_type": "markdown",
   "id": "5ce1625a",
   "metadata": {},
   "source": [
    "Applying `.value_counts` to `num_rows` associated with `track_id`, `track_album_id`, and `playlist_id`, reveals that again there over 500 combinations with more than 1 row. "
   ]
  },
  {
   "cell_type": "code",
   "execution_count": 14,
   "id": "99db928c",
   "metadata": {},
   "outputs": [
    {
     "data": {
      "text/plain": [
       "1    31719\n",
       "2      482\n",
       "3       50\n",
       "Name: num_rows, dtype: int64"
      ]
     },
     "execution_count": 14,
     "metadata": {},
     "output_type": "execute_result"
    }
   ],
   "source": [
    "df.groupby(['track_id', 'track_album_id', 'playlist_id']).size().reset_index(name='num_rows').\\\n",
    "num_rows.value_counts()"
   ]
  },
  {
   "cell_type": "markdown",
   "id": "4437b13f",
   "metadata": {},
   "source": [
    "The point of the above exploration is to show that one row is **NOT** one song (track). One row is mostly one track from an album within one play list. However, there are over 500 **DUPLICATED** tracks!\n",
    "\n",
    "This is important because you will ultimately be predicting the output `track_popularity` based on the track features. You want to make sure you are **not** double, triple, or even 10x counting a single track in your models! \n",
    "\n",
    "A thorough exploration therefore needs to check if the duplication of the `track_id` is associated with changes to the output, `track_popularity`, and the inputs of interest. You must do this for the final project, but the cell below demonstrates how to do this for the output, `track_popularity`, and one of the input features, `valence`. \n",
    "\n",
    "The cell below groups by the `track_id` and applies the `nunique()` method to count the number of unique values of the variables associated with each `track_id`."
   ]
  },
  {
   "cell_type": "code",
   "execution_count": 15,
   "id": "0b7bddc3",
   "metadata": {},
   "outputs": [
    {
     "data": {
      "text/html": [
       "<div>\n",
       "<style scoped>\n",
       "    .dataframe tbody tr th:only-of-type {\n",
       "        vertical-align: middle;\n",
       "    }\n",
       "\n",
       "    .dataframe tbody tr th {\n",
       "        vertical-align: top;\n",
       "    }\n",
       "\n",
       "    .dataframe thead th {\n",
       "        text-align: right;\n",
       "    }\n",
       "</style>\n",
       "<table border=\"1\" class=\"dataframe\">\n",
       "  <thead>\n",
       "    <tr style=\"text-align: right;\">\n",
       "      <th></th>\n",
       "      <th>track_id</th>\n",
       "      <th>num_track_pop_values</th>\n",
       "      <th>num_valence_values</th>\n",
       "    </tr>\n",
       "  </thead>\n",
       "  <tbody>\n",
       "    <tr>\n",
       "      <th>0</th>\n",
       "      <td>0017A6SJgTbfQVU2EtsPNo</td>\n",
       "      <td>1</td>\n",
       "      <td>1</td>\n",
       "    </tr>\n",
       "    <tr>\n",
       "      <th>1</th>\n",
       "      <td>002xjHwzEx66OWFV2IP9dk</td>\n",
       "      <td>1</td>\n",
       "      <td>1</td>\n",
       "    </tr>\n",
       "    <tr>\n",
       "      <th>2</th>\n",
       "      <td>004s3t0ONYlzxII9PLgU6z</td>\n",
       "      <td>1</td>\n",
       "      <td>1</td>\n",
       "    </tr>\n",
       "    <tr>\n",
       "      <th>3</th>\n",
       "      <td>008MceT31RotUANsKuzy3L</td>\n",
       "      <td>1</td>\n",
       "      <td>1</td>\n",
       "    </tr>\n",
       "    <tr>\n",
       "      <th>4</th>\n",
       "      <td>008rk8F6ZxspZT4bUlkIQG</td>\n",
       "      <td>1</td>\n",
       "      <td>1</td>\n",
       "    </tr>\n",
       "    <tr>\n",
       "      <th>...</th>\n",
       "      <td>...</td>\n",
       "      <td>...</td>\n",
       "      <td>...</td>\n",
       "    </tr>\n",
       "    <tr>\n",
       "      <th>28351</th>\n",
       "      <td>7zxRMhXxJMQCeDDg0rKAVo</td>\n",
       "      <td>1</td>\n",
       "      <td>1</td>\n",
       "    </tr>\n",
       "    <tr>\n",
       "      <th>28352</th>\n",
       "      <td>7zyLObYw4QUKQDyZOb4J0Y</td>\n",
       "      <td>1</td>\n",
       "      <td>1</td>\n",
       "    </tr>\n",
       "    <tr>\n",
       "      <th>28353</th>\n",
       "      <td>7zycSpvjDcqh6YT1FEl2kY</td>\n",
       "      <td>1</td>\n",
       "      <td>1</td>\n",
       "    </tr>\n",
       "    <tr>\n",
       "      <th>28354</th>\n",
       "      <td>7zye9v6B785eFWEFYs13C2</td>\n",
       "      <td>1</td>\n",
       "      <td>1</td>\n",
       "    </tr>\n",
       "    <tr>\n",
       "      <th>28355</th>\n",
       "      <td>7zzZmpw8L66ZPjH1M6qmOs</td>\n",
       "      <td>1</td>\n",
       "      <td>1</td>\n",
       "    </tr>\n",
       "  </tbody>\n",
       "</table>\n",
       "<p>28356 rows × 3 columns</p>\n",
       "</div>"
      ],
      "text/plain": [
       "                     track_id  num_track_pop_values  num_valence_values\n",
       "0      0017A6SJgTbfQVU2EtsPNo                     1                   1\n",
       "1      002xjHwzEx66OWFV2IP9dk                     1                   1\n",
       "2      004s3t0ONYlzxII9PLgU6z                     1                   1\n",
       "3      008MceT31RotUANsKuzy3L                     1                   1\n",
       "4      008rk8F6ZxspZT4bUlkIQG                     1                   1\n",
       "...                       ...                   ...                 ...\n",
       "28351  7zxRMhXxJMQCeDDg0rKAVo                     1                   1\n",
       "28352  7zyLObYw4QUKQDyZOb4J0Y                     1                   1\n",
       "28353  7zycSpvjDcqh6YT1FEl2kY                     1                   1\n",
       "28354  7zye9v6B785eFWEFYs13C2                     1                   1\n",
       "28355  7zzZmpw8L66ZPjH1M6qmOs                     1                   1\n",
       "\n",
       "[28356 rows x 3 columns]"
      ]
     },
     "execution_count": 15,
     "metadata": {},
     "output_type": "execute_result"
    }
   ],
   "source": [
    "df.groupby(['track_id']).\\\n",
    "aggregate(num_track_pop_values = ('track_popularity', 'nunique'),\n",
    "          num_valence_values = ('valence', 'nunique')).\\\n",
    "reset_index()"
   ]
  },
  {
   "cell_type": "markdown",
   "id": "bb9f6c36",
   "metadata": {},
   "source": [
    "The `.nunique()` method is applied to the grouped and aggregated DataFrame. This reveals that there is 1 and only 1 value for `num_track_pop_values` and `num_valence_values`. Thus, all unique tracks have a single `track_popularity` value and single `valence` value!"
   ]
  },
  {
   "cell_type": "code",
   "execution_count": 16,
   "id": "46a001c9",
   "metadata": {},
   "outputs": [
    {
     "data": {
      "text/plain": [
       "track_id                28356\n",
       "num_track_pop_values        1\n",
       "num_valence_values          1\n",
       "dtype: int64"
      ]
     },
     "execution_count": 16,
     "metadata": {},
     "output_type": "execute_result"
    }
   ],
   "source": [
    "df.groupby(['track_id']).\\\n",
    "aggregate(num_track_pop_values = ('track_popularity', 'nunique'),\n",
    "          num_valence_values = ('valence', 'nunique')).\\\n",
    "reset_index().\\\n",
    "nunique()"
   ]
  },
  {
   "cell_type": "markdown",
   "id": "b7c17038",
   "metadata": {},
   "source": [
    "Again you **must** do this to ensure a track does not have different features within the various playlists. After performing these checks you will create the **cleaned** data for modeling by either:  \n",
    "\n",
    "* Only using the tracks that appear once and only once in the data\n",
    "\n",
    "**OR**  \n",
    "\n",
    "* Use a summary statistic such as the average value of the continuous inputs and the most common categorical value across all playlists\n",
    "\n",
    "Using only unique tracks will reduce the data size, but there are no issues with \"ties\". If all tracks have just 1 value for all inputs (categorical and continuous) then there are no ties and you have nothing to worry about. However, if one or more of the inputs have different values in different rows then you are summarizing the value for modeling purposes. The choice of summary statistic will impact the modeling behavior, but a choice must be made."
   ]
  },
  {
   "cell_type": "markdown",
   "id": "797197c5",
   "metadata": {},
   "source": [
    "### Date\n",
    "\n",
    "The `track_album_release_date` variable is an object data type (string). However, as we can see in the previously shown dataframe snippets the `track_album_release_date` \"looks\" like a calendar date. Unfortunately, due to time we will not discuss datetime variables in this course. This topic is reserved for the following courses, CMPINF 2110 and CMPINF 2120. However, it could be useful to include date information in this application. This report demonstrates how to extract month and date information from the `track_album_release_date` variable. This is accomplished by first converting the variable to a date time object via the `pd.to_datetime()` function.\n",
    "\n",
    "The `pd.to_datetime()` function is applied to the first 5 rows in the cell below. The print out looks consistent with the display in the previous print outs."
   ]
  },
  {
   "cell_type": "code",
   "execution_count": 17,
   "id": "f41940f9",
   "metadata": {},
   "outputs": [
    {
     "data": {
      "text/plain": [
       "0   2019-06-14\n",
       "1   2019-12-13\n",
       "2   2019-07-05\n",
       "3   2019-07-19\n",
       "4   2019-03-05\n",
       "Name: track_album_release_date, dtype: datetime64[ns]"
      ]
     },
     "execution_count": 17,
     "metadata": {},
     "output_type": "execute_result"
    }
   ],
   "source": [
    "pd.to_datetime( df.track_album_release_date[:5] )"
   ]
  },
  {
   "cell_type": "markdown",
   "id": "f8bb55fe",
   "metadata": {},
   "source": [
    "The cell below makes a copy of the data set and then adds in a column `track_album_release_date_dt` which is the datetime converted `track_album_release_date` variable."
   ]
  },
  {
   "cell_type": "code",
   "execution_count": 18,
   "id": "98b87489",
   "metadata": {},
   "outputs": [],
   "source": [
    "df_copy = df.copy()\n",
    "\n",
    "df_copy['track_album_release_date_dt'] = pd.to_datetime( df.track_album_release_date )"
   ]
  },
  {
   "cell_type": "markdown",
   "id": "adb8247d",
   "metadata": {},
   "source": [
    "The first 5 rows for the two date style columsn are shown below. Again, the print out looks the same."
   ]
  },
  {
   "cell_type": "code",
   "execution_count": 19,
   "id": "f547096f",
   "metadata": {},
   "outputs": [
    {
     "data": {
      "text/html": [
       "<div>\n",
       "<style scoped>\n",
       "    .dataframe tbody tr th:only-of-type {\n",
       "        vertical-align: middle;\n",
       "    }\n",
       "\n",
       "    .dataframe tbody tr th {\n",
       "        vertical-align: top;\n",
       "    }\n",
       "\n",
       "    .dataframe thead th {\n",
       "        text-align: right;\n",
       "    }\n",
       "</style>\n",
       "<table border=\"1\" class=\"dataframe\">\n",
       "  <thead>\n",
       "    <tr style=\"text-align: right;\">\n",
       "      <th></th>\n",
       "      <th>track_id</th>\n",
       "      <th>track_album_release_date</th>\n",
       "      <th>track_album_release_date_dt</th>\n",
       "    </tr>\n",
       "  </thead>\n",
       "  <tbody>\n",
       "    <tr>\n",
       "      <th>0</th>\n",
       "      <td>6f807x0ima9a1j3VPbc7VN</td>\n",
       "      <td>2019-06-14</td>\n",
       "      <td>2019-06-14</td>\n",
       "    </tr>\n",
       "    <tr>\n",
       "      <th>1</th>\n",
       "      <td>0r7CVbZTWZgbTCYdfa2P31</td>\n",
       "      <td>2019-12-13</td>\n",
       "      <td>2019-12-13</td>\n",
       "    </tr>\n",
       "    <tr>\n",
       "      <th>2</th>\n",
       "      <td>1z1Hg7Vb0AhHDiEmnDE79l</td>\n",
       "      <td>2019-07-05</td>\n",
       "      <td>2019-07-05</td>\n",
       "    </tr>\n",
       "    <tr>\n",
       "      <th>3</th>\n",
       "      <td>75FpbthrwQmzHlBJLuGdC7</td>\n",
       "      <td>2019-07-19</td>\n",
       "      <td>2019-07-19</td>\n",
       "    </tr>\n",
       "    <tr>\n",
       "      <th>4</th>\n",
       "      <td>1e8PAfcKUYoKkxPhrHqw4x</td>\n",
       "      <td>2019-03-05</td>\n",
       "      <td>2019-03-05</td>\n",
       "    </tr>\n",
       "    <tr>\n",
       "      <th>5</th>\n",
       "      <td>7fvUMiyapMsRRxr07cU8Ef</td>\n",
       "      <td>2019-07-11</td>\n",
       "      <td>2019-07-11</td>\n",
       "    </tr>\n",
       "  </tbody>\n",
       "</table>\n",
       "</div>"
      ],
      "text/plain": [
       "                 track_id track_album_release_date track_album_release_date_dt\n",
       "0  6f807x0ima9a1j3VPbc7VN               2019-06-14                  2019-06-14\n",
       "1  0r7CVbZTWZgbTCYdfa2P31               2019-12-13                  2019-12-13\n",
       "2  1z1Hg7Vb0AhHDiEmnDE79l               2019-07-05                  2019-07-05\n",
       "3  75FpbthrwQmzHlBJLuGdC7               2019-07-19                  2019-07-19\n",
       "4  1e8PAfcKUYoKkxPhrHqw4x               2019-03-05                  2019-03-05\n",
       "5  7fvUMiyapMsRRxr07cU8Ef               2019-07-11                  2019-07-11"
      ]
     },
     "execution_count": 19,
     "metadata": {},
     "output_type": "execute_result"
    }
   ],
   "source": [
    "df_copy.loc[:5, ['track_id', 'track_album_release_date', 'track_album_release_date_dt']]"
   ]
  },
  {
   "cell_type": "markdown",
   "id": "f30433b7",
   "metadata": {},
   "source": [
    "But, the two columns are not the same. The `track_album_release_date_dt` column is a datetime object!"
   ]
  },
  {
   "cell_type": "code",
   "execution_count": 20,
   "id": "a86ead38",
   "metadata": {},
   "outputs": [
    {
     "name": "stdout",
     "output_type": "stream",
     "text": [
      "<class 'pandas.core.frame.DataFrame'>\n",
      "RangeIndex: 32833 entries, 0 to 32832\n",
      "Data columns (total 3 columns):\n",
      " #   Column                       Non-Null Count  Dtype         \n",
      "---  ------                       --------------  -----         \n",
      " 0   track_id                     32833 non-null  object        \n",
      " 1   track_album_release_date     32833 non-null  object        \n",
      " 2   track_album_release_date_dt  32833 non-null  datetime64[ns]\n",
      "dtypes: datetime64[ns](1), object(2)\n",
      "memory usage: 769.6+ KB\n"
     ]
    }
   ],
   "source": [
    "df_copy.loc[:, ['track_id', 'track_album_release_date', 'track_album_release_date_dt']].info()"
   ]
  },
  {
   "cell_type": "markdown",
   "id": "d9cd5991",
   "metadata": {},
   "source": [
    "The datetime conversion is useful here because we have access to all of the datetime related methods! We can extract the year and month associated with the release date! The year and month are attributes of the datetime object which can be accessed via the `.dt.year` and `.dt.month` attributes, respectively."
   ]
  },
  {
   "cell_type": "code",
   "execution_count": 21,
   "id": "b0d2eac2",
   "metadata": {},
   "outputs": [],
   "source": [
    "df_copy['release_year'] = df_copy.track_album_release_date_dt.dt.year\n",
    "\n",
    "df_copy['release_month'] = df_copy.track_album_release_date_dt.dt.month"
   ]
  },
  {
   "cell_type": "markdown",
   "id": "0349c11a",
   "metadata": {},
   "source": [
    "The year and month associated with the first 11 rows in the data set are shown below."
   ]
  },
  {
   "cell_type": "code",
   "execution_count": 22,
   "id": "648c9d00",
   "metadata": {},
   "outputs": [
    {
     "data": {
      "text/html": [
       "<div>\n",
       "<style scoped>\n",
       "    .dataframe tbody tr th:only-of-type {\n",
       "        vertical-align: middle;\n",
       "    }\n",
       "\n",
       "    .dataframe tbody tr th {\n",
       "        vertical-align: top;\n",
       "    }\n",
       "\n",
       "    .dataframe thead th {\n",
       "        text-align: right;\n",
       "    }\n",
       "</style>\n",
       "<table border=\"1\" class=\"dataframe\">\n",
       "  <thead>\n",
       "    <tr style=\"text-align: right;\">\n",
       "      <th></th>\n",
       "      <th>track_id</th>\n",
       "      <th>track_album_release_date</th>\n",
       "      <th>track_album_release_date_dt</th>\n",
       "      <th>release_year</th>\n",
       "      <th>release_month</th>\n",
       "    </tr>\n",
       "  </thead>\n",
       "  <tbody>\n",
       "    <tr>\n",
       "      <th>0</th>\n",
       "      <td>6f807x0ima9a1j3VPbc7VN</td>\n",
       "      <td>2019-06-14</td>\n",
       "      <td>2019-06-14</td>\n",
       "      <td>2019</td>\n",
       "      <td>6</td>\n",
       "    </tr>\n",
       "    <tr>\n",
       "      <th>1</th>\n",
       "      <td>0r7CVbZTWZgbTCYdfa2P31</td>\n",
       "      <td>2019-12-13</td>\n",
       "      <td>2019-12-13</td>\n",
       "      <td>2019</td>\n",
       "      <td>12</td>\n",
       "    </tr>\n",
       "    <tr>\n",
       "      <th>2</th>\n",
       "      <td>1z1Hg7Vb0AhHDiEmnDE79l</td>\n",
       "      <td>2019-07-05</td>\n",
       "      <td>2019-07-05</td>\n",
       "      <td>2019</td>\n",
       "      <td>7</td>\n",
       "    </tr>\n",
       "    <tr>\n",
       "      <th>3</th>\n",
       "      <td>75FpbthrwQmzHlBJLuGdC7</td>\n",
       "      <td>2019-07-19</td>\n",
       "      <td>2019-07-19</td>\n",
       "      <td>2019</td>\n",
       "      <td>7</td>\n",
       "    </tr>\n",
       "    <tr>\n",
       "      <th>4</th>\n",
       "      <td>1e8PAfcKUYoKkxPhrHqw4x</td>\n",
       "      <td>2019-03-05</td>\n",
       "      <td>2019-03-05</td>\n",
       "      <td>2019</td>\n",
       "      <td>3</td>\n",
       "    </tr>\n",
       "    <tr>\n",
       "      <th>5</th>\n",
       "      <td>7fvUMiyapMsRRxr07cU8Ef</td>\n",
       "      <td>2019-07-11</td>\n",
       "      <td>2019-07-11</td>\n",
       "      <td>2019</td>\n",
       "      <td>7</td>\n",
       "    </tr>\n",
       "    <tr>\n",
       "      <th>6</th>\n",
       "      <td>2OAylPUDDfwRGfe0lYqlCQ</td>\n",
       "      <td>2019-07-26</td>\n",
       "      <td>2019-07-26</td>\n",
       "      <td>2019</td>\n",
       "      <td>7</td>\n",
       "    </tr>\n",
       "    <tr>\n",
       "      <th>7</th>\n",
       "      <td>6b1RNvAcJjQH73eZO4BLAB</td>\n",
       "      <td>2019-08-29</td>\n",
       "      <td>2019-08-29</td>\n",
       "      <td>2019</td>\n",
       "      <td>8</td>\n",
       "    </tr>\n",
       "    <tr>\n",
       "      <th>8</th>\n",
       "      <td>7bF6tCO3gFb8INrEDcjNT5</td>\n",
       "      <td>2019-06-14</td>\n",
       "      <td>2019-06-14</td>\n",
       "      <td>2019</td>\n",
       "      <td>6</td>\n",
       "    </tr>\n",
       "    <tr>\n",
       "      <th>9</th>\n",
       "      <td>1IXGILkPm0tOCNeq00kCPa</td>\n",
       "      <td>2019-06-20</td>\n",
       "      <td>2019-06-20</td>\n",
       "      <td>2019</td>\n",
       "      <td>6</td>\n",
       "    </tr>\n",
       "    <tr>\n",
       "      <th>10</th>\n",
       "      <td>3eFJI470ALf1EYjywPRsJy</td>\n",
       "      <td>2019-06-21</td>\n",
       "      <td>2019-06-21</td>\n",
       "      <td>2019</td>\n",
       "      <td>6</td>\n",
       "    </tr>\n",
       "    <tr>\n",
       "      <th>11</th>\n",
       "      <td>3iJeF2izF1QcpCgUc97BLl</td>\n",
       "      <td>2019-08-16</td>\n",
       "      <td>2019-08-16</td>\n",
       "      <td>2019</td>\n",
       "      <td>8</td>\n",
       "    </tr>\n",
       "  </tbody>\n",
       "</table>\n",
       "</div>"
      ],
      "text/plain": [
       "                  track_id track_album_release_date  \\\n",
       "0   6f807x0ima9a1j3VPbc7VN               2019-06-14   \n",
       "1   0r7CVbZTWZgbTCYdfa2P31               2019-12-13   \n",
       "2   1z1Hg7Vb0AhHDiEmnDE79l               2019-07-05   \n",
       "3   75FpbthrwQmzHlBJLuGdC7               2019-07-19   \n",
       "4   1e8PAfcKUYoKkxPhrHqw4x               2019-03-05   \n",
       "5   7fvUMiyapMsRRxr07cU8Ef               2019-07-11   \n",
       "6   2OAylPUDDfwRGfe0lYqlCQ               2019-07-26   \n",
       "7   6b1RNvAcJjQH73eZO4BLAB               2019-08-29   \n",
       "8   7bF6tCO3gFb8INrEDcjNT5               2019-06-14   \n",
       "9   1IXGILkPm0tOCNeq00kCPa               2019-06-20   \n",
       "10  3eFJI470ALf1EYjywPRsJy               2019-06-21   \n",
       "11  3iJeF2izF1QcpCgUc97BLl               2019-08-16   \n",
       "\n",
       "   track_album_release_date_dt  release_year  release_month  \n",
       "0                   2019-06-14          2019              6  \n",
       "1                   2019-12-13          2019             12  \n",
       "2                   2019-07-05          2019              7  \n",
       "3                   2019-07-19          2019              7  \n",
       "4                   2019-03-05          2019              3  \n",
       "5                   2019-07-11          2019              7  \n",
       "6                   2019-07-26          2019              7  \n",
       "7                   2019-08-29          2019              8  \n",
       "8                   2019-06-14          2019              6  \n",
       "9                   2019-06-20          2019              6  \n",
       "10                  2019-06-21          2019              6  \n",
       "11                  2019-08-16          2019              8  "
      ]
     },
     "execution_count": 22,
     "metadata": {},
     "output_type": "execute_result"
    }
   ],
   "source": [
    "df_copy.loc[:11, ['track_id', 'track_album_release_date', 'track_album_release_date_dt', 'release_year', 'release_month']]"
   ]
  },
  {
   "cell_type": "markdown",
   "id": "7ae2ab84",
   "metadata": {},
   "source": [
    "With this information we can count the number of songs associated with each release year. As we see below, most of the songs in the data set were released more recently."
   ]
  },
  {
   "cell_type": "code",
   "execution_count": 23,
   "id": "41ae6b90",
   "metadata": {},
   "outputs": [
    {
     "data": {
      "image/png": "[encoded data removed]",
      "text/plain": [
       "<Figure size 1650x1100 with 1 Axes>"
      ]
     },
     "metadata": {},
     "output_type": "display_data"
    }
   ],
   "source": [
    "sns.catplot(data = df_copy, y='release_year', kind='count', height=11, aspect=1.5)\n",
    "\n",
    "plt.show()"
   ]
  },
  {
   "cell_type": "markdown",
   "id": "23bdc5b5",
   "metadata": {},
   "source": [
    "We can also consider the number of songs in the data set released per month."
   ]
  },
  {
   "cell_type": "code",
   "execution_count": 24,
   "id": "cb6bea1a",
   "metadata": {},
   "outputs": [
    {
     "data": {
      "image/png": "[encoded data removed]",
      "text/plain": [
       "<Figure size 1200x800 with 1 Axes>"
      ]
     },
     "metadata": {},
     "output_type": "display_data"
    }
   ],
   "source": [
    "sns.catplot(data = df_copy, x='release_month', kind='count', height=8, aspect=1.5)\n",
    "\n",
    "plt.show()"
   ]
  },
  {
   "cell_type": "markdown",
   "id": "a20bc8ac",
   "metadata": {},
   "source": [
    "Other datetime attributes exist for a datetime object, such as the day of the week. However, I think exploring the potential relationship of year associated with the song and the month it is released is sufficient for this application. I do not know if `release_year` or `release_month` influence the output. That is something for you to find out!\n",
    "\n",
    "Note the above bar charts were created with the data \"as is\". The issue of the repeated `track_id` values was not properly accounted for. **That is something for you to handle!**\n",
    "\n",
    "The `release_year` variable is a numeric quantity. However, as the previous bar chart revealed there are very few observations for songs released prior to the year 2010. Thus, you may want to convert the `release_year` into a categorical variable. If we just want a binary variable, a simple approach to accomplish this is with `np.where()`. For example, let's convert `release_year` into a binary variable with values \"recent\" and \"older\" based on if the `release_year` is less than 2010."
   ]
  },
  {
   "cell_type": "code",
   "execution_count": 25,
   "id": "4d9129cd",
   "metadata": {},
   "outputs": [],
   "source": [
    "df_copy['bin_year'] = np.where( df_copy.release_year < 2010, 'older', 'recent')"
   ]
  },
  {
   "cell_type": "markdown",
   "id": "c9fe4db0",
   "metadata": {},
   "source": [
    "Instead of using `release_year` in a predictive, you could use the categorical variable that states if the song is \"recent\" or \"older\"."
   ]
  },
  {
   "cell_type": "code",
   "execution_count": 26,
   "id": "7986db46",
   "metadata": {},
   "outputs": [
    {
     "data": {
      "image/png": "[encoded data removed]",
      "text/plain": [
       "<Figure size 700x700 with 1 Axes>"
      ]
     },
     "metadata": {},
     "output_type": "display_data"
    }
   ],
   "source": [
    "sns.catplot(data = df_copy, x='bin_year', kind='count', height=7)\n",
    "\n",
    "plt.show()"
   ]
  },
  {
   "cell_type": "markdown",
   "id": "5239ca59",
   "metadata": {},
   "source": [
    "### input features\n",
    "\n",
    "The main inputs of interest to this problem are the music or song related features. I would not recommend including the artist name as an input. If you want to include the artist as a feature to the model, you **must** first check the number of features that exist due to the creation of the dummy variables.  \n",
    "\n",
    "The `playlist_genre` should be investigated in your models. It has relatively few unique values and provides a somewhat meaningful representation of a grouping of the song. You should consider interacting this categorical variable with the music/song related features. It is up to if you would like try `playlist_subgenre` as a feature. If you use `playlist_subgenre`, you should *not* also include `playlist_genre` as an input.\n",
    "\n",
    "The `key` and `mode` inputs are integers however they are more representative of categorical like variables."
   ]
  },
  {
   "cell_type": "code",
   "execution_count": 27,
   "id": "2b300226",
   "metadata": {},
   "outputs": [
    {
     "name": "stdout",
     "output_type": "stream",
     "text": [
      "<class 'pandas.core.frame.DataFrame'>\n",
      "RangeIndex: 32833 entries, 0 to 32832\n",
      "Data columns (total 2 columns):\n",
      " #   Column  Non-Null Count  Dtype\n",
      "---  ------  --------------  -----\n",
      " 0   key     32833 non-null  int64\n",
      " 1   mode    32833 non-null  int64\n",
      "dtypes: int64(2)\n",
      "memory usage: 513.1 KB\n"
     ]
    }
   ],
   "source": [
    "df.loc[:, ['key', 'mode']].info()"
   ]
  },
  {
   "cell_type": "markdown",
   "id": "b15569f1",
   "metadata": {},
   "source": [
    "They have relatively few unique values."
   ]
  },
  {
   "cell_type": "code",
   "execution_count": 28,
   "id": "37a37a86",
   "metadata": {},
   "outputs": [
    {
     "data": {
      "text/plain": [
       "key     12\n",
       "mode     2\n",
       "dtype: int64"
      ]
     },
     "execution_count": 28,
     "metadata": {},
     "output_type": "execute_result"
    }
   ],
   "source": [
    "df.loc[:, ['key', 'mode']].nunique()"
   ]
  },
  {
   "cell_type": "markdown",
   "id": "49ec62d4",
   "metadata": {},
   "source": [
    "We can check the number of rows associated with each combination of the two variables. The plot below does not handle the track duplication issue. That is up to you to handle!"
   ]
  },
  {
   "cell_type": "code",
   "execution_count": 29,
   "id": "776a3b8c",
   "metadata": {},
   "outputs": [
    {
     "data": {
      "image/png": "[encoded data removed]",
      "text/plain": [
       "<Figure size 933.875x500 with 1 Axes>"
      ]
     },
     "metadata": {},
     "output_type": "display_data"
    }
   ],
   "source": [
    "sns.catplot(data = df, x='key', hue='mode', kind='count', aspect=1.75)\n",
    "\n",
    "plt.show()"
   ]
  },
  {
   "cell_type": "markdown",
   "id": "7b0707a1",
   "metadata": {},
   "source": [
    "You should examine if the continuous input correlation changes across the combinations of `key` and `mode`.\n",
    "\n",
    "Lastly, you should consider a transformation like a log-transformation to be applied to non-Gaussian like continuous inputs."
   ]
  },
  {
   "cell_type": "markdown",
   "id": "3dc5a1e9",
   "metadata": {},
   "source": [
    "### output\n",
    "\n",
    "The output variable `track_popularity` is an integer between 0 and 100. "
   ]
  },
  {
   "cell_type": "code",
   "execution_count": 30,
   "id": "908485a3",
   "metadata": {},
   "outputs": [
    {
     "data": {
      "text/plain": [
       "count    32833.000000\n",
       "mean        42.477081\n",
       "std         24.984074\n",
       "min          0.000000\n",
       "25%         24.000000\n",
       "50%         45.000000\n",
       "75%         62.000000\n",
       "max        100.000000\n",
       "Name: track_popularity, dtype: float64"
      ]
     },
     "execution_count": 30,
     "metadata": {},
     "output_type": "execute_result"
    }
   ],
   "source": [
    "df.track_popularity.describe()"
   ]
  },
  {
   "cell_type": "markdown",
   "id": "49f3ff57",
   "metadata": {},
   "source": [
    "The distribution of the output is visualized with the histogram below. "
   ]
  },
  {
   "cell_type": "code",
   "execution_count": 31,
   "id": "a64993fa",
   "metadata": {},
   "outputs": [
    {
     "data": {
      "image/png": "[encoded data removed]",
      "text/plain": [
       "<Figure size 625x500 with 1 Axes>"
      ]
     },
     "metadata": {},
     "output_type": "display_data"
    }
   ],
   "source": [
    "sns.displot(data = df, x='track_popularity', binwidth=5, aspect=1.25)\n",
    "\n",
    "plt.show()"
   ]
  },
  {
   "cell_type": "markdown",
   "id": "c17683aa",
   "metadata": {},
   "source": [
    "The histogram reveals a \"spike\" near zero and so we should check if values identically equal zero. The cell below shows that about 8% of the observations have `track_popularity == 0`."
   ]
  },
  {
   "cell_type": "code",
   "execution_count": 32,
   "id": "d77987d5",
   "metadata": {},
   "outputs": [
    {
     "data": {
      "text/plain": [
       "0.08232570889044559"
      ]
     },
     "execution_count": 32,
     "metadata": {},
     "output_type": "execute_result"
    }
   ],
   "source": [
    "np.mean( df.track_popularity == 0 )"
   ]
  },
  {
   "cell_type": "markdown",
   "id": "6fe5dbc9",
   "metadata": {},
   "source": [
    "We also need to check if values identically equal 100."
   ]
  },
  {
   "cell_type": "code",
   "execution_count": 33,
   "id": "fc69bf6a",
   "metadata": {},
   "outputs": [
    {
     "data": {
      "text/plain": [
       "6.0914324003289374e-05"
      ]
     },
     "execution_count": 33,
     "metadata": {},
     "output_type": "execute_result"
    }
   ],
   "source": [
    "np.mean( df.track_popularity == 100 )"
   ]
  },
  {
   "cell_type": "markdown",
   "id": "d00bd3d4",
   "metadata": {},
   "source": [
    "Because the proportion is so small, let's print those rows to the screen. As shown below, there is only 1 song with a perfect `track_popularity` score of 100! That song is in two different play lists."
   ]
  },
  {
   "cell_type": "code",
   "execution_count": 34,
   "id": "53b724cd",
   "metadata": {},
   "outputs": [
    {
     "data": {
      "text/html": [
       "<div>\n",
       "<style scoped>\n",
       "    .dataframe tbody tr th:only-of-type {\n",
       "        vertical-align: middle;\n",
       "    }\n",
       "\n",
       "    .dataframe tbody tr th {\n",
       "        vertical-align: top;\n",
       "    }\n",
       "\n",
       "    .dataframe thead th {\n",
       "        text-align: right;\n",
       "    }\n",
       "</style>\n",
       "<table border=\"1\" class=\"dataframe\">\n",
       "  <thead>\n",
       "    <tr style=\"text-align: right;\">\n",
       "      <th></th>\n",
       "      <th>track_id</th>\n",
       "      <th>track_name</th>\n",
       "      <th>track_artist</th>\n",
       "      <th>track_popularity</th>\n",
       "      <th>track_album_id</th>\n",
       "      <th>track_album_name</th>\n",
       "      <th>track_album_release_date</th>\n",
       "      <th>playlist_name</th>\n",
       "      <th>playlist_id</th>\n",
       "      <th>playlist_genre</th>\n",
       "      <th>...</th>\n",
       "      <th>key</th>\n",
       "      <th>loudness</th>\n",
       "      <th>mode</th>\n",
       "      <th>speechiness</th>\n",
       "      <th>acousticness</th>\n",
       "      <th>instrumentalness</th>\n",
       "      <th>liveness</th>\n",
       "      <th>valence</th>\n",
       "      <th>tempo</th>\n",
       "      <th>duration_ms</th>\n",
       "    </tr>\n",
       "  </thead>\n",
       "  <tbody>\n",
       "    <tr>\n",
       "      <th>1551</th>\n",
       "      <td>2XU0oxnq2qxCpomAAuJY8K</td>\n",
       "      <td>Dance Monkey</td>\n",
       "      <td>Tones and I</td>\n",
       "      <td>100</td>\n",
       "      <td>0UywfDKYlyiu1b38DRrzYD</td>\n",
       "      <td>Dance Monkey (Stripped Back) / Dance Monkey</td>\n",
       "      <td>2019-10-17</td>\n",
       "      <td>post-teen alternative, indie, pop (large variety)</td>\n",
       "      <td>1y42gwI5cuwjBslPyQNfqb</td>\n",
       "      <td>pop</td>\n",
       "      <td>...</td>\n",
       "      <td>6</td>\n",
       "      <td>-6.4</td>\n",
       "      <td>0</td>\n",
       "      <td>0.0924</td>\n",
       "      <td>0.692</td>\n",
       "      <td>0.000104</td>\n",
       "      <td>0.149</td>\n",
       "      <td>0.513</td>\n",
       "      <td>98.027</td>\n",
       "      <td>209438</td>\n",
       "    </tr>\n",
       "    <tr>\n",
       "      <th>20091</th>\n",
       "      <td>2XU0oxnq2qxCpomAAuJY8K</td>\n",
       "      <td>Dance Monkey</td>\n",
       "      <td>Tones and I</td>\n",
       "      <td>100</td>\n",
       "      <td>0UywfDKYlyiu1b38DRrzYD</td>\n",
       "      <td>Dance Monkey (Stripped Back) / Dance Monkey</td>\n",
       "      <td>2019-10-17</td>\n",
       "      <td>Global Top 50 | 2020 Hits</td>\n",
       "      <td>1KNl4AYfgZtOVm9KHkhPTF</td>\n",
       "      <td>latin</td>\n",
       "      <td>...</td>\n",
       "      <td>6</td>\n",
       "      <td>-6.4</td>\n",
       "      <td>0</td>\n",
       "      <td>0.0924</td>\n",
       "      <td>0.692</td>\n",
       "      <td>0.000104</td>\n",
       "      <td>0.149</td>\n",
       "      <td>0.513</td>\n",
       "      <td>98.027</td>\n",
       "      <td>209438</td>\n",
       "    </tr>\n",
       "  </tbody>\n",
       "</table>\n",
       "<p>2 rows × 23 columns</p>\n",
       "</div>"
      ],
      "text/plain": [
       "                     track_id    track_name track_artist  track_popularity  \\\n",
       "1551   2XU0oxnq2qxCpomAAuJY8K  Dance Monkey  Tones and I               100   \n",
       "20091  2XU0oxnq2qxCpomAAuJY8K  Dance Monkey  Tones and I               100   \n",
       "\n",
       "               track_album_id                             track_album_name  \\\n",
       "1551   0UywfDKYlyiu1b38DRrzYD  Dance Monkey (Stripped Back) / Dance Monkey   \n",
       "20091  0UywfDKYlyiu1b38DRrzYD  Dance Monkey (Stripped Back) / Dance Monkey   \n",
       "\n",
       "      track_album_release_date  \\\n",
       "1551                2019-10-17   \n",
       "20091               2019-10-17   \n",
       "\n",
       "                                           playlist_name  \\\n",
       "1551   post-teen alternative, indie, pop (large variety)   \n",
       "20091                          Global Top 50 | 2020 Hits   \n",
       "\n",
       "                  playlist_id playlist_genre  ... key  loudness  mode  \\\n",
       "1551   1y42gwI5cuwjBslPyQNfqb            pop  ...   6      -6.4     0   \n",
       "20091  1KNl4AYfgZtOVm9KHkhPTF          latin  ...   6      -6.4     0   \n",
       "\n",
       "       speechiness  acousticness  instrumentalness  liveness  valence   tempo  \\\n",
       "1551        0.0924         0.692          0.000104     0.149    0.513  98.027   \n",
       "20091       0.0924         0.692          0.000104     0.149    0.513  98.027   \n",
       "\n",
       "       duration_ms  \n",
       "1551        209438  \n",
       "20091       209438  \n",
       "\n",
       "[2 rows x 23 columns]"
      ]
     },
     "execution_count": 34,
     "metadata": {},
     "output_type": "execute_result"
    }
   ],
   "source": [
    "df.loc[ df.track_popularity == 100, :]"
   ]
  },
  {
   "cell_type": "markdown",
   "id": "0a0b6287",
   "metadata": {},
   "source": [
    "The reason why we are checking these issues is because `track_popularity` is a **bounded** variable. When we introduced the assumption of regression models, we demonstrated that the likelihood and thus the **sampling distribution** is a Gaussian distribution. Gaussians do not have any bounds. Thus, if we fit a conventional regression model (even advanced methods like neural networks) the model could predict negative values and values greater than 100 for `track_popularity`! \n",
    "\n",
    "We discussed in lecture how we can extract the confidence and prediction intervals associated with linear models. These uncertainty intervals will definitely go outside the 0 and 100 bounds for songs near boundaries. Thus, we **CANNOT** apply the regression techniques discussed in class directly to `track_popularity`!\n",
    "\n",
    "There are several approaches we can use which are more appropriate for this project. If you would be interested in working with a classification problem, you can convert `track_popularity` into a categorical variable. For example, you can classify if the song has a `track_popularity` above 50 and is thus a \"good\" song. The cell below creates the variable `binary_outcome` which as a value of 1 if `track_popularity > 50` and zero otherwise."
   ]
  },
  {
   "cell_type": "code",
   "execution_count": 35,
   "id": "8d551b37",
   "metadata": {},
   "outputs": [],
   "source": [
    "df_copy['binary_outcome'] = np.where( df_copy.track_popularity > 50, 1, 0 )"
   ]
  },
  {
   "cell_type": "markdown",
   "id": "11edfb61",
   "metadata": {},
   "source": [
    "Although not perfectly balanced, the binary outcome is not overly imbalanced and so conventional classification approaches can be applied. You should check that this is still the case after dealing with the `track_id` repeat issue."
   ]
  },
  {
   "cell_type": "code",
   "execution_count": 36,
   "id": "5dfb809b",
   "metadata": {},
   "outputs": [
    {
     "data": {
      "text/plain": [
       "0    0.574757\n",
       "1    0.425243\n",
       "Name: binary_outcome, dtype: float64"
      ]
     },
     "execution_count": 36,
     "metadata": {},
     "output_type": "execute_result"
    }
   ],
   "source": [
    "df_copy.binary_outcome.value_counts(normalize=True)"
   ]
  },
  {
   "cell_type": "markdown",
   "id": "351921ed",
   "metadata": {},
   "source": [
    "If you want to work with a classification problem, I recommend first fitting models to classify with `track_popularity > 50`. If that goes well, you can then consider a more imbalanced situation with `track_popularity > 60` or perhaps `track_popularity > 70`. It is critical to first check the balance of the binary classes if you do that though."
   ]
  },
  {
   "cell_type": "markdown",
   "id": "2c61bb42",
   "metadata": {},
   "source": [
    "However, if you would prefer to work with regression instead of classification, you must apply the logit (log-odds) transformation to the `track_popularity` variable before fitting the models. This transformation will create an **unbounded** variable that is more appropriate for regression methods.\n",
    "\n",
    "In truth, this application is a **zero-one inflated beta regression** which is quite challenging to work with. You do not need to work with such a method. Instead, we will use a \"hack\" to enable applying the logit transformation. The \"hack\" is required because the logit transformation cannot handle values equal to 0 or 1. We will subtract a small number from the values of `track_popularity` if `track_popularity` equals 100. We will also add a small number to `track_popularity` if `track_popularity` equals 0. This will slightly compress the range and make sure no observation has a value identically equal to the lower or upper bound.\n",
    "\n",
    "The cell below shows how to create this \"shifted\" variable."
   ]
  },
  {
   "cell_type": "code",
   "execution_count": 37,
   "id": "70a3bd30",
   "metadata": {},
   "outputs": [],
   "source": [
    "df_copy['track_pop_shift'] = np.where( df_copy.track_popularity == 100, df_copy.track_popularity - 0.1, df_copy.track_popularity)\n",
    "\n",
    "df_copy['track_pop_shift'] = np.where( df_copy.track_popularity == 0, df_copy.track_popularity + 0.1, df_copy.track_pop_shift )"
   ]
  },
  {
   "cell_type": "markdown",
   "id": "3c344d91",
   "metadata": {},
   "source": [
    "Let's confirm the min and max values of the shifted variable compared to the original variable. As we see below the bounds are slightly different."
   ]
  },
  {
   "cell_type": "code",
   "execution_count": 38,
   "id": "1e731eef",
   "metadata": {},
   "outputs": [
    {
     "data": {
      "text/html": [
       "<div>\n",
       "<style scoped>\n",
       "    .dataframe tbody tr th:only-of-type {\n",
       "        vertical-align: middle;\n",
       "    }\n",
       "\n",
       "    .dataframe tbody tr th {\n",
       "        vertical-align: top;\n",
       "    }\n",
       "\n",
       "    .dataframe thead th {\n",
       "        text-align: right;\n",
       "    }\n",
       "</style>\n",
       "<table border=\"1\" class=\"dataframe\">\n",
       "  <thead>\n",
       "    <tr style=\"text-align: right;\">\n",
       "      <th></th>\n",
       "      <th>track_popularity</th>\n",
       "      <th>track_pop_shift</th>\n",
       "    </tr>\n",
       "  </thead>\n",
       "  <tbody>\n",
       "    <tr>\n",
       "      <th>count</th>\n",
       "      <td>32833.000000</td>\n",
       "      <td>32833.000000</td>\n",
       "    </tr>\n",
       "    <tr>\n",
       "      <th>mean</th>\n",
       "      <td>42.477081</td>\n",
       "      <td>42.485307</td>\n",
       "    </tr>\n",
       "    <tr>\n",
       "      <th>std</th>\n",
       "      <td>24.984074</td>\n",
       "      <td>24.970075</td>\n",
       "    </tr>\n",
       "    <tr>\n",
       "      <th>min</th>\n",
       "      <td>0.000000</td>\n",
       "      <td>0.100000</td>\n",
       "    </tr>\n",
       "    <tr>\n",
       "      <th>25%</th>\n",
       "      <td>24.000000</td>\n",
       "      <td>24.000000</td>\n",
       "    </tr>\n",
       "    <tr>\n",
       "      <th>50%</th>\n",
       "      <td>45.000000</td>\n",
       "      <td>45.000000</td>\n",
       "    </tr>\n",
       "    <tr>\n",
       "      <th>75%</th>\n",
       "      <td>62.000000</td>\n",
       "      <td>62.000000</td>\n",
       "    </tr>\n",
       "    <tr>\n",
       "      <th>max</th>\n",
       "      <td>100.000000</td>\n",
       "      <td>99.900000</td>\n",
       "    </tr>\n",
       "  </tbody>\n",
       "</table>\n",
       "</div>"
      ],
      "text/plain": [
       "       track_popularity  track_pop_shift\n",
       "count      32833.000000     32833.000000\n",
       "mean          42.477081        42.485307\n",
       "std           24.984074        24.970075\n",
       "min            0.000000         0.100000\n",
       "25%           24.000000        24.000000\n",
       "50%           45.000000        45.000000\n",
       "75%           62.000000        62.000000\n",
       "max          100.000000        99.900000"
      ]
     },
     "execution_count": 38,
     "metadata": {},
     "output_type": "execute_result"
    }
   ],
   "source": [
    "df_copy.loc[:, ['track_popularity', 'track_pop_shift']].describe()"
   ]
  },
  {
   "cell_type": "markdown",
   "id": "f72e84ce",
   "metadata": {},
   "source": [
    "Let's compare the summary statistics with boxplots between the two variables. Visually the summary statistics look the same even though we changed the values at the extreme ends."
   ]
  },
  {
   "cell_type": "code",
   "execution_count": 39,
   "id": "5bfacda1",
   "metadata": {},
   "outputs": [
    {
     "data": {
      "image/png": "[encoded data removed]",
      "text/plain": [
       "<Figure size 500x500 with 1 Axes>"
      ]
     },
     "metadata": {},
     "output_type": "display_data"
    }
   ],
   "source": [
    "sns.catplot(data = df_copy.loc[:, ['track_popularity', 'track_pop_shift']], kind='box')\n",
    "\n",
    "plt.show()"
   ]
  },
  {
   "cell_type": "markdown",
   "id": "bfc8a3a2",
   "metadata": {},
   "source": [
    "The distributions are compared via kernel density estimates below. We can barely even see the orange curve in the figure below, because the two distributions are essentially identical. Our small change therefore does not impact the overall distribution of the output."
   ]
  },
  {
   "cell_type": "code",
   "execution_count": 40,
   "id": "119be388",
   "metadata": {},
   "outputs": [
    {
     "data": {
      "image/png": "[encoded data removed]",
      "text/plain": [
       "<Figure size 788.5x500 with 1 Axes>"
      ]
     },
     "metadata": {},
     "output_type": "display_data"
    }
   ],
   "source": [
    "sns.displot(data = df_copy.loc[:, ['track_popularity', 'track_pop_shift']], kind='kde', aspect=1.25)\n",
    "\n",
    "plt.show()"
   ]
  },
  {
   "cell_type": "markdown",
   "id": "a4458d57",
   "metadata": {},
   "source": [
    "Let's now calculate the logit transformed output. We must first divide by 100 to make the value a fraction between 0 and 1. The logit (log-odds ratio) is then calculated. The logit transformed output is named `y` for simplicity below."
   ]
  },
  {
   "cell_type": "code",
   "execution_count": 41,
   "id": "c6759ede",
   "metadata": {},
   "outputs": [],
   "source": [
    "df_copy['track_pop_frac'] = df_copy.track_pop_shift / 100\n",
    "\n",
    "df_copy['y'] = np.log( df_copy.track_pop_frac / (1 - df_copy.track_pop_frac) )"
   ]
  },
  {
   "cell_type": "markdown",
   "id": "f30c56a9",
   "metadata": {},
   "source": [
    "The distribution of the logit transformed output is shown below. We see two primary aspects of the distribution. First, the bulk of the distribution is roughly symmetric around zero. However, there is a spike located at `y < -6`. This spike corresponds to the songs with the `track_popularity == 0`! The transformation highlights the zero values even more prominently than the original scaling. "
   ]
  },
  {
   "cell_type": "code",
   "execution_count": 42,
   "id": "886efa59",
   "metadata": {},
   "outputs": [
    {
     "data": {
      "image/png": "[encoded data removed]",
      "text/plain": [
       "<Figure size 625x500 with 1 Axes>"
      ]
     },
     "metadata": {},
     "output_type": "display_data"
    }
   ],
   "source": [
    "sns.displot(data = df_copy, x='y', kind='hist', bins=25, aspect=1.25)\n",
    "\n",
    "plt.show()"
   ]
  },
  {
   "cell_type": "markdown",
   "id": "5f299fcb",
   "metadata": {},
   "source": [
    "If you decide to work with the regression problem for this project, you **must** use the logit transformed output instead of the original `track_popularity` variable."
   ]
  },
  {
   "cell_type": "code",
   "execution_count": null,
   "id": "5bb49ec1",
   "metadata": {},
   "outputs": [],
   "source": []
  }
 ],
 "metadata": {
  "kernelspec": {
   "display_name": "Python 3 (ipykernel)",
   "language": "python",
   "name": "python3"
  },
  "language_info": {
   "codemirror_mode": {
    "name": "ipython",
    "version": 3
   },
   "file_extension": ".py",
   "mimetype": "text/x-python",
   "name": "python",
   "nbconvert_exporter": "python",
   "pygments_lexer": "ipython3",
   "version": "3.8.16"
  }
 },
 "nbformat": 4,
 "nbformat_minor": 5
}
