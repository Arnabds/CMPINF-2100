{
 "cells": [
  {
   "cell_type": "markdown",
   "metadata": {},
   "source": [
    "# CMPINF 2100: Final Exam\n",
    "\n",
    "## Arnab Dey Sarkar\n",
    "\n",
    "### Assigned: Monday of Finals Week (Week 15)\n",
    "\n",
    "### DUE: Saturday of Finals Week (Week 15) at 11:59PM EST.\n",
    "\n",
    "You may add as many code and markdown cells as you see fit to answer the questions.\n",
    "\n",
    "#### You are **NOT** allowed to collaborate with anyone on this exam!\n",
    "\n",
    "By downloading this file, you fully agree and accept that you are NOT collaborating with anyone on this exam.  \n",
    "\n",
    "### Overview\n",
    "\n",
    "The final exam is focused on the primary concepts of the second half of the semester. You will fit multiple regression models and multiple binary classification models. You will interpret the coefficients of the models and select the best performing model for each application.\n",
    "\n",
    "You MUST download the 2 CSV files provided on Canvas and save them to the same working directory as this Jupyter notebook."
   ]
  },
  {
   "cell_type": "markdown",
   "metadata": {},
   "source": [
    "## Import modules\n",
    "\n",
    "The \"big 4\" modules that we have used throughout the semester are imported in for you below."
   ]
  },
  {
   "cell_type": "code",
   "execution_count": 1,
   "metadata": {},
   "outputs": [],
   "source": [
    "import numpy as np\n",
    "import pandas as pd\n",
    "import matplotlib.pyplot as plt\n",
    "\n",
    "import seaborn as sns"
   ]
  },
  {
   "cell_type": "markdown",
   "metadata": {},
   "source": [
    "The relevant additional methods and functions that you will use in this exam are imported within the questions."
   ]
  },
  {
   "cell_type": "markdown",
   "metadata": {},
   "source": [
    "## Problem 1: Regression - 50 points\n",
    "\n",
    "A data set is read in for you in the cell below. The data set consists of 5 continuous inputs, `x1` through `x5`, and a continuous response, `y`."
   ]
  },
  {
   "cell_type": "code",
   "execution_count": 2,
   "metadata": {},
   "outputs": [],
   "source": [
    "url_1 = 'final_prob01.csv'\n",
    "\n",
    "df1 = pd.read_csv(url_1)"
   ]
  },
  {
   "cell_type": "markdown",
   "metadata": {},
   "source": [
    "### 1a)\n",
    "How many rows are in the data set? Double check the data types associated with each of the variables."
   ]
  },
  {
   "cell_type": "markdown",
   "metadata": {},
   "source": [
    "#### 1a) - SOLUTION"
   ]
  },
  {
   "cell_type": "code",
   "execution_count": 4,
   "metadata": {},
   "outputs": [
    {
     "data": {
      "text/plain": [
       "110"
      ]
     },
     "execution_count": 4,
     "metadata": {},
     "output_type": "execute_result"
    }
   ],
   "source": [
    "df1.shape[0]"
   ]
  },
  {
   "cell_type": "markdown",
   "metadata": {},
   "source": [
    "110 rows."
   ]
  },
  {
   "cell_type": "code",
   "execution_count": 26,
   "metadata": {},
   "outputs": [
    {
     "data": {
      "text/plain": [
       "x1    float64\n",
       "x2    float64\n",
       "x3    float64\n",
       "x4    float64\n",
       "x5    float64\n",
       "y     float64\n",
       "dtype: object"
      ]
     },
     "execution_count": 26,
     "metadata": {},
     "output_type": "execute_result"
    }
   ],
   "source": [
    "df1.dtypes"
   ]
  },
  {
   "cell_type": "markdown",
   "metadata": {},
   "source": [
    "### 1b)\n",
    "What are the means, standard deviations, min and max values for each of the variables? Visualize the summary statistics with boxplots. Are the variables all roughly covering the same range?"
   ]
  },
  {
   "cell_type": "markdown",
   "metadata": {},
   "source": [
    "#### 1b) - SOLUTION"
   ]
  },
  {
   "cell_type": "code",
   "execution_count": 11,
   "metadata": {},
   "outputs": [],
   "source": [
    "df1_feat = df1.drop('y', axis=1)"
   ]
  },
  {
   "cell_type": "code",
   "execution_count": 12,
   "metadata": {},
   "outputs": [
    {
     "data": {
      "text/html": [
       "<div>\n",
       "<style scoped>\n",
       "    .dataframe tbody tr th:only-of-type {\n",
       "        vertical-align: middle;\n",
       "    }\n",
       "\n",
       "    .dataframe tbody tr th {\n",
       "        vertical-align: top;\n",
       "    }\n",
       "\n",
       "    .dataframe thead th {\n",
       "        text-align: right;\n",
       "    }\n",
       "</style>\n",
       "<table border=\"1\" class=\"dataframe\">\n",
       "  <thead>\n",
       "    <tr style=\"text-align: right;\">\n",
       "      <th></th>\n",
       "      <th>x1</th>\n",
       "      <th>x2</th>\n",
       "      <th>x3</th>\n",
       "      <th>x4</th>\n",
       "      <th>x5</th>\n",
       "    </tr>\n",
       "  </thead>\n",
       "  <tbody>\n",
       "    <tr>\n",
       "      <th>count</th>\n",
       "      <td>110.000000</td>\n",
       "      <td>110.000000</td>\n",
       "      <td>110.000000</td>\n",
       "      <td>110.000000</td>\n",
       "      <td>110.000000</td>\n",
       "    </tr>\n",
       "    <tr>\n",
       "      <th>mean</th>\n",
       "      <td>-0.035361</td>\n",
       "      <td>0.029356</td>\n",
       "      <td>0.034077</td>\n",
       "      <td>0.206676</td>\n",
       "      <td>-0.016708</td>\n",
       "    </tr>\n",
       "    <tr>\n",
       "      <th>std</th>\n",
       "      <td>1.105884</td>\n",
       "      <td>1.000596</td>\n",
       "      <td>1.158145</td>\n",
       "      <td>1.085244</td>\n",
       "      <td>0.927250</td>\n",
       "    </tr>\n",
       "    <tr>\n",
       "      <th>min</th>\n",
       "      <td>-3.136652</td>\n",
       "      <td>-2.725713</td>\n",
       "      <td>-2.427799</td>\n",
       "      <td>-1.879309</td>\n",
       "      <td>-2.042584</td>\n",
       "    </tr>\n",
       "    <tr>\n",
       "      <th>25%</th>\n",
       "      <td>-0.860105</td>\n",
       "      <td>-0.652197</td>\n",
       "      <td>-0.801266</td>\n",
       "      <td>-0.532813</td>\n",
       "      <td>-0.604332</td>\n",
       "    </tr>\n",
       "    <tr>\n",
       "      <th>50%</th>\n",
       "      <td>-0.113053</td>\n",
       "      <td>0.043325</td>\n",
       "      <td>0.064104</td>\n",
       "      <td>0.281610</td>\n",
       "      <td>-0.007597</td>\n",
       "    </tr>\n",
       "    <tr>\n",
       "      <th>75%</th>\n",
       "      <td>0.607403</td>\n",
       "      <td>0.666692</td>\n",
       "      <td>0.848492</td>\n",
       "      <td>0.983076</td>\n",
       "      <td>0.617831</td>\n",
       "    </tr>\n",
       "    <tr>\n",
       "      <th>max</th>\n",
       "      <td>2.916081</td>\n",
       "      <td>2.714255</td>\n",
       "      <td>2.492980</td>\n",
       "      <td>2.397799</td>\n",
       "      <td>3.289022</td>\n",
       "    </tr>\n",
       "  </tbody>\n",
       "</table>\n",
       "</div>"
      ],
      "text/plain": [
       "               x1          x2          x3          x4          x5\n",
       "count  110.000000  110.000000  110.000000  110.000000  110.000000\n",
       "mean    -0.035361    0.029356    0.034077    0.206676   -0.016708\n",
       "std      1.105884    1.000596    1.158145    1.085244    0.927250\n",
       "min     -3.136652   -2.725713   -2.427799   -1.879309   -2.042584\n",
       "25%     -0.860105   -0.652197   -0.801266   -0.532813   -0.604332\n",
       "50%     -0.113053    0.043325    0.064104    0.281610   -0.007597\n",
       "75%      0.607403    0.666692    0.848492    0.983076    0.617831\n",
       "max      2.916081    2.714255    2.492980    2.397799    3.289022"
      ]
     },
     "execution_count": 12,
     "metadata": {},
     "output_type": "execute_result"
    }
   ],
   "source": [
    "df1_feat.describe()"
   ]
  },
  {
   "cell_type": "code",
   "execution_count": 13,
   "metadata": {},
   "outputs": [
    {
     "data": {
      "text/plain": [
       "count    110.000000\n",
       "mean      -0.015383\n",
       "std        3.146428\n",
       "min      -10.627677\n",
       "25%       -1.225560\n",
       "50%        0.293134\n",
       "75%        1.510491\n",
       "max        7.623098\n",
       "Name: y, dtype: float64"
      ]
     },
     "execution_count": 13,
     "metadata": {},
     "output_type": "execute_result"
    }
   ],
   "source": [
    "df1.y.describe()"
   ]
  },
  {
   "cell_type": "code",
   "execution_count": 27,
   "metadata": {},
   "outputs": [
    {
     "data": {
      "image/png": "[encoded data removed]",
      "text/plain": [
       "<Figure size 500x500 with 1 Axes>"
      ]
     },
     "metadata": {},
     "output_type": "display_data"
    }
   ],
   "source": [
    "sns.catplot(data=df1, kind='box')\n",
    "\n",
    "plt.show()"
   ]
  },
  {
   "cell_type": "markdown",
   "metadata": {},
   "source": [
    "Yes, roughly the ranges are same. The last one is little big."
   ]
  },
  {
   "cell_type": "markdown",
   "metadata": {},
   "source": [
    "### 1c)\n",
    "Are the inputs highly correlated or anticorrelated with each other?"
   ]
  },
  {
   "cell_type": "markdown",
   "metadata": {},
   "source": [
    "#### 1c) - SOLUTION"
   ]
  },
  {
   "cell_type": "code",
   "execution_count": 20,
   "metadata": {},
   "outputs": [
    {
     "data": {
      "image/png": "[encoded data removed]",
      "text/plain": [
       "<Figure size 640x480 with 1 Axes>"
      ]
     },
     "metadata": {},
     "output_type": "display_data"
    }
   ],
   "source": [
    "fig, ax = plt.subplots()\n",
    "\n",
    "sns.heatmap(data = df1_feat.corr(numeric_only=True),\n",
    "            vmin=-1, vmax=1, center=0, \n",
    "            annot=True, annot_kws={'fontsize': 10},\n",
    "            cmap='coolwarm', cbar=False,\n",
    "            ax=ax)\n",
    "\n",
    "plt.show()"
   ]
  },
  {
   "cell_type": "markdown",
   "metadata": {},
   "source": [
    "They are correlated e.g., (x3,x5) and (x2,x4) are correlated positively and negatively respectively."
   ]
  },
  {
   "cell_type": "markdown",
   "metadata": {},
   "source": [
    "### 1d)\n",
    "Create scatter plots between the response, `y`, and each of the 4 continuous inputs. "
   ]
  },
  {
   "cell_type": "markdown",
   "metadata": {},
   "source": [
    "#### 1d) - SOLUTION"
   ]
  },
  {
   "cell_type": "code",
   "execution_count": 21,
   "metadata": {},
   "outputs": [],
   "source": [
    "input_names = df1.drop(columns=['y']).columns\n",
    "lf1= df1.copy().\\\n",
    "reset_index().\\\n",
    "rename(columns={'index': 'rowid'}).\\\n",
    "melt(id_vars=['rowid', 'y'], value_vars=input_names, ignore_index=True)"
   ]
  },
  {
   "cell_type": "code",
   "execution_count": 22,
   "metadata": {},
   "outputs": [
    {
     "data": {
      "text/html": [
       "<div>\n",
       "<style scoped>\n",
       "    .dataframe tbody tr th:only-of-type {\n",
       "        vertical-align: middle;\n",
       "    }\n",
       "\n",
       "    .dataframe tbody tr th {\n",
       "        vertical-align: top;\n",
       "    }\n",
       "\n",
       "    .dataframe thead th {\n",
       "        text-align: right;\n",
       "    }\n",
       "</style>\n",
       "<table border=\"1\" class=\"dataframe\">\n",
       "  <thead>\n",
       "    <tr style=\"text-align: right;\">\n",
       "      <th></th>\n",
       "      <th>rowid</th>\n",
       "      <th>y</th>\n",
       "      <th>variable</th>\n",
       "      <th>value</th>\n",
       "    </tr>\n",
       "  </thead>\n",
       "  <tbody>\n",
       "    <tr>\n",
       "      <th>0</th>\n",
       "      <td>0</td>\n",
       "      <td>-0.380343</td>\n",
       "      <td>x1</td>\n",
       "      <td>0.426148</td>\n",
       "    </tr>\n",
       "    <tr>\n",
       "      <th>1</th>\n",
       "      <td>1</td>\n",
       "      <td>1.137283</td>\n",
       "      <td>x1</td>\n",
       "      <td>-1.170112</td>\n",
       "    </tr>\n",
       "    <tr>\n",
       "      <th>2</th>\n",
       "      <td>2</td>\n",
       "      <td>5.943899</td>\n",
       "      <td>x1</td>\n",
       "      <td>-1.320624</td>\n",
       "    </tr>\n",
       "    <tr>\n",
       "      <th>3</th>\n",
       "      <td>3</td>\n",
       "      <td>-0.236591</td>\n",
       "      <td>x1</td>\n",
       "      <td>0.370071</td>\n",
       "    </tr>\n",
       "    <tr>\n",
       "      <th>4</th>\n",
       "      <td>4</td>\n",
       "      <td>1.528802</td>\n",
       "      <td>x1</td>\n",
       "      <td>-0.962987</td>\n",
       "    </tr>\n",
       "    <tr>\n",
       "      <th>...</th>\n",
       "      <td>...</td>\n",
       "      <td>...</td>\n",
       "      <td>...</td>\n",
       "      <td>...</td>\n",
       "    </tr>\n",
       "    <tr>\n",
       "      <th>545</th>\n",
       "      <td>105</td>\n",
       "      <td>0.864300</td>\n",
       "      <td>x5</td>\n",
       "      <td>0.049433</td>\n",
       "    </tr>\n",
       "    <tr>\n",
       "      <th>546</th>\n",
       "      <td>106</td>\n",
       "      <td>-0.016731</td>\n",
       "      <td>x5</td>\n",
       "      <td>0.183100</td>\n",
       "    </tr>\n",
       "    <tr>\n",
       "      <th>547</th>\n",
       "      <td>107</td>\n",
       "      <td>4.708666</td>\n",
       "      <td>x5</td>\n",
       "      <td>0.618717</td>\n",
       "    </tr>\n",
       "    <tr>\n",
       "      <th>548</th>\n",
       "      <td>108</td>\n",
       "      <td>2.402124</td>\n",
       "      <td>x5</td>\n",
       "      <td>0.924023</td>\n",
       "    </tr>\n",
       "    <tr>\n",
       "      <th>549</th>\n",
       "      <td>109</td>\n",
       "      <td>0.341613</td>\n",
       "      <td>x5</td>\n",
       "      <td>1.765656</td>\n",
       "    </tr>\n",
       "  </tbody>\n",
       "</table>\n",
       "<p>550 rows × 4 columns</p>\n",
       "</div>"
      ],
      "text/plain": [
       "     rowid         y variable     value\n",
       "0        0 -0.380343       x1  0.426148\n",
       "1        1  1.137283       x1 -1.170112\n",
       "2        2  5.943899       x1 -1.320624\n",
       "3        3 -0.236591       x1  0.370071\n",
       "4        4  1.528802       x1 -0.962987\n",
       "..     ...       ...      ...       ...\n",
       "545    105  0.864300       x5  0.049433\n",
       "546    106 -0.016731       x5  0.183100\n",
       "547    107  4.708666       x5  0.618717\n",
       "548    108  2.402124       x5  0.924023\n",
       "549    109  0.341613       x5  1.765656\n",
       "\n",
       "[550 rows x 4 columns]"
      ]
     },
     "execution_count": 22,
     "metadata": {},
     "output_type": "execute_result"
    }
   ],
   "source": [
    "lf1"
   ]
  },
  {
   "cell_type": "code",
   "execution_count": 25,
   "metadata": {},
   "outputs": [
    {
     "data": {
      "image/png": "[encoded data removed]",
      "text/plain": [
       "<Figure size 2500x500 with 5 Axes>"
      ]
     },
     "metadata": {},
     "output_type": "display_data"
    }
   ],
   "source": [
    "sns.relplot(data=lf1, x='value', y='y', col='variable')\n",
    "\n",
    "plt.show()"
   ]
  },
  {
   "cell_type": "markdown",
   "metadata": {},
   "source": [
    "Did you mean 5 inputs in the question?"
   ]
  },
  {
   "cell_type": "markdown",
   "metadata": {},
   "source": [
    "### 1e)\n",
    "You will fit 3 linear models using `statsmodels`. The `statsmodels` formula api is imported in for you below."
   ]
  },
  {
   "cell_type": "code",
   "execution_count": 28,
   "metadata": {},
   "outputs": [],
   "source": [
    "import statsmodels.formula.api as smf"
   ]
  },
  {
   "cell_type": "markdown",
   "metadata": {},
   "source": [
    "You must fit the following linear models:\n",
    "\n",
    "* Linear additive features\n",
    "* All MAIN EFFECT linear features AND ALL pair-wise interactions between the inputs\n",
    "* All MAIN EFFECT linear features, ALL pair-wise interactions, ALL three-way (triplet) interactions, and ALL 4-way interactions between the inputs.\n",
    "\n",
    "Assign the model with linear additive terms to the object, `fit1_add`. Assign the model with up to all pair-wise interactions to the object, `fit1_pairs`. Assign the model with up to all 4-way interactions between the inputs to the object `fit1_4way`.  \n",
    "\n",
    "Display the summary of each model to the screen.\n",
    "\n",
    "**HINT**: Remember the `**` operator can help create interactions in the formula interface...  "
   ]
  },
  {
   "cell_type": "markdown",
   "metadata": {},
   "source": [
    "#### 1e) - SOLUTION"
   ]
  },
  {
   "cell_type": "code",
   "execution_count": 29,
   "metadata": {},
   "outputs": [],
   "source": [
    "fit1_add= smf.ols(formula='y~x1+x2+x3+x4+x5', data=df1).fit()\n",
    "fit1_pairs= smf.ols(formula='y~(x1+x2+x3+x4+x5)**2', data=df1).fit()\n",
    "fit1_4way= smf.ols(formula='y~(x1+x2+x3+x4+x5)**4', data=df1).fit()"
   ]
  },
  {
   "cell_type": "code",
   "execution_count": 31,
   "metadata": {},
   "outputs": [
    {
     "name": "stdout",
     "output_type": "stream",
     "text": [
      "                            OLS Regression Results                            \n",
      "==============================================================================\n",
      "Dep. Variable:                      y   R-squared:                       0.247\n",
      "Model:                            OLS   Adj. R-squared:                  0.211\n",
      "Method:                 Least Squares   F-statistic:                     6.840\n",
      "Date:                Wed, 13 Dec 2023   Prob (F-statistic):           1.49e-05\n",
      "Time:                        23:36:13   Log-Likelihood:                -266.03\n",
      "No. Observations:                 110   AIC:                             544.1\n",
      "Df Residuals:                     104   BIC:                             560.3\n",
      "Df Model:                           5                                         \n",
      "Covariance Type:            nonrobust                                         \n",
      "==============================================================================\n",
      "                 coef    std err          t      P>|t|      [0.025      0.975]\n",
      "------------------------------------------------------------------------------\n",
      "Intercept     -0.1259      0.272     -0.462      0.645      -0.666       0.414\n",
      "x1            -0.9361      0.244     -3.831      0.000      -1.421      -0.452\n",
      "x2             1.0860      0.276      3.939      0.000       0.539       1.633\n",
      "x3            -0.2086      0.235     -0.887      0.377      -0.675       0.258\n",
      "x4             0.2311      0.254      0.910      0.365      -0.273       0.735\n",
      "x5            -0.2936      0.294     -0.998      0.321      -0.877       0.290\n",
      "==============================================================================\n",
      "Omnibus:                        3.143   Durbin-Watson:                   2.028\n",
      "Prob(Omnibus):                  0.208   Jarque-Bera (JB):                2.974\n",
      "Skew:                          -0.157   Prob(JB):                        0.226\n",
      "Kurtosis:                       3.742   Cond. No.                         1.48\n",
      "==============================================================================\n",
      "\n",
      "Notes:\n",
      "[1] Standard Errors assume that the covariance matrix of the errors is correctly specified.\n"
     ]
    }
   ],
   "source": [
    "print(fit1_add.summary())"
   ]
  },
  {
   "cell_type": "code",
   "execution_count": 32,
   "metadata": {},
   "outputs": [
    {
     "name": "stdout",
     "output_type": "stream",
     "text": [
      "                            OLS Regression Results                            \n",
      "==============================================================================\n",
      "Dep. Variable:                      y   R-squared:                       0.889\n",
      "Model:                            OLS   Adj. R-squared:                  0.871\n",
      "Method:                 Least Squares   F-statistic:                     50.17\n",
      "Date:                Wed, 13 Dec 2023   Prob (F-statistic):           4.20e-38\n",
      "Time:                        23:36:44   Log-Likelihood:                -160.79\n",
      "No. Observations:                 110   AIC:                             353.6\n",
      "Df Residuals:                      94   BIC:                             396.8\n",
      "Df Model:                          15                                         \n",
      "Covariance Type:            nonrobust                                         \n",
      "==============================================================================\n",
      "                 coef    std err          t      P>|t|      [0.025      0.975]\n",
      "------------------------------------------------------------------------------\n",
      "Intercept      0.1260      0.117      1.075      0.285      -0.107       0.359\n",
      "x1            -0.8337      0.105     -7.916      0.000      -1.043      -0.625\n",
      "x2             0.8650      0.126      6.864      0.000       0.615       1.115\n",
      "x3             0.0275      0.105      0.261      0.794      -0.182       0.237\n",
      "x4             0.1021      0.108      0.949      0.345      -0.111       0.316\n",
      "x5            -0.2718      0.137     -1.991      0.049      -0.543      -0.001\n",
      "x1:x2          1.1629      0.110     10.550      0.000       0.944       1.382\n",
      "x1:x3         -1.6030      0.087    -18.361      0.000      -1.776      -1.430\n",
      "x1:x4         -0.1049      0.114     -0.916      0.362      -0.332       0.122\n",
      "x1:x5         -0.1130      0.145     -0.778      0.438      -0.401       0.175\n",
      "x2:x3         -0.0333      0.104     -0.321      0.749      -0.239       0.172\n",
      "x2:x4          0.0315      0.120      0.262      0.794      -0.207       0.270\n",
      "x2:x5          0.1225      0.119      1.026      0.307      -0.114       0.359\n",
      "x3:x4          0.2312      0.094      2.457      0.016       0.044       0.418\n",
      "x3:x5         -0.1041      0.124     -0.838      0.404      -0.351       0.143\n",
      "x4:x5          0.1834      0.154      1.187      0.238      -0.123       0.490\n",
      "==============================================================================\n",
      "Omnibus:                        0.347   Durbin-Watson:                   2.025\n",
      "Prob(Omnibus):                  0.841   Jarque-Bera (JB):                0.116\n",
      "Skew:                           0.066   Prob(JB):                        0.944\n",
      "Kurtosis:                       3.090   Cond. No.                         3.19\n",
      "==============================================================================\n",
      "\n",
      "Notes:\n",
      "[1] Standard Errors assume that the covariance matrix of the errors is correctly specified.\n"
     ]
    }
   ],
   "source": [
    "print(fit1_pairs.summary())"
   ]
  },
  {
   "cell_type": "code",
   "execution_count": 33,
   "metadata": {},
   "outputs": [
    {
     "name": "stdout",
     "output_type": "stream",
     "text": [
      "                            OLS Regression Results                            \n",
      "==============================================================================\n",
      "Dep. Variable:                      y   R-squared:                       0.911\n",
      "Model:                            OLS   Adj. R-squared:                  0.877\n",
      "Method:                 Least Squares   F-statistic:                     26.94\n",
      "Date:                Wed, 13 Dec 2023   Prob (F-statistic):           2.52e-30\n",
      "Time:                        23:37:15   Log-Likelihood:                -148.64\n",
      "No. Observations:                 110   AIC:                             359.3\n",
      "Df Residuals:                      79   BIC:                             443.0\n",
      "Df Model:                          30                                         \n",
      "Covariance Type:            nonrobust                                         \n",
      "===============================================================================\n",
      "                  coef    std err          t      P>|t|      [0.025      0.975]\n",
      "-------------------------------------------------------------------------------\n",
      "Intercept       0.1729      0.123      1.410      0.163      -0.071       0.417\n",
      "x1             -0.7976      0.117     -6.838      0.000      -1.030      -0.565\n",
      "x2              0.9119      0.145      6.300      0.000       0.624       1.200\n",
      "x3             -0.0113      0.113     -0.100      0.920      -0.236       0.213\n",
      "x4              0.1538      0.128      1.202      0.233      -0.101       0.408\n",
      "x5             -0.3234      0.170     -1.908      0.060      -0.661       0.014\n",
      "x1:x2           1.2392      0.128      9.684      0.000       0.984       1.494\n",
      "x1:x3          -1.6178      0.109    -14.791      0.000      -1.836      -1.400\n",
      "x1:x4          -0.1224      0.129     -0.945      0.348      -0.380       0.135\n",
      "x1:x5          -0.3443      0.203     -1.697      0.094      -0.748       0.060\n",
      "x2:x3          -0.1491      0.137     -1.087      0.280      -0.422       0.124\n",
      "x2:x4           0.2025      0.138      1.469      0.146      -0.072       0.477\n",
      "x2:x5           0.0286      0.161      0.177      0.860      -0.292       0.349\n",
      "x3:x4           0.2319      0.119      1.951      0.055      -0.005       0.469\n",
      "x3:x5          -0.2080      0.165     -1.262      0.211      -0.536       0.120\n",
      "x4:x5           0.3442      0.178      1.938      0.056      -0.009       0.698\n",
      "x1:x2:x3       -0.0817      0.132     -0.620      0.537      -0.344       0.181\n",
      "x1:x2:x4        0.1493      0.156      0.957      0.341      -0.161       0.460\n",
      "x1:x2:x5       -0.2522      0.215     -1.176      0.243      -0.679       0.175\n",
      "x1:x3:x4        0.1036      0.130      0.797      0.428      -0.155       0.363\n",
      "x1:x3:x5       -0.0629      0.174     -0.362      0.719      -0.409       0.284\n",
      "x1:x4:x5        0.2147      0.228      0.941      0.349      -0.239       0.669\n",
      "x2:x3:x4        0.1120      0.137      0.820      0.415      -0.160       0.384\n",
      "x2:x3:x5       -0.0389      0.158     -0.246      0.806      -0.354       0.276\n",
      "x2:x4:x5        0.3871      0.186      2.083      0.041       0.017       0.757\n",
      "x3:x4:x5       -0.0856      0.173     -0.496      0.621      -0.429       0.258\n",
      "x1:x2:x3:x4     0.3291      0.162      2.031      0.046       0.007       0.652\n",
      "x1:x2:x3:x5     0.0561      0.142      0.396      0.693      -0.226       0.338\n",
      "x1:x2:x4:x5     0.1173      0.287      0.409      0.684      -0.454       0.688\n",
      "x1:x3:x4:x5     0.3839      0.179      2.149      0.035       0.028       0.739\n",
      "x2:x3:x4:x5    -0.0285      0.201     -0.142      0.887      -0.428       0.371\n",
      "==============================================================================\n",
      "Omnibus:                        0.183   Durbin-Watson:                   2.137\n",
      "Prob(Omnibus):                  0.912   Jarque-Bera (JB):                0.127\n",
      "Skew:                          -0.081   Prob(JB):                        0.938\n",
      "Kurtosis:                       2.962   Cond. No.                         9.90\n",
      "==============================================================================\n",
      "\n",
      "Notes:\n",
      "[1] Standard Errors assume that the covariance matrix of the errors is correctly specified.\n"
     ]
    }
   ],
   "source": [
    "print(fit1_4way.summary())"
   ]
  },
  {
   "cell_type": "markdown",
   "metadata": {},
   "source": [
    "### 1f)\n",
    "The additive and pair-wise interaction models are subsets of the model with up to all 4-way interactions. Thus, all three models have some features in common. Which features are statistically significant (based on the 5% significance level, thus using the 95% confidence interval) in the three models? Are any features significant in all three models?\n",
    "\n",
    "To help, the cell below defines the `my_coefplot()` function to visualize coefficient estimates and confidence intervals."
   ]
  },
  {
   "cell_type": "code",
   "execution_count": 34,
   "metadata": {},
   "outputs": [],
   "source": [
    "def my_coefplot(mod, figsize_use=(10, 4)):\n",
    "    fig, ax = plt.subplots(figsize=figsize_use)\n",
    "    \n",
    "    ax.errorbar( y=mod.params.index,\n",
    "                 x=mod.params,\n",
    "                 xerr = 2 * mod.bse,\n",
    "                 fmt='o', color='k', ecolor='k', elinewidth=2, ms=10)\n",
    "    \n",
    "    ax.axvline(x=0, linestyle='--', linewidth=3.5, color='grey')\n",
    "    \n",
    "    ax.set_xlabel('coefficient value')\n",
    "    \n",
    "    plt.show()"
   ]
  },
  {
   "cell_type": "markdown",
   "metadata": {},
   "source": [
    "#### 1f) - SOLUTION"
   ]
  },
  {
   "cell_type": "code",
   "execution_count": 35,
   "metadata": {},
   "outputs": [
    {
     "data": {
      "image/png": "[encoded data removed]",
      "text/plain": [
       "<Figure size 1000x400 with 1 Axes>"
      ]
     },
     "metadata": {},
     "output_type": "display_data"
    }
   ],
   "source": [
    "my_coefplot(fit1_add)"
   ]
  },
  {
   "cell_type": "markdown",
   "metadata": {},
   "source": [
    "x1 and x2 are significant."
   ]
  },
  {
   "cell_type": "code",
   "execution_count": 36,
   "metadata": {},
   "outputs": [
    {
     "data": {
      "image/png": "[encoded data removed]",
      "text/plain": [
       "<Figure size 1000x400 with 1 Axes>"
      ]
     },
     "metadata": {},
     "output_type": "display_data"
    }
   ],
   "source": [
    "my_coefplot(fit1_pairs)"
   ]
  },
  {
   "cell_type": "markdown",
   "metadata": {},
   "source": [
    "x1, x1:x3, x1:x2 and x2 are significant."
   ]
  },
  {
   "cell_type": "markdown",
   "metadata": {},
   "source": [
    "### 1g)\n",
    "Which of the three models is considered to be the best performing model based on R-squared? Your assessment should be based on the complete data set used to fit the models."
   ]
  },
  {
   "cell_type": "markdown",
   "metadata": {},
   "source": [
    "#### 1g) - SOLUTION"
   ]
  },
  {
   "cell_type": "code",
   "execution_count": 37,
   "metadata": {},
   "outputs": [
    {
     "data": {
      "text/plain": [
       "0.2474728891878183"
      ]
     },
     "execution_count": 37,
     "metadata": {},
     "output_type": "execute_result"
    }
   ],
   "source": [
    "fit1_add.rsquared"
   ]
  },
  {
   "cell_type": "code",
   "execution_count": 38,
   "metadata": {},
   "outputs": [
    {
     "data": {
      "text/plain": [
       "0.888962967855327"
      ]
     },
     "execution_count": 38,
     "metadata": {},
     "output_type": "execute_result"
    }
   ],
   "source": [
    "fit1_pairs.rsquared"
   ]
  },
  {
   "cell_type": "code",
   "execution_count": 39,
   "metadata": {},
   "outputs": [
    {
     "data": {
      "text/plain": [
       "0.9109676322235685"
      ]
     },
     "execution_count": 39,
     "metadata": {},
     "output_type": "execute_result"
    }
   ],
   "source": [
    "fit1_4way.rsquared"
   ]
  },
  {
   "cell_type": "markdown",
   "metadata": {},
   "source": [
    "fit_4way is the best."
   ]
  },
  {
   "cell_type": "markdown",
   "metadata": {},
   "source": [
    "### 1h)\n",
    "Your assessment in 1g) was based just on the training set. You will now use cross-validation to train and assess the three models. You may accomplish this task one of several different ways. You may define your own function which executes the data splitting via scikit-learn functions, but uses statsmodels for the model fitting and testing within each fold. Alternatively, you may use scikit-learn functions to manage the cross-validation for you.\n",
    "\n",
    "\n",
    "The cell below imports methods from scikit-learn and patsy to allow you to train and compare linear regression models with cross-validation. Again, you may define your own function and use statsmodels for the modeling portions."
   ]
  },
  {
   "cell_type": "code",
   "execution_count": 41,
   "metadata": {},
   "outputs": [],
   "source": [
    "from patsy import dmatrices\n",
    "\n",
    "from sklearn.linear_model import LinearRegression\n",
    "\n",
    "from sklearn.model_selection import KFold\n",
    "\n",
    "from sklearn.model_selection import cross_val_score"
   ]
  },
  {
   "cell_type": "markdown",
   "metadata": {},
   "source": [
    "Regardless of how you choose to execute this task, you must use 5-fold cross-validation to train and assess the three models you fit previously. You must compare the models via Root Mean Squared Error (RMSE) performance metric. If you are using `cross_val_score()` to manage the cross-validation, you must use the `neg_root_mean_squared_error` scoring function (the negative of the Root Mean Squared Error (RMSE) ). \n",
    "\n",
    "Which model is the best based on 5-fold cross-validation?\n",
    "\n",
    "**IMPORTANT**: Do **NOT** standardize the features before performing the cross-validation for the exam. It is better to standardize the features WITHIN the folds, but you may ignore such actions for this final exam."
   ]
  },
  {
   "cell_type": "markdown",
   "metadata": {},
   "source": [
    "#### 1h) - SOLUTION"
   ]
  },
  {
   "cell_type": "code",
   "execution_count": 42,
   "metadata": {},
   "outputs": [],
   "source": [
    "kf = KFold(n_splits=5, shuffle=True, random_state=101)"
   ]
  },
  {
   "cell_type": "code",
   "execution_count": 47,
   "metadata": {},
   "outputs": [
    {
     "data": {
      "text/plain": [
       "5"
      ]
     },
     "execution_count": 47,
     "metadata": {},
     "output_type": "execute_result"
    }
   ],
   "source": [
    "kf.get_n_splits()"
   ]
  },
  {
   "cell_type": "code",
   "execution_count": 48,
   "metadata": {},
   "outputs": [],
   "source": [
    "sk_lm = LinearRegression(fit_intercept=False)"
   ]
  },
  {
   "cell_type": "code",
   "execution_count": 49,
   "metadata": {},
   "outputs": [],
   "source": [
    "formula_list = ['y ~ x1 + x2 + x3 + x4 + x5',\n",
    "                'y ~ (x1 + x2 + x3 + x4 + x5)**2',\n",
    "                'y ~ (x1 + x2 + x3 + x4 + x5)**4']"
   ]
  },
  {
   "cell_type": "code",
   "execution_count": 50,
   "metadata": {},
   "outputs": [],
   "source": [
    "def lm_cross_val_score(mod_name, a_formula, init_mod, the_data, cv):\n",
    "    # create the feature and output arrays using the formula\n",
    "    y, X = dmatrices( a_formula, data=the_data )\n",
    "    \n",
    "    # train and test within each fold - return the test set scores\n",
    "    # rsquared\n",
    "    test_r2 = cross_val_score( init_mod, X, y.ravel(), cv=cv )\n",
    "    # rmse\n",
    "    test_rmse = -cross_val_score( init_mod, X, y.ravel(), cv=cv, scoring='neg_root_mean_squared_error' )\n",
    "    \n",
    "    # book keeping\n",
    "    res_df=pd.DataFrame({'R-squared': test_r2,\n",
    "                         'RMSE': test_rmse})\n",
    "    \n",
    "    res_df['fold_id'] = res_df.index + 1\n",
    "    res_df['model_name'] = mod_name\n",
    "    res_df['model_formula'] = a_formula\n",
    "    res_df['num_coefs'] = X.shape[1]\n",
    "    \n",
    "    return res_df"
   ]
  },
  {
   "cell_type": "code",
   "execution_count": 56,
   "metadata": {},
   "outputs": [],
   "source": [
    "cv_score_list = []\n",
    "\n",
    "for m in range( len(formula_list) ):\n",
    "    \n",
    "    cv_score_list.append( lm_cross_val_score(m, formula_list[m], init_mod=sk_lm, the_data=df1, cv=kf) )"
   ]
  },
  {
   "cell_type": "code",
   "execution_count": 57,
   "metadata": {},
   "outputs": [],
   "source": [
    "cv_score_df=pd.concat( cv_score_list, ignore_index=True )"
   ]
  },
  {
   "cell_type": "code",
   "execution_count": 58,
   "metadata": {},
   "outputs": [
    {
     "data": {
      "text/html": [
       "<div>\n",
       "<style scoped>\n",
       "    .dataframe tbody tr th:only-of-type {\n",
       "        vertical-align: middle;\n",
       "    }\n",
       "\n",
       "    .dataframe tbody tr th {\n",
       "        vertical-align: top;\n",
       "    }\n",
       "\n",
       "    .dataframe thead th {\n",
       "        text-align: right;\n",
       "    }\n",
       "</style>\n",
       "<table border=\"1\" class=\"dataframe\">\n",
       "  <thead>\n",
       "    <tr style=\"text-align: right;\">\n",
       "      <th></th>\n",
       "      <th>R-squared</th>\n",
       "      <th>RMSE</th>\n",
       "      <th>fold_id</th>\n",
       "      <th>model_name</th>\n",
       "      <th>model_formula</th>\n",
       "      <th>num_coefs</th>\n",
       "    </tr>\n",
       "  </thead>\n",
       "  <tbody>\n",
       "    <tr>\n",
       "      <th>0</th>\n",
       "      <td>-0.297131</td>\n",
       "      <td>3.056565</td>\n",
       "      <td>1</td>\n",
       "      <td>0</td>\n",
       "      <td>y ~ x1 + x2 + x3 + x4 + x5</td>\n",
       "      <td>6</td>\n",
       "    </tr>\n",
       "    <tr>\n",
       "      <th>1</th>\n",
       "      <td>0.051897</td>\n",
       "      <td>2.686559</td>\n",
       "      <td>2</td>\n",
       "      <td>0</td>\n",
       "      <td>y ~ x1 + x2 + x3 + x4 + x5</td>\n",
       "      <td>6</td>\n",
       "    </tr>\n",
       "    <tr>\n",
       "      <th>2</th>\n",
       "      <td>0.277405</td>\n",
       "      <td>2.848732</td>\n",
       "      <td>3</td>\n",
       "      <td>0</td>\n",
       "      <td>y ~ x1 + x2 + x3 + x4 + x5</td>\n",
       "      <td>6</td>\n",
       "    </tr>\n",
       "    <tr>\n",
       "      <th>3</th>\n",
       "      <td>0.282378</td>\n",
       "      <td>3.030188</td>\n",
       "      <td>4</td>\n",
       "      <td>0</td>\n",
       "      <td>y ~ x1 + x2 + x3 + x4 + x5</td>\n",
       "      <td>6</td>\n",
       "    </tr>\n",
       "    <tr>\n",
       "      <th>4</th>\n",
       "      <td>0.194301</td>\n",
       "      <td>2.755688</td>\n",
       "      <td>5</td>\n",
       "      <td>0</td>\n",
       "      <td>y ~ x1 + x2 + x3 + x4 + x5</td>\n",
       "      <td>6</td>\n",
       "    </tr>\n",
       "    <tr>\n",
       "      <th>5</th>\n",
       "      <td>0.788436</td>\n",
       "      <td>1.234420</td>\n",
       "      <td>1</td>\n",
       "      <td>1</td>\n",
       "      <td>y ~ (x1 + x2 + x3 + x4 + x5)**2</td>\n",
       "      <td>16</td>\n",
       "    </tr>\n",
       "    <tr>\n",
       "      <th>6</th>\n",
       "      <td>0.848146</td>\n",
       "      <td>1.075182</td>\n",
       "      <td>2</td>\n",
       "      <td>1</td>\n",
       "      <td>y ~ (x1 + x2 + x3 + x4 + x5)**2</td>\n",
       "      <td>16</td>\n",
       "    </tr>\n",
       "    <tr>\n",
       "      <th>7</th>\n",
       "      <td>0.814272</td>\n",
       "      <td>1.444251</td>\n",
       "      <td>3</td>\n",
       "      <td>1</td>\n",
       "      <td>y ~ (x1 + x2 + x3 + x4 + x5)**2</td>\n",
       "      <td>16</td>\n",
       "    </tr>\n",
       "    <tr>\n",
       "      <th>8</th>\n",
       "      <td>0.869747</td>\n",
       "      <td>1.290968</td>\n",
       "      <td>4</td>\n",
       "      <td>1</td>\n",
       "      <td>y ~ (x1 + x2 + x3 + x4 + x5)**2</td>\n",
       "      <td>16</td>\n",
       "    </tr>\n",
       "    <tr>\n",
       "      <th>9</th>\n",
       "      <td>0.822160</td>\n",
       "      <td>1.294669</td>\n",
       "      <td>5</td>\n",
       "      <td>1</td>\n",
       "      <td>y ~ (x1 + x2 + x3 + x4 + x5)**2</td>\n",
       "      <td>16</td>\n",
       "    </tr>\n",
       "    <tr>\n",
       "      <th>10</th>\n",
       "      <td>0.743768</td>\n",
       "      <td>1.358496</td>\n",
       "      <td>1</td>\n",
       "      <td>2</td>\n",
       "      <td>y ~ (x1 + x2 + x3 + x4 + x5)**4</td>\n",
       "      <td>31</td>\n",
       "    </tr>\n",
       "    <tr>\n",
       "      <th>11</th>\n",
       "      <td>0.786697</td>\n",
       "      <td>1.274287</td>\n",
       "      <td>2</td>\n",
       "      <td>2</td>\n",
       "      <td>y ~ (x1 + x2 + x3 + x4 + x5)**4</td>\n",
       "      <td>31</td>\n",
       "    </tr>\n",
       "    <tr>\n",
       "      <th>12</th>\n",
       "      <td>0.721262</td>\n",
       "      <td>1.769302</td>\n",
       "      <td>3</td>\n",
       "      <td>2</td>\n",
       "      <td>y ~ (x1 + x2 + x3 + x4 + x5)**4</td>\n",
       "      <td>31</td>\n",
       "    </tr>\n",
       "    <tr>\n",
       "      <th>13</th>\n",
       "      <td>0.704759</td>\n",
       "      <td>1.943614</td>\n",
       "      <td>4</td>\n",
       "      <td>2</td>\n",
       "      <td>y ~ (x1 + x2 + x3 + x4 + x5)**4</td>\n",
       "      <td>31</td>\n",
       "    </tr>\n",
       "    <tr>\n",
       "      <th>14</th>\n",
       "      <td>0.790788</td>\n",
       "      <td>1.404225</td>\n",
       "      <td>5</td>\n",
       "      <td>2</td>\n",
       "      <td>y ~ (x1 + x2 + x3 + x4 + x5)**4</td>\n",
       "      <td>31</td>\n",
       "    </tr>\n",
       "  </tbody>\n",
       "</table>\n",
       "</div>"
      ],
      "text/plain": [
       "    R-squared      RMSE  fold_id  model_name                    model_formula  \\\n",
       "0   -0.297131  3.056565        1           0       y ~ x1 + x2 + x3 + x4 + x5   \n",
       "1    0.051897  2.686559        2           0       y ~ x1 + x2 + x3 + x4 + x5   \n",
       "2    0.277405  2.848732        3           0       y ~ x1 + x2 + x3 + x4 + x5   \n",
       "3    0.282378  3.030188        4           0       y ~ x1 + x2 + x3 + x4 + x5   \n",
       "4    0.194301  2.755688        5           0       y ~ x1 + x2 + x3 + x4 + x5   \n",
       "5    0.788436  1.234420        1           1  y ~ (x1 + x2 + x3 + x4 + x5)**2   \n",
       "6    0.848146  1.075182        2           1  y ~ (x1 + x2 + x3 + x4 + x5)**2   \n",
       "7    0.814272  1.444251        3           1  y ~ (x1 + x2 + x3 + x4 + x5)**2   \n",
       "8    0.869747  1.290968        4           1  y ~ (x1 + x2 + x3 + x4 + x5)**2   \n",
       "9    0.822160  1.294669        5           1  y ~ (x1 + x2 + x3 + x4 + x5)**2   \n",
       "10   0.743768  1.358496        1           2  y ~ (x1 + x2 + x3 + x4 + x5)**4   \n",
       "11   0.786697  1.274287        2           2  y ~ (x1 + x2 + x3 + x4 + x5)**4   \n",
       "12   0.721262  1.769302        3           2  y ~ (x1 + x2 + x3 + x4 + x5)**4   \n",
       "13   0.704759  1.943614        4           2  y ~ (x1 + x2 + x3 + x4 + x5)**4   \n",
       "14   0.790788  1.404225        5           2  y ~ (x1 + x2 + x3 + x4 + x5)**4   \n",
       "\n",
       "    num_coefs  \n",
       "0           6  \n",
       "1           6  \n",
       "2           6  \n",
       "3           6  \n",
       "4           6  \n",
       "5          16  \n",
       "6          16  \n",
       "7          16  \n",
       "8          16  \n",
       "9          16  \n",
       "10         31  \n",
       "11         31  \n",
       "12         31  \n",
       "13         31  \n",
       "14         31  "
      ]
     },
     "execution_count": 58,
     "metadata": {},
     "output_type": "execute_result"
    }
   ],
   "source": [
    "cv_score_df"
   ]
  },
  {
   "cell_type": "code",
   "execution_count": 54,
   "metadata": {},
   "outputs": [
    {
     "data": {
      "image/png": "[encoded data removed]",
      "text/plain": [
       "<Figure size 500x500 with 1 Axes>"
      ]
     },
     "metadata": {},
     "output_type": "display_data"
    }
   ],
   "source": [
    "sns.catplot(data = cv_score_df, x='model_name', y='R-squared', kind='point', join=False,\n",
    "            errorbar=('ci', 68))\n",
    "\n",
    "plt.show()"
   ]
  },
  {
   "cell_type": "code",
   "execution_count": 60,
   "metadata": {},
   "outputs": [
    {
     "data": {
      "image/png": "[encoded data removed]",
      "text/plain": [
       "<Figure size 500x500 with 1 Axes>"
      ]
     },
     "metadata": {},
     "output_type": "display_data"
    }
   ],
   "source": [
    "sns.catplot(data = cv_score_df.loc[ cv_score_df.model_name > 0, : ], \n",
    "            x='model_name', y='R-squared', kind='point', join=False,\n",
    "            errorbar=('ci', 68))\n",
    "\n",
    "plt.show()"
   ]
  },
  {
   "cell_type": "markdown",
   "metadata": {},
   "source": [
    "fit1_add is the best based on the training set."
   ]
  },
  {
   "cell_type": "markdown",
   "metadata": {},
   "source": [
    "### BONUS: Problem 01 - 5 points\n",
    "Regardless of your answer in 1h), you will now fit the model with up to all pair-wise interactions using LASSO regression. You MUST tune the `alpha` parameter (the regularization strength) using 5-fold cross-validation. You do not need to standardize the features for the exam and you may use the built-in cross-validation method for Lasso which is imported in for you below."
   ]
  },
  {
   "cell_type": "code",
   "execution_count": 61,
   "metadata": {},
   "outputs": [],
   "source": [
    "from sklearn.linear_model import LassoCV"
   ]
  },
  {
   "cell_type": "markdown",
   "metadata": {},
   "source": [
    "You must try 101 values between 0.0001 and 10000 defined in the LOG-SPACE for the `alpha` parameter. Assign the result to the `lasso_cv_1` object.\n",
    "\n",
    "To receive full BONUS, you must display the following:\n",
    "\n",
    "* The optimal `alpha` parameter value according to 5-fold cross-validation.\n",
    "* The coefficient estimated associated with the optimal or best lasso model. How many coefficients have been \"TURNED OFF\" and set to zero?"
   ]
  },
  {
   "cell_type": "markdown",
   "metadata": {},
   "source": [
    "#### BONUS: Problem 01 - SOLUTION"
   ]
  },
  {
   "cell_type": "code",
   "execution_count": 62,
   "metadata": {},
   "outputs": [],
   "source": [
    "y_1, X_1 = dmatrices('y ~ ( x1+x2+x3+x4+x5)**2', data = df1)"
   ]
  },
  {
   "cell_type": "code",
   "execution_count": 63,
   "metadata": {},
   "outputs": [],
   "source": [
    "#alpha_grid = np.exp( np.linspace(-4, 4, num=101) )\n",
    "alpha_grid = np.logspace(-4, 4, 101)"
   ]
  },
  {
   "cell_type": "code",
   "execution_count": 65,
   "metadata": {},
   "outputs": [],
   "source": [
    "lasso_cv1 = LassoCV( alphas=alpha_grid, fit_intercept=False, max_iter=25001, cv=kf).fit( X_1, y_1.ravel() )"
   ]
  },
  {
   "cell_type": "code",
   "execution_count": 66,
   "metadata": {},
   "outputs": [
    {
     "data": {
      "text/plain": [
       "0.07585775750291836"
      ]
     },
     "execution_count": 66,
     "metadata": {},
     "output_type": "execute_result"
    }
   ],
   "source": [
    "# The optimal alpha value\n",
    "lasso_cv1.alpha_"
   ]
  },
  {
   "cell_type": "code",
   "execution_count": 69,
   "metadata": {},
   "outputs": [
    {
     "data": {
      "text/plain": [
       "array([False, False, False,  True, False, False, False, False, False,\n",
       "        True,  True,  True, False, False, False,  True])"
      ]
     },
     "execution_count": 69,
     "metadata": {},
     "output_type": "execute_result"
    }
   ],
   "source": [
    "# The coefficient estimates associated with the tuned alpha value are:\n",
    "lasso_cv1.coef_==0"
   ]
  },
  {
   "cell_type": "markdown",
   "metadata": {},
   "source": [
    "5 coefficients have been \"TURNED OFF\"."
   ]
  },
  {
   "cell_type": "markdown",
   "metadata": {},
   "source": [
    "## Problem 2 - Binary classification - 50 points\n",
    "\n",
    "A data set is read in for you below. It consists of 5 continuous inputs, `x1` through `x5`, and a binary outcome `y`."
   ]
  },
  {
   "cell_type": "code",
   "execution_count": 70,
   "metadata": {},
   "outputs": [],
   "source": [
    "url_2 = 'final_prob02.csv'\n",
    "\n",
    "df2 = pd.read_csv(url_2)"
   ]
  },
  {
   "cell_type": "markdown",
   "metadata": {},
   "source": [
    "### 2a)\n",
    "How many rows are in the data set? What is the data type associated with the binary outcome `y`?"
   ]
  },
  {
   "cell_type": "markdown",
   "metadata": {},
   "source": [
    "#### 2a) - SOLUTION"
   ]
  },
  {
   "cell_type": "code",
   "execution_count": 71,
   "metadata": {},
   "outputs": [
    {
     "data": {
      "text/plain": [
       "(220, 6)"
      ]
     },
     "execution_count": 71,
     "metadata": {},
     "output_type": "execute_result"
    }
   ],
   "source": [
    "df2.shape"
   ]
  },
  {
   "cell_type": "markdown",
   "metadata": {},
   "source": [
    "220 rows"
   ]
  },
  {
   "cell_type": "code",
   "execution_count": 72,
   "metadata": {},
   "outputs": [
    {
     "data": {
      "text/plain": [
       "x1    float64\n",
       "x2    float64\n",
       "x3    float64\n",
       "x4    float64\n",
       "x5    float64\n",
       "y       int64\n",
       "dtype: object"
      ]
     },
     "execution_count": 72,
     "metadata": {},
     "output_type": "execute_result"
    }
   ],
   "source": [
    "df2.dtypes"
   ]
  },
  {
   "cell_type": "markdown",
   "metadata": {},
   "source": [
    "'y' has integer data type."
   ]
  },
  {
   "cell_type": "markdown",
   "metadata": {},
   "source": [
    "### 2b)\n",
    "What are the unique values of `y` and how many rows are associated with each unique value?"
   ]
  },
  {
   "cell_type": "markdown",
   "metadata": {},
   "source": [
    "#### 2b) - SOLUTION"
   ]
  },
  {
   "cell_type": "code",
   "execution_count": 73,
   "metadata": {},
   "outputs": [
    {
     "data": {
      "text/plain": [
       "0    118\n",
       "1    102\n",
       "Name: y, dtype: int64"
      ]
     },
     "execution_count": 73,
     "metadata": {},
     "output_type": "execute_result"
    }
   ],
   "source": [
    "df2.y.value_counts()"
   ]
  },
  {
   "cell_type": "markdown",
   "metadata": {},
   "source": [
    "### 2c)\n",
    "Visualize the summary statistics associated with the input features using boxplots. Do the inputs roughly cover the same range?"
   ]
  },
  {
   "cell_type": "markdown",
   "metadata": {},
   "source": [
    "#### 2c) - SOLUTION"
   ]
  },
  {
   "cell_type": "code",
   "execution_count": 75,
   "metadata": {},
   "outputs": [],
   "source": [
    "df2_feat = df2.drop('y', axis=1)"
   ]
  },
  {
   "cell_type": "code",
   "execution_count": 78,
   "metadata": {},
   "outputs": [
    {
     "data": {
      "image/png": "[encoded data removed]",
      "text/plain": [
       "<Figure size 500x500 with 1 Axes>"
      ]
     },
     "metadata": {},
     "output_type": "display_data"
    }
   ],
   "source": [
    "sns.catplot(data=df2_feat, kind='box')\n",
    "\n",
    "plt.show()"
   ]
  },
  {
   "cell_type": "markdown",
   "metadata": {},
   "source": [
    "Yes, the inputs roughly cover the same range."
   ]
  },
  {
   "cell_type": "code",
   "execution_count": 80,
   "metadata": {},
   "outputs": [],
   "source": [
    "## This one is for me only. Tried to apply the same code as problem 1 for logistic.\n",
    "input_names = df2.drop(columns=['y']).columns\n",
    "lf2= df2.copy().\\\n",
    "reset_index().\\\n",
    "rename(columns={'index': 'rowid'}).\\\n",
    "melt(id_vars=['rowid', 'y'], value_vars=input_names, ignore_index=True)"
   ]
  },
  {
   "cell_type": "code",
   "execution_count": 82,
   "metadata": {},
   "outputs": [
    {
     "data": {
      "image/png": "[encoded data removed]",
      "text/plain": [
       "<Figure size 2500x500 with 5 Axes>"
      ]
     },
     "metadata": {},
     "output_type": "display_data"
    }
   ],
   "source": [
    "## This one is for me only. Tried to apply the same code as problem 1 for logistic.\n",
    "\n",
    "sns.relplot(data=lf2, x='value', y='y', col='variable')\n",
    "\n",
    "plt.show()"
   ]
  },
  {
   "cell_type": "markdown",
   "metadata": {},
   "source": [
    "### 2d)\n",
    "Are the inputs highly correlated or anticorrelated with each other?"
   ]
  },
  {
   "cell_type": "markdown",
   "metadata": {},
   "source": [
    "#### 2d) - SOLUTION"
   ]
  },
  {
   "cell_type": "code",
   "execution_count": 79,
   "metadata": {},
   "outputs": [
    {
     "data": {
      "image/png": "[encoded data removed]",
      "text/plain": [
       "<Figure size 640x480 with 1 Axes>"
      ]
     },
     "metadata": {},
     "output_type": "display_data"
    }
   ],
   "source": [
    "fig, ax = plt.subplots()\n",
    "\n",
    "sns.heatmap(data = df2_feat.corr(numeric_only=True),\n",
    "            vmin=-1, vmax=1, center=0, \n",
    "            annot=True, annot_kws={'fontsize': 10},\n",
    "            cmap='coolwarm', cbar=False,\n",
    "            ax=ax)\n",
    "\n",
    "plt.show()"
   ]
  },
  {
   "cell_type": "markdown",
   "metadata": {},
   "source": [
    "### 2e)\n",
    "You will fit three logistic regression models to the data. You must use the `statsmodels` formula api to fit the models.\n",
    "\n",
    "You must fit the following logistic regression models:\n",
    "\n",
    "* Linear additive features\n",
    "* All MAIN EFFECT linear features AND ALL pair-wise interactions between the inputs\n",
    "* All MAIN EFFECT linear features, ALL pair-wise interactions, ALL three-way (triplet) interactions, and ALL 4-way interactions between the inputs.\n",
    "\n",
    "Assign the model with linear additive terms to the object, `fit2_add`. Assign the model with up to all pair-wise interactions to the object, `fit2_pairs`. Assign the model with up to all 4-way interactions between the inputs to the object `fit2_4way`.  \n",
    "\n",
    "Display the summary of each model to the screen.\n",
    "\n",
    "**HINT**: Remember the `**` operator can help create interactions in the formula interface...  "
   ]
  },
  {
   "cell_type": "markdown",
   "metadata": {},
   "source": [
    "#### 2e) - SOLUTION"
   ]
  },
  {
   "cell_type": "code",
   "execution_count": 87,
   "metadata": {},
   "outputs": [
    {
     "name": "stdout",
     "output_type": "stream",
     "text": [
      "Optimization terminated successfully.\n",
      "         Current function value: 0.658346\n",
      "         Iterations 5\n",
      "                           Logit Regression Results                           \n",
      "==============================================================================\n",
      "Dep. Variable:                      y   No. Observations:                  220\n",
      "Model:                          Logit   Df Residuals:                      214\n",
      "Method:                           MLE   Df Model:                            5\n",
      "Date:                Thu, 14 Dec 2023   Pseudo R-squ.:                 0.04657\n",
      "Time:                        00:21:21   Log-Likelihood:                -144.84\n",
      "converged:                       True   LL-Null:                       -151.91\n",
      "Covariance Type:            nonrobust   LLR p-value:                   0.01470\n",
      "==============================================================================\n",
      "                 coef    std err          z      P>|z|      [0.025      0.975]\n",
      "------------------------------------------------------------------------------\n",
      "Intercept     -0.2548      0.147     -1.730      0.084      -0.543       0.034\n",
      "x1            -0.0075      0.143     -0.053      0.958      -0.288       0.273\n",
      "x2             0.0335      0.134      0.250      0.803      -0.229       0.296\n",
      "x3            -0.0077      0.133     -0.058      0.954      -0.267       0.252\n",
      "x4             0.1492      0.139      1.074      0.283      -0.123       0.422\n",
      "x5            -0.4688      0.145     -3.236      0.001      -0.753      -0.185\n",
      "==============================================================================\n"
     ]
    }
   ],
   "source": [
    "fit2_add = smf.logit(formula='y ~ x1 + x2 + x3 + x4 + x5', data=df2).fit()\n",
    "print(fit2_add.summary())"
   ]
  },
  {
   "cell_type": "code",
   "execution_count": 88,
   "metadata": {},
   "outputs": [
    {
     "name": "stdout",
     "output_type": "stream",
     "text": [
      "Optimization terminated successfully.\n",
      "         Current function value: 0.454774\n",
      "         Iterations 8\n",
      "                           Logit Regression Results                           \n",
      "==============================================================================\n",
      "Dep. Variable:                      y   No. Observations:                  220\n",
      "Model:                          Logit   Df Residuals:                      204\n",
      "Method:                           MLE   Df Model:                           15\n",
      "Date:                Thu, 14 Dec 2023   Pseudo R-squ.:                  0.3414\n",
      "Time:                        00:21:21   Log-Likelihood:                -100.05\n",
      "converged:                       True   LL-Null:                       -151.91\n",
      "Covariance Type:            nonrobust   LLR p-value:                 2.563e-15\n",
      "==============================================================================\n",
      "                 coef    std err          z      P>|z|      [0.025      0.975]\n",
      "------------------------------------------------------------------------------\n",
      "Intercept     -0.4839      0.201     -2.406      0.016      -0.878      -0.090\n",
      "x1            -0.0237      0.202     -0.117      0.907      -0.420       0.373\n",
      "x2             0.0935      0.197      0.475      0.635      -0.292       0.479\n",
      "x3            -0.0228      0.199     -0.114      0.909      -0.413       0.368\n",
      "x4             0.4083      0.254      1.610      0.107      -0.089       0.905\n",
      "x5            -0.9624      0.232     -4.146      0.000      -1.417      -0.507\n",
      "x1:x2          0.0224      0.183      0.123      0.902      -0.336       0.381\n",
      "x1:x3          0.3352      0.214      1.568      0.117      -0.084       0.754\n",
      "x1:x4          0.1690      0.245      0.690      0.490      -0.311       0.649\n",
      "x1:x5         -0.4209      0.225     -1.873      0.061      -0.861       0.020\n",
      "x2:x3         -0.2073      0.185     -1.122      0.262      -0.570       0.155\n",
      "x2:x4         -0.2440      0.226     -1.081      0.280      -0.686       0.198\n",
      "x2:x5         -0.0559      0.233     -0.240      0.810      -0.512       0.400\n",
      "x3:x4         -1.9490      0.366     -5.323      0.000      -2.667      -1.231\n",
      "x3:x5         -0.2014      0.171     -1.176      0.240      -0.537       0.134\n",
      "x4:x5          1.8125      0.339      5.348      0.000       1.148       2.477\n",
      "==============================================================================\n"
     ]
    }
   ],
   "source": [
    "fit2_pairs = smf.logit(formula='y ~ (x1 + x2 + x3 + x4 + x5)**2', data=df2).fit()\n",
    "print(fit2_pairs.summary())"
   ]
  },
  {
   "cell_type": "code",
   "execution_count": 89,
   "metadata": {},
   "outputs": [
    {
     "name": "stdout",
     "output_type": "stream",
     "text": [
      "Optimization terminated successfully.\n",
      "         Current function value: 0.416135\n",
      "         Iterations 8\n",
      "                           Logit Regression Results                           \n",
      "==============================================================================\n",
      "Dep. Variable:                      y   No. Observations:                  220\n",
      "Model:                          Logit   Df Residuals:                      189\n",
      "Method:                           MLE   Df Model:                           30\n",
      "Date:                Thu, 14 Dec 2023   Pseudo R-squ.:                  0.3973\n",
      "Time:                        00:21:22   Log-Likelihood:                -91.550\n",
      "converged:                       True   LL-Null:                       -151.91\n",
      "Covariance Type:            nonrobust   LLR p-value:                 7.724e-13\n",
      "===============================================================================\n",
      "                  coef    std err          z      P>|z|      [0.025      0.975]\n",
      "-------------------------------------------------------------------------------\n",
      "Intercept      -0.4066      0.224     -1.815      0.069      -0.845       0.032\n",
      "x1             -0.0709      0.252     -0.282      0.778      -0.564       0.422\n",
      "x2              0.1159      0.241      0.482      0.630      -0.356       0.587\n",
      "x3              0.0315      0.247      0.128      0.898      -0.452       0.515\n",
      "x4              0.2086      0.330      0.632      0.528      -0.439       0.856\n",
      "x5             -0.9515      0.292     -3.254      0.001      -1.525      -0.378\n",
      "x1:x2           0.3116      0.277      1.127      0.260      -0.230       0.854\n",
      "x1:x3           0.4659      0.296      1.573      0.116      -0.115       1.046\n",
      "x1:x4           0.0960      0.359      0.267      0.789      -0.608       0.800\n",
      "x1:x5          -0.7170      0.351     -2.040      0.041      -1.406      -0.028\n",
      "x2:x3          -0.0430      0.255     -0.168      0.866      -0.543       0.457\n",
      "x2:x4          -0.0814      0.313     -0.260      0.795      -0.696       0.533\n",
      "x2:x5          -0.1293      0.328     -0.394      0.693      -0.772       0.513\n",
      "x3:x4          -2.3945      0.519     -4.615      0.000      -3.411      -1.378\n",
      "x3:x5          -0.3680      0.339     -1.086      0.278      -1.032       0.296\n",
      "x4:x5           1.9845      0.450      4.410      0.000       1.103       2.867\n",
      "x1:x2:x3       -0.1306      0.276     -0.474      0.636      -0.671       0.410\n",
      "x1:x2:x4       -0.0214      0.390     -0.055      0.956      -0.786       0.743\n",
      "x1:x2:x5        0.1559      0.322      0.484      0.628      -0.475       0.787\n",
      "x1:x3:x4        0.2193      0.666      0.329      0.742      -1.085       1.524\n",
      "x1:x3:x5        0.0457      0.352      0.130      0.897      -0.644       0.735\n",
      "x1:x4:x5        0.6288      0.522      1.204      0.229      -0.395       1.652\n",
      "x2:x3:x4        0.3434      0.392      0.875      0.382      -0.426       1.113\n",
      "x2:x3:x5        0.4070      0.395      1.029      0.303      -0.368       1.182\n",
      "x2:x4:x5       -0.3587      0.426     -0.843      0.399      -1.193       0.475\n",
      "x3:x4:x5       -0.0028      0.393     -0.007      0.994      -0.773       0.767\n",
      "x1:x2:x3:x4    -0.3991      0.525     -0.760      0.447      -1.428       0.630\n",
      "x1:x2:x3:x5    -0.9594      0.379     -2.535      0.011      -1.701      -0.218\n",
      "x1:x2:x4:x5     0.0388      0.447      0.087      0.931      -0.837       0.915\n",
      "x1:x3:x4:x5     0.6239      0.490      1.274      0.203      -0.336       1.584\n",
      "x2:x3:x4:x5    -0.2725      0.502     -0.543      0.587      -1.256       0.711\n",
      "===============================================================================\n"
     ]
    }
   ],
   "source": [
    "fit2_4way = smf.logit(formula='y ~ (x1 + x2 + x3 + x4 + x5)**4', data=df2).fit()\n",
    "print(fit2_4way.summary())"
   ]
  },
  {
   "cell_type": "markdown",
   "metadata": {},
   "source": [
    "### 2f)\n",
    "The additive and pair-wise interaction models are subsets of the model with up to all 4-way interactions. Thus, all three models have some features in common. Which features are statistically significant (based on the 5% significance level, thus using the 95% confidence interval) in the three models? Are any features significant in all three models?"
   ]
  },
  {
   "cell_type": "markdown",
   "metadata": {},
   "source": [
    "#### 2f) - SOLUTION"
   ]
  },
  {
   "cell_type": "code",
   "execution_count": 90,
   "metadata": {},
   "outputs": [
    {
     "data": {
      "image/png": "[encoded data removed]",
      "text/plain": [
       "<Figure size 1000x400 with 1 Axes>"
      ]
     },
     "metadata": {},
     "output_type": "display_data"
    }
   ],
   "source": [
    "my_coefplot(fit2_add)"
   ]
  },
  {
   "cell_type": "markdown",
   "metadata": {},
   "source": [
    "x5 is significant."
   ]
  },
  {
   "cell_type": "code",
   "execution_count": 91,
   "metadata": {},
   "outputs": [
    {
     "data": {
      "image/png": "[encoded data removed]",
      "text/plain": [
       "<Figure size 1000x400 with 1 Axes>"
      ]
     },
     "metadata": {},
     "output_type": "display_data"
    }
   ],
   "source": [
    "my_coefplot(fit2_pairs)"
   ]
  },
  {
   "cell_type": "markdown",
   "metadata": {},
   "source": [
    "Intercept, x5, x3:x4, x4:x5 are significant."
   ]
  },
  {
   "cell_type": "code",
   "execution_count": 92,
   "metadata": {},
   "outputs": [
    {
     "data": {
      "image/png": "[encoded data removed]",
      "text/plain": [
       "<Figure size 1000x400 with 1 Axes>"
      ]
     },
     "metadata": {},
     "output_type": "display_data"
    }
   ],
   "source": [
    "my_coefplot(fit2_4way)"
   ]
  },
  {
   "cell_type": "markdown",
   "metadata": {},
   "source": [
    "x5, x3:x4, x4:x5, x1:x2:x3:x5 are significant."
   ]
  },
  {
   "cell_type": "markdown",
   "metadata": {},
   "source": [
    "### 2g)\n",
    "You will now use stratified 5-fold cross-validation to train and assess the three logistic regression models. You must use scikit-learn methods for assessing the model performance via cross-validation. The relevant methods from sklearn are imported for you in the cell below."
   ]
  },
  {
   "cell_type": "code",
   "execution_count": 93,
   "metadata": {},
   "outputs": [],
   "source": [
    "from sklearn.linear_model import LogisticRegression\n",
    "\n",
    "from sklearn.model_selection import StratifiedKFold"
   ]
  },
  {
   "cell_type": "markdown",
   "metadata": {},
   "source": [
    "You must set the `penalty` argument to `'none'` for all three models. You should use the `cross_val_score()` function to train and assess the model performance based on the `'accuracy'` scoring function. You do not need to standardize the features for the exam.\n",
    "\n",
    "Which of the three models is considered the best performing model based on cross-validation?"
   ]
  },
  {
   "cell_type": "markdown",
   "metadata": {},
   "source": [
    "#### 2g) - SOLUTION"
   ]
  },
  {
   "cell_type": "code",
   "execution_count": 94,
   "metadata": {},
   "outputs": [],
   "source": [
    "sk_min_loss = LogisticRegression(penalty=None, solver='lbfgs', fit_intercept=False, max_iter=25001)"
   ]
  },
  {
   "cell_type": "code",
   "execution_count": 100,
   "metadata": {},
   "outputs": [],
   "source": [
    "kf = StratifiedKFold(n_splits=5, shuffle=True, random_state=9483156)"
   ]
  },
  {
   "cell_type": "code",
   "execution_count": 101,
   "metadata": {},
   "outputs": [],
   "source": [
    "def logistic_cross_val_score(mod_name, a_formula, init_mod, data_df, cv):\n",
    "    # create the feature and output arrays using the formula\n",
    "    y, X = dmatrices( a_formula, data=data_df )\n",
    "    \n",
    "    # train and test within each fold - return the test set scores\n",
    "    test_res = cross_val_score( init_mod, X, y.ravel(), cv=cv )\n",
    "    \n",
    "    # book keeping\n",
    "    res_df = pd.DataFrame({'Accuracy': test_res})\n",
    "    res_df['fold_id'] = res_df.index + 1\n",
    "    res_df['model_name'] = mod_name\n",
    "    res_df['model_formula'] = a_formula\n",
    "    res_df['num_coefs'] = X.shape[1]\n",
    "    \n",
    "    return res_df"
   ]
  },
  {
   "cell_type": "code",
   "execution_count": 102,
   "metadata": {},
   "outputs": [],
   "source": [
    "cv_score_list = []\n",
    "\n",
    "for m in range(len(formula_list)):\n",
    "    \n",
    "    cv_score_list.append( logistic_cross_val_score(m, formula_list[m], init_mod=sk_min_loss, data_df=df2, cv=kf) )"
   ]
  },
  {
   "cell_type": "code",
   "execution_count": 103,
   "metadata": {},
   "outputs": [],
   "source": [
    "cv_score_df = pd.concat( cv_score_list, ignore_index=True )"
   ]
  },
  {
   "cell_type": "code",
   "execution_count": 104,
   "metadata": {},
   "outputs": [
    {
     "data": {
      "text/html": [
       "<div>\n",
       "<style scoped>\n",
       "    .dataframe tbody tr th:only-of-type {\n",
       "        vertical-align: middle;\n",
       "    }\n",
       "\n",
       "    .dataframe tbody tr th {\n",
       "        vertical-align: top;\n",
       "    }\n",
       "\n",
       "    .dataframe thead th {\n",
       "        text-align: right;\n",
       "    }\n",
       "</style>\n",
       "<table border=\"1\" class=\"dataframe\">\n",
       "  <thead>\n",
       "    <tr style=\"text-align: right;\">\n",
       "      <th></th>\n",
       "      <th>Accuracy</th>\n",
       "      <th>fold_id</th>\n",
       "      <th>model_name</th>\n",
       "      <th>model_formula</th>\n",
       "      <th>num_coefs</th>\n",
       "    </tr>\n",
       "  </thead>\n",
       "  <tbody>\n",
       "    <tr>\n",
       "      <th>0</th>\n",
       "      <td>0.568182</td>\n",
       "      <td>1</td>\n",
       "      <td>0</td>\n",
       "      <td>y ~ x1 + x2 + x3 + x4 + x5</td>\n",
       "      <td>6</td>\n",
       "    </tr>\n",
       "    <tr>\n",
       "      <th>1</th>\n",
       "      <td>0.659091</td>\n",
       "      <td>2</td>\n",
       "      <td>0</td>\n",
       "      <td>y ~ x1 + x2 + x3 + x4 + x5</td>\n",
       "      <td>6</td>\n",
       "    </tr>\n",
       "    <tr>\n",
       "      <th>2</th>\n",
       "      <td>0.522727</td>\n",
       "      <td>3</td>\n",
       "      <td>0</td>\n",
       "      <td>y ~ x1 + x2 + x3 + x4 + x5</td>\n",
       "      <td>6</td>\n",
       "    </tr>\n",
       "    <tr>\n",
       "      <th>3</th>\n",
       "      <td>0.590909</td>\n",
       "      <td>4</td>\n",
       "      <td>0</td>\n",
       "      <td>y ~ x1 + x2 + x3 + x4 + x5</td>\n",
       "      <td>6</td>\n",
       "    </tr>\n",
       "    <tr>\n",
       "      <th>4</th>\n",
       "      <td>0.590909</td>\n",
       "      <td>5</td>\n",
       "      <td>0</td>\n",
       "      <td>y ~ x1 + x2 + x3 + x4 + x5</td>\n",
       "      <td>6</td>\n",
       "    </tr>\n",
       "    <tr>\n",
       "      <th>5</th>\n",
       "      <td>0.613636</td>\n",
       "      <td>1</td>\n",
       "      <td>1</td>\n",
       "      <td>y ~ (x1 + x2 + x3 + x4 + x5)**2</td>\n",
       "      <td>16</td>\n",
       "    </tr>\n",
       "    <tr>\n",
       "      <th>6</th>\n",
       "      <td>0.795455</td>\n",
       "      <td>2</td>\n",
       "      <td>1</td>\n",
       "      <td>y ~ (x1 + x2 + x3 + x4 + x5)**2</td>\n",
       "      <td>16</td>\n",
       "    </tr>\n",
       "    <tr>\n",
       "      <th>7</th>\n",
       "      <td>0.590909</td>\n",
       "      <td>3</td>\n",
       "      <td>1</td>\n",
       "      <td>y ~ (x1 + x2 + x3 + x4 + x5)**2</td>\n",
       "      <td>16</td>\n",
       "    </tr>\n",
       "    <tr>\n",
       "      <th>8</th>\n",
       "      <td>0.772727</td>\n",
       "      <td>4</td>\n",
       "      <td>1</td>\n",
       "      <td>y ~ (x1 + x2 + x3 + x4 + x5)**2</td>\n",
       "      <td>16</td>\n",
       "    </tr>\n",
       "    <tr>\n",
       "      <th>9</th>\n",
       "      <td>0.704545</td>\n",
       "      <td>5</td>\n",
       "      <td>1</td>\n",
       "      <td>y ~ (x1 + x2 + x3 + x4 + x5)**2</td>\n",
       "      <td>16</td>\n",
       "    </tr>\n",
       "    <tr>\n",
       "      <th>10</th>\n",
       "      <td>0.613636</td>\n",
       "      <td>1</td>\n",
       "      <td>2</td>\n",
       "      <td>y ~ (x1 + x2 + x3 + x4 + x5)**4</td>\n",
       "      <td>31</td>\n",
       "    </tr>\n",
       "    <tr>\n",
       "      <th>11</th>\n",
       "      <td>0.750000</td>\n",
       "      <td>2</td>\n",
       "      <td>2</td>\n",
       "      <td>y ~ (x1 + x2 + x3 + x4 + x5)**4</td>\n",
       "      <td>31</td>\n",
       "    </tr>\n",
       "    <tr>\n",
       "      <th>12</th>\n",
       "      <td>0.613636</td>\n",
       "      <td>3</td>\n",
       "      <td>2</td>\n",
       "      <td>y ~ (x1 + x2 + x3 + x4 + x5)**4</td>\n",
       "      <td>31</td>\n",
       "    </tr>\n",
       "    <tr>\n",
       "      <th>13</th>\n",
       "      <td>0.772727</td>\n",
       "      <td>4</td>\n",
       "      <td>2</td>\n",
       "      <td>y ~ (x1 + x2 + x3 + x4 + x5)**4</td>\n",
       "      <td>31</td>\n",
       "    </tr>\n",
       "    <tr>\n",
       "      <th>14</th>\n",
       "      <td>0.704545</td>\n",
       "      <td>5</td>\n",
       "      <td>2</td>\n",
       "      <td>y ~ (x1 + x2 + x3 + x4 + x5)**4</td>\n",
       "      <td>31</td>\n",
       "    </tr>\n",
       "  </tbody>\n",
       "</table>\n",
       "</div>"
      ],
      "text/plain": [
       "    Accuracy  fold_id  model_name                    model_formula  num_coefs\n",
       "0   0.568182        1           0       y ~ x1 + x2 + x3 + x4 + x5          6\n",
       "1   0.659091        2           0       y ~ x1 + x2 + x3 + x4 + x5          6\n",
       "2   0.522727        3           0       y ~ x1 + x2 + x3 + x4 + x5          6\n",
       "3   0.590909        4           0       y ~ x1 + x2 + x3 + x4 + x5          6\n",
       "4   0.590909        5           0       y ~ x1 + x2 + x3 + x4 + x5          6\n",
       "5   0.613636        1           1  y ~ (x1 + x2 + x3 + x4 + x5)**2         16\n",
       "6   0.795455        2           1  y ~ (x1 + x2 + x3 + x4 + x5)**2         16\n",
       "7   0.590909        3           1  y ~ (x1 + x2 + x3 + x4 + x5)**2         16\n",
       "8   0.772727        4           1  y ~ (x1 + x2 + x3 + x4 + x5)**2         16\n",
       "9   0.704545        5           1  y ~ (x1 + x2 + x3 + x4 + x5)**2         16\n",
       "10  0.613636        1           2  y ~ (x1 + x2 + x3 + x4 + x5)**4         31\n",
       "11  0.750000        2           2  y ~ (x1 + x2 + x3 + x4 + x5)**4         31\n",
       "12  0.613636        3           2  y ~ (x1 + x2 + x3 + x4 + x5)**4         31\n",
       "13  0.772727        4           2  y ~ (x1 + x2 + x3 + x4 + x5)**4         31\n",
       "14  0.704545        5           2  y ~ (x1 + x2 + x3 + x4 + x5)**4         31"
      ]
     },
     "execution_count": 104,
     "metadata": {},
     "output_type": "execute_result"
    }
   ],
   "source": [
    "cv_score_df"
   ]
  },
  {
   "cell_type": "code",
   "execution_count": 105,
   "metadata": {},
   "outputs": [
    {
     "data": {
      "image/png": "[encoded data removed]",
      "text/plain": [
       "<Figure size 500x500 with 1 Axes>"
      ]
     },
     "metadata": {},
     "output_type": "display_data"
    }
   ],
   "source": [
    "sns.catplot(data = cv_score_df, x='model_name', y='Accuracy', kind='point', join=False,\n",
    "            errorbar=('ci', 68))\n",
    "\n",
    "plt.show()"
   ]
  },
  {
   "cell_type": "markdown",
   "metadata": {},
   "source": [
    "Model 1 is more accurate."
   ]
  },
  {
   "cell_type": "markdown",
   "metadata": {},
   "source": [
    "### Bonus: Problem 02 - 5 points\n",
    "Regardless of your answer to 2g), you will train a logistic regression model with up to all pair-wise interactions applying the LASSO penalty. You will tune the `C` parameter using stratified 5-fold cross-validation. You may use the built-in cross-validation method for logistic regression, which is imported in for you below."
   ]
  },
  {
   "cell_type": "code",
   "execution_count": 106,
   "metadata": {},
   "outputs": [],
   "source": [
    "from sklearn.linear_model import LogisticRegressionCV"
   ]
  },
  {
   "cell_type": "markdown",
   "metadata": {},
   "source": [
    "You must set the `penalty` argument to `l1` in `LogisticRegressionCV()` and you must consider 101 `C` parameter values between 0.0001 and 10000 in the LOG-SPACE.\n",
    "\n",
    "Assign the result to the `lasso_cv_2` object.\n",
    "\n",
    "To receive full BONUS, you must display the following:\n",
    "\n",
    "* The optimal `C` parameter value according to stratified 5-fold cross-validation.\n",
    "* The coefficient estimated associated with the optimal or best lasso model. How many coefficients have been \"TURNED OFF\" and set to zero?"
   ]
  },
  {
   "cell_type": "markdown",
   "metadata": {},
   "source": [
    "#### BONUS: Problem 02 - SOLUTION"
   ]
  },
  {
   "cell_type": "code",
   "execution_count": 107,
   "metadata": {},
   "outputs": [],
   "source": [
    "y_2, X_2 = dmatrices(formula_list[1], data=df2)"
   ]
  },
  {
   "cell_type": "code",
   "execution_count": 108,
   "metadata": {},
   "outputs": [],
   "source": [
    "Cgrid = np.logspace(-4, 4, 101)"
   ]
  },
  {
   "cell_type": "code",
   "execution_count": 109,
   "metadata": {},
   "outputs": [],
   "source": [
    "lasso_cv2 = LogisticRegressionCV(penalty='l1', Cs=Cgrid, solver='saga', cv=kf, max_iter=25001, fit_intercept=False).\\\n",
    "fit(X_2, y_2.ravel())"
   ]
  },
  {
   "cell_type": "code",
   "execution_count": 110,
   "metadata": {},
   "outputs": [
    {
     "data": {
      "text/plain": [
       "array([0.83176377])"
      ]
     },
     "execution_count": 110,
     "metadata": {},
     "output_type": "execute_result"
    }
   ],
   "source": [
    "# The optimal alpha value\n",
    "lasso_cv2.C_"
   ]
  },
  {
   "cell_type": "code",
   "execution_count": 117,
   "metadata": {},
   "outputs": [
    {
     "data": {
      "text/plain": [
       "3"
      ]
     },
     "execution_count": 117,
     "metadata": {},
     "output_type": "execute_result"
    }
   ],
   "source": [
    "np.sum(lasso_cv2.coef_==0)"
   ]
  },
  {
   "cell_type": "markdown",
   "metadata": {},
   "source": [
    "3 features are turned off."
   ]
  },
  {
   "cell_type": "markdown",
   "metadata": {},
   "source": [
    "## BONUS Problems\n",
    "\n",
    "There are 2 bonus problem sthat require you to use methods introduced in the LAST MODULE (Week 14). Completing these BONUS problems may earn you a substantial amount of BONUS points.\n",
    "\n",
    "## BONUS -  10 points\n",
    "\n",
    "The Wisconsin Breast Cancer data set is imported in for you in the cell below. The data set is a classification data set, with the input features assigned to the `b_features` object and the binary outcome assigned to the `y_class` object. The `b_features` object is converted to a Pandas DataFrame for you and assigned to the `b_df` object."
   ]
  },
  {
   "cell_type": "code",
   "execution_count": 118,
   "metadata": {},
   "outputs": [],
   "source": [
    "from sklearn.datasets import load_breast_cancer\n",
    "\n",
    "b_features, y_class = load_breast_cancer(return_X_y=True)\n",
    "\n",
    "b_df = pd.DataFrame(b_features, columns=['X'+str(d).zfill(2) for d in range(b_features.shape[1])])"
   ]
  },
  {
   "cell_type": "markdown",
   "metadata": {},
   "source": [
    "You must use stratified 5-fold cross-validation to tune a logistic regression model with the Elastic Net penalty. You **must** use Pipeline to properly standardize the features before training the logistic regression model. You should tune the `l1_ratio` and `C` parameter with grid search. The relevant methods are imported in for you below."
   ]
  },
  {
   "cell_type": "code",
   "execution_count": 119,
   "metadata": {},
   "outputs": [],
   "source": [
    "from sklearn.preprocessing import StandardScaler\n",
    "\n",
    "from sklearn.pipeline import Pipeline\n",
    "\n",
    "from sklearn.model_selection import GridSearchCV"
   ]
  },
  {
   "cell_type": "code",
   "execution_count": null,
   "metadata": {},
   "outputs": [],
   "source": [
    "# add as many cells as you feel are necessary"
   ]
  },
  {
   "cell_type": "code",
   "execution_count": null,
   "metadata": {},
   "outputs": [],
   "source": [
    "from sklearn.decomposition import PCA"
   ]
  },
  {
   "cell_type": "code",
   "execution_count": null,
   "metadata": {},
   "outputs": [
    {
     "data": {
      "text/plain": [
       "5"
      ]
     },
     "metadata": {},
     "output_type": "display_data"
    }
   ],
   "source": [
    "enet_to_fit = LogisticRegression(penalty='elasticnet', solver='saga', random_state=202, max_iter=25001, fit_intercept=True)\n",
    "kf = StratifiedKFold(n_splits=5, shuffle=True, random_state=101)\n",
    "kf.get_n_splits()"
   ]
  },
  {
   "cell_type": "code",
   "execution_count": null,
   "metadata": {},
   "outputs": [],
   "source": [
    "enet_wflow_df = Pipeline(steps=[('std_inputs', StandardScaler()), \n",
    "                                 ('enet', enet_to_fit)] )"
   ]
  },
  {
   "cell_type": "code",
   "execution_count": null,
   "metadata": {},
   "outputs": [
    {
     "data": {
      "text/html": [
       "<style>#sk-container-id-1 {color: black;}#sk-container-id-1 pre{padding: 0;}#sk-container-id-1 div.sk-toggleable {background-color: white;}#sk-container-id-1 label.sk-toggleable__label {cursor: pointer;display: block;width: 100%;margin-bottom: 0;padding: 0.3em;box-sizing: border-box;text-align: center;}#sk-container-id-1 label.sk-toggleable__label-arrow:before {content: \"▸\";float: left;margin-right: 0.25em;color: #696969;}#sk-container-id-1 label.sk-toggleable__label-arrow:hover:before {color: black;}#sk-container-id-1 div.sk-estimator:hover label.sk-toggleable__label-arrow:before {color: black;}#sk-container-id-1 div.sk-toggleable__content {max-height: 0;max-width: 0;overflow: hidden;text-align: left;background-color: #f0f8ff;}#sk-container-id-1 div.sk-toggleable__content pre {margin: 0.2em;color: black;border-radius: 0.25em;background-color: #f0f8ff;}#sk-container-id-1 input.sk-toggleable__control:checked~div.sk-toggleable__content {max-height: 200px;max-width: 100%;overflow: auto;}#sk-container-id-1 input.sk-toggleable__control:checked~label.sk-toggleable__label-arrow:before {content: \"▾\";}#sk-container-id-1 div.sk-estimator input.sk-toggleable__control:checked~label.sk-toggleable__label {background-color: #d4ebff;}#sk-container-id-1 div.sk-label input.sk-toggleable__control:checked~label.sk-toggleable__label {background-color: #d4ebff;}#sk-container-id-1 input.sk-hidden--visually {border: 0;clip: rect(1px 1px 1px 1px);clip: rect(1px, 1px, 1px, 1px);height: 1px;margin: -1px;overflow: hidden;padding: 0;position: absolute;width: 1px;}#sk-container-id-1 div.sk-estimator {font-family: monospace;background-color: #f0f8ff;border: 1px dotted black;border-radius: 0.25em;box-sizing: border-box;margin-bottom: 0.5em;}#sk-container-id-1 div.sk-estimator:hover {background-color: #d4ebff;}#sk-container-id-1 div.sk-parallel-item::after {content: \"\";width: 100%;border-bottom: 1px solid gray;flex-grow: 1;}#sk-container-id-1 div.sk-label:hover label.sk-toggleable__label {background-color: #d4ebff;}#sk-container-id-1 div.sk-serial::before {content: \"\";position: absolute;border-left: 1px solid gray;box-sizing: border-box;top: 0;bottom: 0;left: 50%;z-index: 0;}#sk-container-id-1 div.sk-serial {display: flex;flex-direction: column;align-items: center;background-color: white;padding-right: 0.2em;padding-left: 0.2em;position: relative;}#sk-container-id-1 div.sk-item {position: relative;z-index: 1;}#sk-container-id-1 div.sk-parallel {display: flex;align-items: stretch;justify-content: center;background-color: white;position: relative;}#sk-container-id-1 div.sk-item::before, #sk-container-id-1 div.sk-parallel-item::before {content: \"\";position: absolute;border-left: 1px solid gray;box-sizing: border-box;top: 0;bottom: 0;left: 50%;z-index: -1;}#sk-container-id-1 div.sk-parallel-item {display: flex;flex-direction: column;z-index: 1;position: relative;background-color: white;}#sk-container-id-1 div.sk-parallel-item:first-child::after {align-self: flex-end;width: 50%;}#sk-container-id-1 div.sk-parallel-item:last-child::after {align-self: flex-start;width: 50%;}#sk-container-id-1 div.sk-parallel-item:only-child::after {width: 0;}#sk-container-id-1 div.sk-dashed-wrapped {border: 1px dashed gray;margin: 0 0.4em 0.5em 0.4em;box-sizing: border-box;padding-bottom: 0.4em;background-color: white;}#sk-container-id-1 div.sk-label label {font-family: monospace;font-weight: bold;display: inline-block;line-height: 1.2em;}#sk-container-id-1 div.sk-label-container {text-align: center;}#sk-container-id-1 div.sk-container {/* jupyter's `normalize.less` sets `[hidden] { display: none; }` but bootstrap.min.css set `[hidden] { display: none !important; }` so we also need the `!important` here to be able to override the default hidden behavior on the sphinx rendered scikit-learn.org. See: https://github.com/scikit-learn/scikit-learn/issues/21755 */display: inline-block !important;position: relative;}#sk-container-id-1 div.sk-text-repr-fallback {display: none;}</style><div id=\"sk-container-id-1\" class=\"sk-top-container\"><div class=\"sk-text-repr-fallback\"><pre>Pipeline(steps=[(&#x27;std_inputs&#x27;, StandardScaler()),\n",
       "                (&#x27;enet&#x27;,\n",
       "                 LogisticRegression(max_iter=25001, penalty=&#x27;elasticnet&#x27;,\n",
       "                                    random_state=202, solver=&#x27;saga&#x27;))])</pre><b>In a Jupyter environment, please rerun this cell to show the HTML representation or trust the notebook. <br />On GitHub, the HTML representation is unable to render, please try loading this page with nbviewer.org.</b></div><div class=\"sk-container\" hidden><div class=\"sk-item sk-dashed-wrapped\"><div class=\"sk-label-container\"><div class=\"sk-label sk-toggleable\"><input class=\"sk-toggleable__control sk-hidden--visually\" id=\"sk-estimator-id-1\" type=\"checkbox\" ><label for=\"sk-estimator-id-1\" class=\"sk-toggleable__label sk-toggleable__label-arrow\">Pipeline</label><div class=\"sk-toggleable__content\"><pre>Pipeline(steps=[(&#x27;std_inputs&#x27;, StandardScaler()),\n",
       "                (&#x27;enet&#x27;,\n",
       "                 LogisticRegression(max_iter=25001, penalty=&#x27;elasticnet&#x27;,\n",
       "                                    random_state=202, solver=&#x27;saga&#x27;))])</pre></div></div></div><div class=\"sk-serial\"><div class=\"sk-item\"><div class=\"sk-estimator sk-toggleable\"><input class=\"sk-toggleable__control sk-hidden--visually\" id=\"sk-estimator-id-2\" type=\"checkbox\" ><label for=\"sk-estimator-id-2\" class=\"sk-toggleable__label sk-toggleable__label-arrow\">StandardScaler</label><div class=\"sk-toggleable__content\"><pre>StandardScaler()</pre></div></div></div><div class=\"sk-item\"><div class=\"sk-estimator sk-toggleable\"><input class=\"sk-toggleable__control sk-hidden--visually\" id=\"sk-estimator-id-3\" type=\"checkbox\" ><label for=\"sk-estimator-id-3\" class=\"sk-toggleable__label sk-toggleable__label-arrow\">LogisticRegression</label><div class=\"sk-toggleable__content\"><pre>LogisticRegression(max_iter=25001, penalty=&#x27;elasticnet&#x27;, random_state=202,\n",
       "                   solver=&#x27;saga&#x27;)</pre></div></div></div></div></div></div></div>"
      ],
      "text/plain": [
       "Pipeline(steps=[('std_inputs', StandardScaler()),\n",
       "                ('enet',\n",
       "                 LogisticRegression(max_iter=25001, penalty='elasticnet',\n",
       "                                    random_state=202, solver='saga'))])"
      ]
     },
     "metadata": {},
     "output_type": "display_data"
    }
   ],
   "source": [
    "enet_wflow_df"
   ]
  },
  {
   "cell_type": "code",
   "execution_count": null,
   "metadata": {},
   "outputs": [],
   "source": [
    "enet_grid = {'enet__C': np.exp( np.linspace(-10, 10, num=17) ),\n",
    "             'enet__l1_ratio': np.linspace(0, 1, num=3)}"
   ]
  },
  {
   "cell_type": "code",
   "execution_count": null,
   "metadata": {},
   "outputs": [],
   "source": [
    "enet_search = GridSearchCV(enet_wflow_df, param_grid=enet_grid, cv=kf)"
   ]
  },
  {
   "cell_type": "code",
   "execution_count": null,
   "metadata": {},
   "outputs": [],
   "source": [
    "enet_search_results = enet_search.fit( b_df, y_class )"
   ]
  },
  {
   "cell_type": "code",
   "execution_count": null,
   "metadata": {},
   "outputs": [
    {
     "data": {
      "text/plain": [
       "{'enet__C': 1.0, 'enet__l1_ratio': 0.0}"
      ]
     },
     "metadata": {},
     "output_type": "display_data"
    }
   ],
   "source": [
    "enet_search_results.best_params_"
   ]
  },
  {
   "cell_type": "markdown",
   "metadata": {},
   "source": [
    "It gives us ridge and optimal enet_C =1. I think that the features are correlated."
   ]
  },
  {
   "cell_type": "code",
   "execution_count": 134,
   "metadata": {},
   "outputs": [
    {
     "data": {
      "image/png": "[encoded data removed]",
      "text/plain": [
       "<Figure size 640x480 with 1 Axes>"
      ]
     },
     "metadata": {},
     "output_type": "display_data"
    }
   ],
   "source": [
    "fig, ax = plt.subplots()\n",
    "\n",
    "sns.heatmap(data = b_df.corr(numeric_only=True),\n",
    "            vmin=-1, vmax=1, center=0, \n",
    "            cmap='coolwarm', cbar=False,\n",
    "            ax=ax)\n",
    "\n",
    "plt.show()"
   ]
  },
  {
   "cell_type": "code",
   "execution_count": 135,
   "metadata": {},
   "outputs": [
    {
     "data": {
      "text/plain": [
       "0.98067070330694"
      ]
     },
     "execution_count": 135,
     "metadata": {},
     "output_type": "execute_result"
    }
   ],
   "source": [
    "enet_search_results.best_score_"
   ]
  },
  {
   "cell_type": "code",
   "execution_count": 136,
   "metadata": {},
   "outputs": [
    {
     "data": {
      "text/plain": [
       "array([[-0.37809511, -0.4013131 , -0.36426672, -0.44510658, -0.15923505,\n",
       "         0.54132324, -0.84469506, -0.94795259,  0.07938503,  0.33028005,\n",
       "        -1.27871416,  0.25731522, -0.68176975, -0.99061973, -0.27172273,\n",
       "         0.75284081,  0.09586028, -0.32420811,  0.29600134,  0.66355806,\n",
       "        -1.01686985, -1.29660093, -0.82002198, -0.99088331, -0.68311941,\n",
       "         0.0377674 , -0.87098369, -0.92230109, -0.89249768, -0.4658588 ]])"
      ]
     },
     "execution_count": 136,
     "metadata": {},
     "output_type": "execute_result"
    }
   ],
   "source": [
    "enet_search_results.best_estimator_.named_steps['enet'].coef_"
   ]
  },
  {
   "cell_type": "code",
   "execution_count": 137,
   "metadata": {},
   "outputs": [
    {
     "data": {
      "text/plain": [
       "array([0, 1])"
      ]
     },
     "execution_count": 137,
     "metadata": {},
     "output_type": "execute_result"
    }
   ],
   "source": [
    "enet_search_results.classes_"
   ]
  },
  {
   "cell_type": "code",
   "execution_count": 138,
   "metadata": {},
   "outputs": [
    {
     "data": {
      "text/plain": [
       "array([[-0.37809511, -0.4013131 , -0.36426672, -0.44510658, -0.15923505,\n",
       "         0.54132324, -0.84469506, -0.94795259,  0.07938503,  0.33028005,\n",
       "        -1.27871416,  0.25731522, -0.68176975, -0.99061973, -0.27172273,\n",
       "         0.75284081,  0.09586028, -0.32420811,  0.29600134,  0.66355806,\n",
       "        -1.01686985, -1.29660093, -0.82002198, -0.99088331, -0.68311941,\n",
       "         0.0377674 , -0.87098369, -0.92230109, -0.89249768, -0.4658588 ]])"
      ]
     },
     "execution_count": 138,
     "metadata": {},
     "output_type": "execute_result"
    }
   ],
   "source": [
    "enet_search_results.best_estimator_.named_steps['enet'].coef_"
   ]
  },
  {
   "cell_type": "markdown",
   "metadata": {},
   "source": [
    "### BONUS - 10 points\n",
    "\n",
    "You must use stratified 5-fold cross-validation to tune Principal Component (PC) based logistic regression. You must tune the number of PCs to retain with the `penalty` term set to `'none'` in the logistic regression model. You **must** use Pipeline to properly standardize the features before performing PCA and training the logistic regression model. You should tune the `n_components` with grid search. The relevant methods are imported in for you below."
   ]
  },
  {
   "cell_type": "code",
   "execution_count": 142,
   "metadata": {},
   "outputs": [],
   "source": [
    "from sklearn.decomposition import PCA"
   ]
  },
  {
   "cell_type": "code",
   "execution_count": 175,
   "metadata": {},
   "outputs": [],
   "source": [
    "model_to_fit = LogisticRegression(penalty=None, random_state=202, max_iter=25001, fit_intercept=True)\n"
   ]
  },
  {
   "cell_type": "code",
   "execution_count": 176,
   "metadata": {},
   "outputs": [],
   "source": [
    "pc_wflow = Pipeline( steps=[('std_inputs', StandardScaler()), \n",
    "                                  ('pca', PCA()), \n",
    "                                  ('model', model_to_fit)] )"
   ]
  },
  {
   "cell_type": "code",
   "execution_count": 177,
   "metadata": {},
   "outputs": [
    {
     "data": {
      "text/html": [
       "<style>#sk-container-id-7 {color: black;}#sk-container-id-7 pre{padding: 0;}#sk-container-id-7 div.sk-toggleable {background-color: white;}#sk-container-id-7 label.sk-toggleable__label {cursor: pointer;display: block;width: 100%;margin-bottom: 0;padding: 0.3em;box-sizing: border-box;text-align: center;}#sk-container-id-7 label.sk-toggleable__label-arrow:before {content: \"▸\";float: left;margin-right: 0.25em;color: #696969;}#sk-container-id-7 label.sk-toggleable__label-arrow:hover:before {color: black;}#sk-container-id-7 div.sk-estimator:hover label.sk-toggleable__label-arrow:before {color: black;}#sk-container-id-7 div.sk-toggleable__content {max-height: 0;max-width: 0;overflow: hidden;text-align: left;background-color: #f0f8ff;}#sk-container-id-7 div.sk-toggleable__content pre {margin: 0.2em;color: black;border-radius: 0.25em;background-color: #f0f8ff;}#sk-container-id-7 input.sk-toggleable__control:checked~div.sk-toggleable__content {max-height: 200px;max-width: 100%;overflow: auto;}#sk-container-id-7 input.sk-toggleable__control:checked~label.sk-toggleable__label-arrow:before {content: \"▾\";}#sk-container-id-7 div.sk-estimator input.sk-toggleable__control:checked~label.sk-toggleable__label {background-color: #d4ebff;}#sk-container-id-7 div.sk-label input.sk-toggleable__control:checked~label.sk-toggleable__label {background-color: #d4ebff;}#sk-container-id-7 input.sk-hidden--visually {border: 0;clip: rect(1px 1px 1px 1px);clip: rect(1px, 1px, 1px, 1px);height: 1px;margin: -1px;overflow: hidden;padding: 0;position: absolute;width: 1px;}#sk-container-id-7 div.sk-estimator {font-family: monospace;background-color: #f0f8ff;border: 1px dotted black;border-radius: 0.25em;box-sizing: border-box;margin-bottom: 0.5em;}#sk-container-id-7 div.sk-estimator:hover {background-color: #d4ebff;}#sk-container-id-7 div.sk-parallel-item::after {content: \"\";width: 100%;border-bottom: 1px solid gray;flex-grow: 1;}#sk-container-id-7 div.sk-label:hover label.sk-toggleable__label {background-color: #d4ebff;}#sk-container-id-7 div.sk-serial::before {content: \"\";position: absolute;border-left: 1px solid gray;box-sizing: border-box;top: 0;bottom: 0;left: 50%;z-index: 0;}#sk-container-id-7 div.sk-serial {display: flex;flex-direction: column;align-items: center;background-color: white;padding-right: 0.2em;padding-left: 0.2em;position: relative;}#sk-container-id-7 div.sk-item {position: relative;z-index: 1;}#sk-container-id-7 div.sk-parallel {display: flex;align-items: stretch;justify-content: center;background-color: white;position: relative;}#sk-container-id-7 div.sk-item::before, #sk-container-id-7 div.sk-parallel-item::before {content: \"\";position: absolute;border-left: 1px solid gray;box-sizing: border-box;top: 0;bottom: 0;left: 50%;z-index: -1;}#sk-container-id-7 div.sk-parallel-item {display: flex;flex-direction: column;z-index: 1;position: relative;background-color: white;}#sk-container-id-7 div.sk-parallel-item:first-child::after {align-self: flex-end;width: 50%;}#sk-container-id-7 div.sk-parallel-item:last-child::after {align-self: flex-start;width: 50%;}#sk-container-id-7 div.sk-parallel-item:only-child::after {width: 0;}#sk-container-id-7 div.sk-dashed-wrapped {border: 1px dashed gray;margin: 0 0.4em 0.5em 0.4em;box-sizing: border-box;padding-bottom: 0.4em;background-color: white;}#sk-container-id-7 div.sk-label label {font-family: monospace;font-weight: bold;display: inline-block;line-height: 1.2em;}#sk-container-id-7 div.sk-label-container {text-align: center;}#sk-container-id-7 div.sk-container {/* jupyter's `normalize.less` sets `[hidden] { display: none; }` but bootstrap.min.css set `[hidden] { display: none !important; }` so we also need the `!important` here to be able to override the default hidden behavior on the sphinx rendered scikit-learn.org. See: https://github.com/scikit-learn/scikit-learn/issues/21755 */display: inline-block !important;position: relative;}#sk-container-id-7 div.sk-text-repr-fallback {display: none;}</style><div id=\"sk-container-id-7\" class=\"sk-top-container\"><div class=\"sk-text-repr-fallback\"><pre>Pipeline(steps=[(&#x27;std_inputs&#x27;, StandardScaler()), (&#x27;pca&#x27;, PCA()),\n",
       "                (&#x27;lasso&#x27;,\n",
       "                 LogisticRegression(max_iter=25001, penalty=None,\n",
       "                                    random_state=202))])</pre><b>In a Jupyter environment, please rerun this cell to show the HTML representation or trust the notebook. <br />On GitHub, the HTML representation is unable to render, please try loading this page with nbviewer.org.</b></div><div class=\"sk-container\" hidden><div class=\"sk-item sk-dashed-wrapped\"><div class=\"sk-label-container\"><div class=\"sk-label sk-toggleable\"><input class=\"sk-toggleable__control sk-hidden--visually\" id=\"sk-estimator-id-24\" type=\"checkbox\" ><label for=\"sk-estimator-id-24\" class=\"sk-toggleable__label sk-toggleable__label-arrow\">Pipeline</label><div class=\"sk-toggleable__content\"><pre>Pipeline(steps=[(&#x27;std_inputs&#x27;, StandardScaler()), (&#x27;pca&#x27;, PCA()),\n",
       "                (&#x27;lasso&#x27;,\n",
       "                 LogisticRegression(max_iter=25001, penalty=None,\n",
       "                                    random_state=202))])</pre></div></div></div><div class=\"sk-serial\"><div class=\"sk-item\"><div class=\"sk-estimator sk-toggleable\"><input class=\"sk-toggleable__control sk-hidden--visually\" id=\"sk-estimator-id-25\" type=\"checkbox\" ><label for=\"sk-estimator-id-25\" class=\"sk-toggleable__label sk-toggleable__label-arrow\">StandardScaler</label><div class=\"sk-toggleable__content\"><pre>StandardScaler()</pre></div></div></div><div class=\"sk-item\"><div class=\"sk-estimator sk-toggleable\"><input class=\"sk-toggleable__control sk-hidden--visually\" id=\"sk-estimator-id-26\" type=\"checkbox\" ><label for=\"sk-estimator-id-26\" class=\"sk-toggleable__label sk-toggleable__label-arrow\">PCA</label><div class=\"sk-toggleable__content\"><pre>PCA()</pre></div></div></div><div class=\"sk-item\"><div class=\"sk-estimator sk-toggleable\"><input class=\"sk-toggleable__control sk-hidden--visually\" id=\"sk-estimator-id-27\" type=\"checkbox\" ><label for=\"sk-estimator-id-27\" class=\"sk-toggleable__label sk-toggleable__label-arrow\">LogisticRegression</label><div class=\"sk-toggleable__content\"><pre>LogisticRegression(max_iter=25001, penalty=None, random_state=202)</pre></div></div></div></div></div></div></div>"
      ],
      "text/plain": [
       "Pipeline(steps=[('std_inputs', StandardScaler()), ('pca', PCA()),\n",
       "                ('lasso',\n",
       "                 LogisticRegression(max_iter=25001, penalty=None,\n",
       "                                    random_state=202))])"
      ]
     },
     "execution_count": 177,
     "metadata": {},
     "output_type": "execute_result"
    }
   ],
   "source": [
    "pc_wflow"
   ]
  },
  {
   "cell_type": "code",
   "execution_count": 184,
   "metadata": {},
   "outputs": [],
   "source": [
    "pc_grid = {'pca__n_components': [3, 5, 7, 9, 11, 13, 15, 17]}"
   ]
  },
  {
   "cell_type": "code",
   "execution_count": 185,
   "metadata": {},
   "outputs": [],
   "source": [
    "pc_search = GridSearchCV(pc_wflow, param_grid=pc_grid, cv=kf)"
   ]
  },
  {
   "cell_type": "code",
   "execution_count": 186,
   "metadata": {},
   "outputs": [],
   "source": [
    "pc_search_results = pc_search.fit( b_df, y_class )"
   ]
  },
  {
   "cell_type": "code",
   "execution_count": 187,
   "metadata": {},
   "outputs": [
    {
     "data": {
      "text/plain": [
       "{'pca__n_components': 9}"
      ]
     },
     "execution_count": 187,
     "metadata": {},
     "output_type": "execute_result"
    }
   ],
   "source": [
    "pc_search_results.best_params_"
   ]
  },
  {
   "cell_type": "code",
   "execution_count": 188,
   "metadata": {},
   "outputs": [
    {
     "data": {
      "text/plain": [
       "0.9806551777674274"
      ]
     },
     "execution_count": 188,
     "metadata": {},
     "output_type": "execute_result"
    }
   ],
   "source": [
    "pc_search_results.best_score_"
   ]
  },
  {
   "cell_type": "code",
   "execution_count": 191,
   "metadata": {},
   "outputs": [
    {
     "data": {
      "text/plain": [
       "array([[-3.35448895,  1.88695258,  0.74307892,  0.78639694,  1.51749753,\n",
       "         0.47381475, -0.32389271, -1.16517937, -2.19866715]])"
      ]
     },
     "execution_count": 191,
     "metadata": {},
     "output_type": "execute_result"
    }
   ],
   "source": [
    "pc_search_results.best_estimator_.named_steps['lasso'].coef_"
   ]
  },
  {
   "cell_type": "code",
   "execution_count": null,
   "metadata": {},
   "outputs": [],
   "source": []
  }
 ],
 "metadata": {
  "kernelspec": {
   "display_name": "Python 3 (ipykernel)",
   "language": "python",
   "name": "python3"
  },
  "language_info": {
   "codemirror_mode": {
    "name": "ipython",
    "version": 3
   },
   "file_extension": ".py",
   "mimetype": "text/x-python",
   "name": "python",
   "nbconvert_exporter": "python",
   "pygments_lexer": "ipython3",
   "version": "3.8.17"
  }
 },
 "nbformat": 4,
 "nbformat_minor": 4
}
