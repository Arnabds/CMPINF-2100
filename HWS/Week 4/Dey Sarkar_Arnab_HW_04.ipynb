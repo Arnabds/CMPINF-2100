{
 "cells": [
  {
   "cell_type": "markdown",
   "id": "e18e9054",
   "metadata": {},
   "source": [
    "## CMPINF 2100: Homework 04\n",
    "\n",
    "### Arnab Dey Sarkar\n",
    "\n",
    "## Assigned: Tuesday of Week 04 at 11:00PM\n",
    "\n",
    "## DUE: Tuesday of Week 05 at 11:59PM\n",
    "\n",
    "The DataFrame is a table like object that is critically important in data analysis. It allows us to easily store many variables associated with an application and explore them. We must learn about the key attributes and methods associated with DataFrames before we can use them to explore and ultimately model data. \n",
    "\n",
    "This assignment is mostly focused on Pandas. You will work with the major attributes associated with Pandas Series and DataFrames. You will slice/subset Series and DataFrames to practice manipulating data. \n",
    "\n",
    "However, you will begin by reviewing important attributes associated with NumPy arrays. That is because the Pandas DataFrame is built on top of NumPy. You will practice reshaping 1D NumPy arrays into 2D NumPy arrays to review the differences between rows and columns. \n",
    "\n",
    "### Collaborators\n",
    "\n",
    "Type the names of other students you worked with here.\n",
    "\n",
    "## Problem 00\n",
    "\n",
    "You will work with the NumPy and Pandas modules in this assignment.\n",
    "\n",
    "Import NumPy and Pandas using their commonly accepted aliases.\n",
    "\n",
    "#### 0) - SOLUTION"
   ]
  },
  {
   "cell_type": "code",
   "execution_count": 73,
   "id": "d8719caf",
   "metadata": {},
   "outputs": [],
   "source": [
    "import numpy as np\n",
    "import pandas as pd"
   ]
  },
  {
   "cell_type": "markdown",
   "id": "07e540f8",
   "metadata": {},
   "source": [
    "## Problem 01\n",
    "\n",
    "Let's begin by practing RESHAPING NumPy arrays.\n",
    "\n",
    "### 1a)\n",
    "\n",
    "Create a 1D NumPy array of 30 sequential integers from 1 up and excluding 31. Assign the array to the `x1D` object.\n",
    "\n",
    "#### 1a) - SOLUTION"
   ]
  },
  {
   "cell_type": "code",
   "execution_count": 74,
   "id": "41ab9bd8",
   "metadata": {},
   "outputs": [],
   "source": [
    "x1D=np.arange(1,31)"
   ]
  },
  {
   "cell_type": "markdown",
   "id": "aee4bfed",
   "metadata": {},
   "source": [
    "### 1b)\n",
    "\n",
    "Confirm that the `x1D` array has 1 dimension and 30 elements by displaying the appropriate attributes to the screen. \n",
    "\n",
    "#### 1b) - SOLUTION"
   ]
  },
  {
   "cell_type": "code",
   "execution_count": 75,
   "id": "8ed30022",
   "metadata": {},
   "outputs": [
    {
     "data": {
      "text/plain": [
       "1"
      ]
     },
     "execution_count": 75,
     "metadata": {},
     "output_type": "execute_result"
    }
   ],
   "source": [
    "x1D.ndim"
   ]
  },
  {
   "cell_type": "code",
   "execution_count": 76,
   "id": "d78366a6",
   "metadata": {},
   "outputs": [
    {
     "data": {
      "text/plain": [
       "(30,)"
      ]
     },
     "execution_count": 76,
     "metadata": {},
     "output_type": "execute_result"
    }
   ],
   "source": [
    "x1D.shape"
   ]
  },
  {
   "cell_type": "code",
   "execution_count": 77,
   "id": "c5aa5ce4",
   "metadata": {},
   "outputs": [
    {
     "data": {
      "text/plain": [
       "30"
      ]
     },
     "execution_count": 77,
     "metadata": {},
     "output_type": "execute_result"
    }
   ],
   "source": [
    "x1D.size"
   ]
  },
  {
   "cell_type": "markdown",
   "id": "dd366bc3",
   "metadata": {},
   "source": [
    "### 1c)\n",
    "\n",
    "Let's now reshape the 1D array into a 2D array.\n",
    "\n",
    "Reshape the `x1D` into a 2D array with 6 rows and 5 columns. Assign the 2D array to the `x2Da` object.\n",
    "\n",
    "#### 1c) - SOLUTION"
   ]
  },
  {
   "cell_type": "code",
   "execution_count": 78,
   "id": "f9ee6b3d",
   "metadata": {},
   "outputs": [],
   "source": [
    "x2Da=x1D.reshape(6,5)"
   ]
  },
  {
   "cell_type": "markdown",
   "id": "a5c912b8",
   "metadata": {},
   "source": [
    "### 1d)\n",
    "\n",
    "Confirm that `x2Da` is a 2D array and has 6 rows and 5 columns by displaying the appropriate attributes to the screen.\n",
    "\n",
    "#### 1d) - SOLUTION"
   ]
  },
  {
   "cell_type": "code",
   "execution_count": 79,
   "id": "b3794b33",
   "metadata": {},
   "outputs": [
    {
     "name": "stdout",
     "output_type": "stream",
     "text": [
      "(6, 5) 30 2\n"
     ]
    }
   ],
   "source": [
    "print(x2Da.shape,x2Da.size, x2Da.ndim)"
   ]
  },
  {
   "cell_type": "markdown",
   "id": "6f83ccc8",
   "metadata": {},
   "source": [
    "### 1e)\n",
    "\n",
    "Let's reshape `x1D` again. You must specify the correct number of columns in order to reshape `x1D` into a 2D array with 10 rows. Assign the reshaped array to the `x2Db` object.\n",
    "\n",
    "#### 1e) - SOLUTION"
   ]
  },
  {
   "cell_type": "code",
   "execution_count": 80,
   "id": "88ea1221",
   "metadata": {},
   "outputs": [],
   "source": [
    "x2Db=x1D.reshape(10,-1)"
   ]
  },
  {
   "cell_type": "markdown",
   "id": "7dca44e2",
   "metadata": {},
   "source": [
    "### 1f)\n",
    "\n",
    "Confirm that `x2Db` is a 2D array with 10 rows and the correct number of columns by displaying the appropriate attributes to the screen.\n",
    "\n",
    "#### 1f) - SOLUTION"
   ]
  },
  {
   "cell_type": "code",
   "execution_count": 81,
   "id": "e128cf5d",
   "metadata": {},
   "outputs": [
    {
     "name": "stdout",
     "output_type": "stream",
     "text": [
      "(10, 3) 30 2\n"
     ]
    }
   ],
   "source": [
    "print(x2Db.shape,x2Db.size, x2Db.ndim)"
   ]
  },
  {
   "cell_type": "markdown",
   "id": "cd89b38c",
   "metadata": {},
   "source": [
    "### 1g)\n",
    "\n",
    "Why should `x2Da` and `x2Db` have the same `.size` attribute?\n",
    "\n",
    "Confirm that is the case.\n",
    "\n",
    "#### 1g) - SOLUTION"
   ]
  },
  {
   "cell_type": "markdown",
   "id": "7acf2a97",
   "metadata": {},
   "source": [
    "Because the number of elements are from the parent x1D array having 30 elements. x2Da and x2Db are just two different representation of same data in 2D."
   ]
  },
  {
   "cell_type": "markdown",
   "id": "2ee9b718",
   "metadata": {},
   "source": [
    "## Problem 02\n",
    "\n",
    "Let's now practice working with Pandas Series. You will build on the previous problem by converting certain aspects of the previous objects to Pandas Series. This way you will continue manipulating NumPy objects even as we move forward into Pandas. This is because data analysis activities require us to be comfortable working with NumPy **and** Pandas!\n",
    "\n",
    "### 2a)\n",
    "\n",
    "Convert the LAST **row** in `x2Da` to a Pandas Series and assign the result to the `series_2a`. You may use the default `index` argument when creating the Pandas Series.\n",
    "\n",
    "#### 2a) - SOLUTION"
   ]
  },
  {
   "cell_type": "code",
   "execution_count": 82,
   "id": "e8405146",
   "metadata": {},
   "outputs": [],
   "source": [
    "series_2a=pd.Series(x2Da[-1,:])"
   ]
  },
  {
   "cell_type": "code",
   "execution_count": 83,
   "id": "e1427294",
   "metadata": {},
   "outputs": [
    {
     "data": {
      "text/plain": [
       "0    26\n",
       "1    27\n",
       "2    28\n",
       "3    29\n",
       "4    30\n",
       "dtype: int64"
      ]
     },
     "execution_count": 83,
     "metadata": {},
     "output_type": "execute_result"
    }
   ],
   "source": [
    "series_2a"
   ]
  },
  {
   "cell_type": "markdown",
   "id": "41c588f6",
   "metadata": {},
   "source": [
    "### 2b)\n",
    "\n",
    "Print the LAST row in `x2Da` NumPy array to the screen. Then print the `series_2a` object to the screen.\n",
    "\n",
    "Describe how the print displays look different within a Markdown cell.\n",
    "\n",
    "#### 2b) - SOLUTION"
   ]
  },
  {
   "cell_type": "code",
   "execution_count": 84,
   "id": "81816855",
   "metadata": {},
   "outputs": [
    {
     "data": {
      "text/plain": [
       "array([26, 27, 28, 29, 30])"
      ]
     },
     "execution_count": 84,
     "metadata": {},
     "output_type": "execute_result"
    }
   ],
   "source": [
    "x2Da[-1,:]"
   ]
  },
  {
   "cell_type": "code",
   "execution_count": 85,
   "id": "fdf6f900",
   "metadata": {},
   "outputs": [
    {
     "data": {
      "text/plain": [
       "0    26\n",
       "1    27\n",
       "2    28\n",
       "3    29\n",
       "4    30\n",
       "dtype: int64"
      ]
     },
     "execution_count": 85,
     "metadata": {},
     "output_type": "execute_result"
    }
   ],
   "source": [
    "series_2a"
   ]
  },
  {
   "cell_type": "markdown",
   "id": "559e711d",
   "metadata": {},
   "source": [
    "The pd series have an index/key: range(5) assigned with args array([26, 27, 28, 29, 30]) which is not there in numpy."
   ]
  },
  {
   "cell_type": "markdown",
   "id": "dd134782",
   "metadata": {},
   "source": [
    "### 2c)\n",
    "\n",
    "Print the `.index` attribute for the `series_2a` object to the screen.\n",
    "\n",
    "Do you see the `.index` attribute displayed in the `series_2a` print out shown previously in 2b)? Type your response in a Markdown cell.\n",
    "\n",
    "#### 2c) - SOLUTION"
   ]
  },
  {
   "cell_type": "code",
   "execution_count": 86,
   "id": "cf4857cd",
   "metadata": {},
   "outputs": [
    {
     "data": {
      "text/plain": [
       "RangeIndex(start=0, stop=5, step=1)"
      ]
     },
     "execution_count": 86,
     "metadata": {},
     "output_type": "execute_result"
    }
   ],
   "source": [
    "series_2a.index"
   ]
  },
  {
   "cell_type": "markdown",
   "id": "a874b6d6",
   "metadata": {},
   "source": [
    "Yes I can see that the index is range(5)."
   ]
  },
  {
   "cell_type": "markdown",
   "id": "de92db19",
   "metadata": {},
   "source": [
    "### 2d)\n",
    "\n",
    "We can modify the `.index` attribute of a Series by assigning a new value to it. In this problem, you must create a list of `str`'s. That list must contain a sequential list of lower case English alphabetical letters starting with `'a'`. The list must be the same length as the length of the `series_2a` object. \n",
    "\n",
    "For example, if `series_2a` consisted of 3 elements the list should contains the letters, `'a',` `'b'`, and `'c'`.  \n",
    "\n",
    "Assign the list of letters to the `my_letter_index` object.\n",
    "\n",
    "Assign the `my_letter_index` to the `.index` attribute of `series_2a`.\n",
    "\n",
    "Print the `series_2a` object to the screen.\n",
    "\n",
    "#### 2d) - SOLUTION"
   ]
  },
  {
   "cell_type": "code",
   "execution_count": 87,
   "id": "3b39c14c",
   "metadata": {},
   "outputs": [],
   "source": [
    "my_letter_index=['a','b','c','d','e']\n",
    "\n",
    "series_2a.index=my_letter_index"
   ]
  },
  {
   "cell_type": "code",
   "execution_count": 88,
   "id": "13da94f6",
   "metadata": {},
   "outputs": [
    {
     "data": {
      "text/plain": [
       "a    26\n",
       "b    27\n",
       "c    28\n",
       "d    29\n",
       "e    30\n",
       "dtype: int64"
      ]
     },
     "execution_count": 88,
     "metadata": {},
     "output_type": "execute_result"
    }
   ],
   "source": [
    "series_2a"
   ]
  },
  {
   "cell_type": "markdown",
   "id": "73175f3e",
   "metadata": {},
   "source": [
    "### 2e)\n",
    "\n",
    "Let's now subset `series_2a` using the `.index`. Display the value associated with the `.index` location key `'c'` to the screen.\n",
    "\n",
    "#### 2e) - SOLUTION"
   ]
  },
  {
   "cell_type": "code",
   "execution_count": 89,
   "id": "01443e94",
   "metadata": {},
   "outputs": [
    {
     "data": {
      "text/plain": [
       "28"
      ]
     },
     "execution_count": 89,
     "metadata": {},
     "output_type": "execute_result"
    }
   ],
   "source": [
    "series_2a['c']"
   ]
  },
  {
   "cell_type": "markdown",
   "id": "1364ae3e",
   "metadata": {},
   "source": [
    "### 2f)\n",
    "\n",
    "Display the value associated with the last `.index` location key to the screen.\n",
    "\n",
    "#### 2f) - SOLUTION"
   ]
  },
  {
   "cell_type": "code",
   "execution_count": 90,
   "id": "a291c547",
   "metadata": {},
   "outputs": [
    {
     "data": {
      "text/plain": [
       "30"
      ]
     },
     "execution_count": 90,
     "metadata": {},
     "output_type": "execute_result"
    }
   ],
   "source": [
    "series_2a[-1]"
   ]
  },
  {
   "cell_type": "code",
   "execution_count": 91,
   "id": "e0f45de1",
   "metadata": {},
   "outputs": [
    {
     "data": {
      "text/plain": [
       "30"
      ]
     },
     "execution_count": 91,
     "metadata": {},
     "output_type": "execute_result"
    }
   ],
   "source": [
    "series_2a['e']"
   ]
  },
  {
   "cell_type": "markdown",
   "id": "bef7d0fd",
   "metadata": {},
   "source": [
    "### 2g)\n",
    "\n",
    "Reset the `.index` attribute of `series_2a` to the original range index.\n",
    "\n",
    "Display the `.index` attribute to the screen to confirm it has been changed back.\n",
    "\n",
    "#### 2g) - SOLUTION"
   ]
  },
  {
   "cell_type": "code",
   "execution_count": 92,
   "id": "4c945c71",
   "metadata": {},
   "outputs": [
    {
     "data": {
      "text/plain": [
       "RangeIndex(start=0, stop=5, step=1)"
      ]
     },
     "execution_count": 92,
     "metadata": {},
     "output_type": "execute_result"
    }
   ],
   "source": [
    "series_2a.reset_index().index"
   ]
  },
  {
   "cell_type": "code",
   "execution_count": 93,
   "id": "7e5dbe98",
   "metadata": {},
   "outputs": [
    {
     "data": {
      "text/plain": [
       "0    26\n",
       "1    27\n",
       "2    28\n",
       "3    29\n",
       "4    30\n",
       "dtype: int64"
      ]
     },
     "execution_count": 93,
     "metadata": {},
     "output_type": "execute_result"
    }
   ],
   "source": [
    "series_2a.reset_index(drop=True)"
   ]
  },
  {
   "cell_type": "code",
   "execution_count": 94,
   "id": "7e7febb4",
   "metadata": {},
   "outputs": [
    {
     "data": {
      "text/plain": [
       "a    26\n",
       "b    27\n",
       "c    28\n",
       "d    29\n",
       "e    30\n",
       "dtype: int64"
      ]
     },
     "execution_count": 94,
     "metadata": {},
     "output_type": "execute_result"
    }
   ],
   "source": [
    "series_2a"
   ]
  },
  {
   "cell_type": "markdown",
   "id": "5b6e75f5",
   "metadata": {},
   "source": [
    "I think that .reset_index() doesn't change the series_2a so we can write in steps."
   ]
  },
  {
   "cell_type": "code",
   "execution_count": 95,
   "id": "5629cf6c",
   "metadata": {},
   "outputs": [
    {
     "data": {
      "text/plain": [
       "0    26\n",
       "1    27\n",
       "2    28\n",
       "3    29\n",
       "4    30\n",
       "dtype: int64"
      ]
     },
     "execution_count": 95,
     "metadata": {},
     "output_type": "execute_result"
    }
   ],
   "source": [
    "series_2a=series_2a.reset_index(drop=True)\n",
    "series_2a"
   ]
  },
  {
   "cell_type": "code",
   "execution_count": 97,
   "id": "a1b835bc",
   "metadata": {},
   "outputs": [
    {
     "data": {
      "text/plain": [
       "RangeIndex(start=0, stop=5, step=1)"
      ]
     },
     "execution_count": 97,
     "metadata": {},
     "output_type": "execute_result"
    }
   ],
   "source": [
    "series_2a.index"
   ]
  },
  {
   "cell_type": "code",
   "execution_count": null,
   "id": "9442e5c7",
   "metadata": {},
   "outputs": [],
   "source": [
    "#Another way\n",
    "# series_2a=series_2a.reset_index(drop=True, inplace= True)"
   ]
  },
  {
   "cell_type": "markdown",
   "id": "e78907ea",
   "metadata": {},
   "source": [
    "## Problem 03\n",
    "\n",
    "The Pandas Series builds on top of the 1D NumPy array. The Pandas DataFrame builds on top of the 2D NumPy array. The DataFrame is a critical data type in many data analysis applications. We will use it extensively for the remainder of CMPINF 2100 and in the subsequent ADDM courses. \n",
    "\n",
    "Let's now practice creating DataFrames!\n",
    "\n",
    "### 3a)\n",
    "\n",
    "Convert the 2D NumPy array `x2Db` to a Pandas DataFrame. Assign the result to the `df1` object. You may use the default `index` and `columns` arguments when creating the DataFrame. \n",
    "\n",
    "#### 3a) - SOLUTION"
   ]
  },
  {
   "cell_type": "code",
   "execution_count": 25,
   "id": "0d100814",
   "metadata": {},
   "outputs": [],
   "source": [
    "df1=pd.DataFrame(x2Db)"
   ]
  },
  {
   "cell_type": "markdown",
   "id": "71569dda",
   "metadata": {},
   "source": [
    "### 3b)\n",
    "\n",
    "Use the `.info()` method to display basic information associated with `df1`. \n",
    "\n",
    "What are the names of the columns in `df1` and their data types? Type your response in a Markdown cell.\n",
    "\n",
    "#### 3b) - SOLUTION"
   ]
  },
  {
   "cell_type": "code",
   "execution_count": 26,
   "id": "339fdb7c",
   "metadata": {},
   "outputs": [
    {
     "name": "stdout",
     "output_type": "stream",
     "text": [
      "<class 'pandas.core.frame.DataFrame'>\n",
      "RangeIndex: 10 entries, 0 to 9\n",
      "Data columns (total 3 columns):\n",
      " #   Column  Non-Null Count  Dtype\n",
      "---  ------  --------------  -----\n",
      " 0   0       10 non-null     int64\n",
      " 1   1       10 non-null     int64\n",
      " 2   2       10 non-null     int64\n",
      "dtypes: int64(3)\n",
      "memory usage: 368.0 bytes\n"
     ]
    }
   ],
   "source": [
    "df1.info()"
   ]
  },
  {
   "cell_type": "markdown",
   "id": "ef646099",
   "metadata": {},
   "source": [
    "The column names are 0,1,2. Their data types are integers."
   ]
  },
  {
   "cell_type": "code",
   "execution_count": 27,
   "id": "beadefa3",
   "metadata": {},
   "outputs": [
    {
     "data": {
      "text/plain": [
       "RangeIndex(start=0, stop=3, step=1)"
      ]
     },
     "execution_count": 27,
     "metadata": {},
     "output_type": "execute_result"
    }
   ],
   "source": [
    "df1.dtypes.index"
   ]
  },
  {
   "cell_type": "markdown",
   "id": "1a5593bf",
   "metadata": {},
   "source": [
    "### 3c)\n",
    "\n",
    "Let's convert the `x2Db` NumPy array to a DataFrame again. This time you will specify the column names rather than relying on the default names.\n",
    "\n",
    "Let's begin by defining a List that stores the desired columns.\n",
    "\n",
    "Create a list of sequential upper case English alphabetical letters as `str` data types. The list must start with `'A'`. The length of the list must be the same as the number of columns in `x2Db`. \n",
    "\n",
    "Assign the list to the `my_column_names` object.\n",
    "\n",
    "#### 3c) - SOLUTION"
   ]
  },
  {
   "cell_type": "code",
   "execution_count": 28,
   "id": "2cfbe44e",
   "metadata": {},
   "outputs": [
    {
     "data": {
      "text/html": [
       "<div>\n",
       "<style scoped>\n",
       "    .dataframe tbody tr th:only-of-type {\n",
       "        vertical-align: middle;\n",
       "    }\n",
       "\n",
       "    .dataframe tbody tr th {\n",
       "        vertical-align: top;\n",
       "    }\n",
       "\n",
       "    .dataframe thead th {\n",
       "        text-align: right;\n",
       "    }\n",
       "</style>\n",
       "<table border=\"1\" class=\"dataframe\">\n",
       "  <thead>\n",
       "    <tr style=\"text-align: right;\">\n",
       "      <th></th>\n",
       "      <th>A</th>\n",
       "      <th>B</th>\n",
       "      <th>C</th>\n",
       "    </tr>\n",
       "  </thead>\n",
       "  <tbody>\n",
       "    <tr>\n",
       "      <th>0</th>\n",
       "      <td>1</td>\n",
       "      <td>2</td>\n",
       "      <td>3</td>\n",
       "    </tr>\n",
       "    <tr>\n",
       "      <th>1</th>\n",
       "      <td>4</td>\n",
       "      <td>5</td>\n",
       "      <td>6</td>\n",
       "    </tr>\n",
       "    <tr>\n",
       "      <th>2</th>\n",
       "      <td>7</td>\n",
       "      <td>8</td>\n",
       "      <td>9</td>\n",
       "    </tr>\n",
       "    <tr>\n",
       "      <th>3</th>\n",
       "      <td>10</td>\n",
       "      <td>11</td>\n",
       "      <td>12</td>\n",
       "    </tr>\n",
       "    <tr>\n",
       "      <th>4</th>\n",
       "      <td>13</td>\n",
       "      <td>14</td>\n",
       "      <td>15</td>\n",
       "    </tr>\n",
       "    <tr>\n",
       "      <th>5</th>\n",
       "      <td>16</td>\n",
       "      <td>17</td>\n",
       "      <td>18</td>\n",
       "    </tr>\n",
       "    <tr>\n",
       "      <th>6</th>\n",
       "      <td>19</td>\n",
       "      <td>20</td>\n",
       "      <td>21</td>\n",
       "    </tr>\n",
       "    <tr>\n",
       "      <th>7</th>\n",
       "      <td>22</td>\n",
       "      <td>23</td>\n",
       "      <td>24</td>\n",
       "    </tr>\n",
       "    <tr>\n",
       "      <th>8</th>\n",
       "      <td>25</td>\n",
       "      <td>26</td>\n",
       "      <td>27</td>\n",
       "    </tr>\n",
       "    <tr>\n",
       "      <th>9</th>\n",
       "      <td>28</td>\n",
       "      <td>29</td>\n",
       "      <td>30</td>\n",
       "    </tr>\n",
       "  </tbody>\n",
       "</table>\n",
       "</div>"
      ],
      "text/plain": [
       "    A   B   C\n",
       "0   1   2   3\n",
       "1   4   5   6\n",
       "2   7   8   9\n",
       "3  10  11  12\n",
       "4  13  14  15\n",
       "5  16  17  18\n",
       "6  19  20  21\n",
       "7  22  23  24\n",
       "8  25  26  27\n",
       "9  28  29  30"
      ]
     },
     "execution_count": 28,
     "metadata": {},
     "output_type": "execute_result"
    }
   ],
   "source": [
    "my_columns_names=['A','B','C']\n",
    "pd.DataFrame(data=x2Db, columns=my_columns_names)"
   ]
  },
  {
   "cell_type": "markdown",
   "id": "5211ca1d",
   "metadata": {},
   "source": [
    "### 3d)\n",
    "\n",
    "Convert the 2D NumPy array `x2Db` to a Pandas DataFrame. Assign the result to the `df2` object. You may use the default `index` argument. You must specify the `columns` argument such that the values in `my_column_names` are assigned as the column names.\n",
    "\n",
    "#### 3d) - SOLUTION"
   ]
  },
  {
   "cell_type": "code",
   "execution_count": 29,
   "id": "f2690f62",
   "metadata": {},
   "outputs": [],
   "source": [
    "df2=pd.DataFrame(data=x2Db, columns=my_columns_names)"
   ]
  },
  {
   "cell_type": "markdown",
   "id": "4bf5aab9",
   "metadata": {},
   "source": [
    "### 3e)\n",
    "\n",
    "Use the `.info()` method to display basic information associated with `df2`.\n",
    "\n",
    "What are the names of the columns in `df2` and their data types? Are they different from those in `df1`? Type your response in a Markdown cell.\n",
    "\n",
    "#### 3e) - SOLUTION"
   ]
  },
  {
   "cell_type": "code",
   "execution_count": 30,
   "id": "ac74db49",
   "metadata": {},
   "outputs": [
    {
     "name": "stdout",
     "output_type": "stream",
     "text": [
      "<class 'pandas.core.frame.DataFrame'>\n",
      "RangeIndex: 10 entries, 0 to 9\n",
      "Data columns (total 3 columns):\n",
      " #   Column  Non-Null Count  Dtype\n",
      "---  ------  --------------  -----\n",
      " 0   A       10 non-null     int64\n",
      " 1   B       10 non-null     int64\n",
      " 2   C       10 non-null     int64\n",
      "dtypes: int64(3)\n",
      "memory usage: 368.0 bytes\n"
     ]
    }
   ],
   "source": [
    "df2.info()"
   ]
  },
  {
   "cell_type": "markdown",
   "id": "3b5219f2",
   "metadata": {},
   "source": [
    "The column names are A,B,C here and data types are integers, which are the elements in the columns. In the pd dataframe we usually have same data type if we have mixture of string and integer, say, from other source pd will consider all of them as a string. "
   ]
  },
  {
   "cell_type": "code",
   "execution_count": 31,
   "id": "e9582a4f",
   "metadata": {},
   "outputs": [
    {
     "data": {
      "text/plain": [
       "Index(['A', 'B', 'C'], dtype='object')"
      ]
     },
     "execution_count": 31,
     "metadata": {},
     "output_type": "execute_result"
    }
   ],
   "source": [
    "df2.dtypes.index"
   ]
  },
  {
   "cell_type": "markdown",
   "id": "c420e742",
   "metadata": {},
   "source": [
    "Now I can see that the column names data types is string/object where it was range before."
   ]
  },
  {
   "cell_type": "markdown",
   "id": "25de73b2",
   "metadata": {},
   "source": [
    "## Problem 04\n",
    "\n",
    "Let's now practice selecting columns and rows within DataFrames! You will work with the `df2` object defined in Problem 3).\n",
    "\n",
    "### 4a)\n",
    "\n",
    "Let's begin by displaying all rows associated with the `'B'` column to the screen. \n",
    "\n",
    "There are several ways to accomplish this. You **must** use **2 different** ways of selecting the `'B'` column. The result can be either a Pandas Series object or DataFrame for this problem.\n",
    "\n",
    "#### 4a) - SOLUTION"
   ]
  },
  {
   "cell_type": "code",
   "execution_count": 32,
   "id": "d1e4481f",
   "metadata": {},
   "outputs": [
    {
     "data": {
      "text/plain": [
       "0     2\n",
       "1     5\n",
       "2     8\n",
       "3    11\n",
       "4    14\n",
       "5    17\n",
       "6    20\n",
       "7    23\n",
       "8    26\n",
       "9    29\n",
       "Name: B, dtype: int64"
      ]
     },
     "execution_count": 32,
     "metadata": {},
     "output_type": "execute_result"
    }
   ],
   "source": [
    "df2.B"
   ]
  },
  {
   "cell_type": "code",
   "execution_count": 33,
   "id": "960b3ea7",
   "metadata": {},
   "outputs": [
    {
     "data": {
      "text/plain": [
       "0     2\n",
       "1     5\n",
       "2     8\n",
       "3    11\n",
       "4    14\n",
       "5    17\n",
       "6    20\n",
       "7    23\n",
       "8    26\n",
       "9    29\n",
       "Name: B, dtype: int64"
      ]
     },
     "execution_count": 33,
     "metadata": {},
     "output_type": "execute_result"
    }
   ],
   "source": [
    "df2['B']"
   ]
  },
  {
   "cell_type": "markdown",
   "id": "a603b769",
   "metadata": {},
   "source": [
    "### 4b)\n",
    "\n",
    "Next, display all rows associated with the `'A'` and `'C'` columns to the screen.\n",
    "\n",
    "You must accomplish this procedure by using the column **names** and NOT the column position index. You only need to do this once.\n",
    "\n",
    "#### 4b) - SOLUTION"
   ]
  },
  {
   "cell_type": "code",
   "execution_count": 34,
   "id": "7e174980",
   "metadata": {},
   "outputs": [
    {
     "data": {
      "text/html": [
       "<div>\n",
       "<style scoped>\n",
       "    .dataframe tbody tr th:only-of-type {\n",
       "        vertical-align: middle;\n",
       "    }\n",
       "\n",
       "    .dataframe tbody tr th {\n",
       "        vertical-align: top;\n",
       "    }\n",
       "\n",
       "    .dataframe thead th {\n",
       "        text-align: right;\n",
       "    }\n",
       "</style>\n",
       "<table border=\"1\" class=\"dataframe\">\n",
       "  <thead>\n",
       "    <tr style=\"text-align: right;\">\n",
       "      <th></th>\n",
       "      <th>A</th>\n",
       "      <th>C</th>\n",
       "    </tr>\n",
       "  </thead>\n",
       "  <tbody>\n",
       "    <tr>\n",
       "      <th>0</th>\n",
       "      <td>1</td>\n",
       "      <td>3</td>\n",
       "    </tr>\n",
       "    <tr>\n",
       "      <th>1</th>\n",
       "      <td>4</td>\n",
       "      <td>6</td>\n",
       "    </tr>\n",
       "    <tr>\n",
       "      <th>2</th>\n",
       "      <td>7</td>\n",
       "      <td>9</td>\n",
       "    </tr>\n",
       "    <tr>\n",
       "      <th>3</th>\n",
       "      <td>10</td>\n",
       "      <td>12</td>\n",
       "    </tr>\n",
       "    <tr>\n",
       "      <th>4</th>\n",
       "      <td>13</td>\n",
       "      <td>15</td>\n",
       "    </tr>\n",
       "    <tr>\n",
       "      <th>5</th>\n",
       "      <td>16</td>\n",
       "      <td>18</td>\n",
       "    </tr>\n",
       "    <tr>\n",
       "      <th>6</th>\n",
       "      <td>19</td>\n",
       "      <td>21</td>\n",
       "    </tr>\n",
       "    <tr>\n",
       "      <th>7</th>\n",
       "      <td>22</td>\n",
       "      <td>24</td>\n",
       "    </tr>\n",
       "    <tr>\n",
       "      <th>8</th>\n",
       "      <td>25</td>\n",
       "      <td>27</td>\n",
       "    </tr>\n",
       "    <tr>\n",
       "      <th>9</th>\n",
       "      <td>28</td>\n",
       "      <td>30</td>\n",
       "    </tr>\n",
       "  </tbody>\n",
       "</table>\n",
       "</div>"
      ],
      "text/plain": [
       "    A   C\n",
       "0   1   3\n",
       "1   4   6\n",
       "2   7   9\n",
       "3  10  12\n",
       "4  13  15\n",
       "5  16  18\n",
       "6  19  21\n",
       "7  22  24\n",
       "8  25  27\n",
       "9  28  30"
      ]
     },
     "execution_count": 34,
     "metadata": {},
     "output_type": "execute_result"
    }
   ],
   "source": [
    "df2[['A','C']]"
   ]
  },
  {
   "cell_type": "markdown",
   "id": "7aa54866",
   "metadata": {},
   "source": [
    "### 4c)\n",
    "\n",
    "Next, display **all columns** associated with the LAST **row** within `df2`.\n",
    "\n",
    "You must use the appropriate attribute that lets you access the rows and columns based on the **integer position index**.\n",
    "\n",
    "#### 4c) - SOLUTION"
   ]
  },
  {
   "cell_type": "code",
   "execution_count": 35,
   "id": "a272baa5",
   "metadata": {},
   "outputs": [
    {
     "data": {
      "text/plain": [
       "A    28\n",
       "B    29\n",
       "C    30\n",
       "Name: 9, dtype: int64"
      ]
     },
     "execution_count": 35,
     "metadata": {},
     "output_type": "execute_result"
    }
   ],
   "source": [
    "df2.iloc[-1]"
   ]
  },
  {
   "cell_type": "code",
   "execution_count": 36,
   "id": "4ec10b89",
   "metadata": {},
   "outputs": [
    {
     "data": {
      "text/plain": [
       "A    28\n",
       "B    29\n",
       "C    30\n",
       "Name: 9, dtype: int64"
      ]
     },
     "execution_count": 36,
     "metadata": {},
     "output_type": "execute_result"
    }
   ],
   "source": [
    "df2.loc[9]"
   ]
  },
  {
   "cell_type": "markdown",
   "id": "54bc5305",
   "metadata": {},
   "source": [
    "### 4d)\n",
    "\n",
    "Let's modify `df2` now by sorting the rows based on the `'A'` column. \n",
    "\n",
    "Sort `df2` such that the rows are in DESCENDING order based on the `'A'` column. You **must** modify `df2` in place. You **must** ignore the index.\n",
    "\n",
    "#### 4d) - SOLUTION"
   ]
  },
  {
   "cell_type": "code",
   "execution_count": 37,
   "id": "36597b85",
   "metadata": {},
   "outputs": [],
   "source": [
    "df2=df2.sort_values(['A'],ascending=False,ignore_index=True)"
   ]
  },
  {
   "cell_type": "code",
   "execution_count": null,
   "id": "7a340ebf",
   "metadata": {},
   "outputs": [],
   "source": [
    "#Another method\n",
    "#df2.sort_values(['A'],ascending=False,ignore_index=True, inplace=True)"
   ]
  },
  {
   "cell_type": "markdown",
   "id": "6931c139",
   "metadata": {},
   "source": [
    "### 4e) \n",
    "\n",
    "Lastly, display all columns associated with the ZEROTH row within `df2`.\n",
    "\n",
    "You must use the appropriate attribute that lets you access the rows and columns based on the **integer position index**.\n",
    "\n",
    "#### 4e) - SOLUTION"
   ]
  },
  {
   "cell_type": "code",
   "execution_count": 38,
   "id": "83b5ec73",
   "metadata": {},
   "outputs": [
    {
     "data": {
      "text/plain": [
       "A    28\n",
       "B    29\n",
       "C    30\n",
       "Name: 0, dtype: int64"
      ]
     },
     "execution_count": 38,
     "metadata": {},
     "output_type": "execute_result"
    }
   ],
   "source": [
    "df2.iloc[0]"
   ]
  },
  {
   "cell_type": "code",
   "execution_count": 39,
   "id": "ab5a76bf",
   "metadata": {},
   "outputs": [
    {
     "data": {
      "text/plain": [
       "<pandas.core.indexing._LocIndexer at 0x12041a090>"
      ]
     },
     "execution_count": 39,
     "metadata": {},
     "output_type": "execute_result"
    }
   ],
   "source": [
    "df2.loc"
   ]
  },
  {
   "cell_type": "code",
   "execution_count": 40,
   "id": "f86515d0",
   "metadata": {},
   "outputs": [
    {
     "data": {
      "text/plain": [
       "A    28\n",
       "B    29\n",
       "C    30\n",
       "Name: 0, dtype: int64"
      ]
     },
     "execution_count": 40,
     "metadata": {},
     "output_type": "execute_result"
    }
   ],
   "source": [
    "df2.iloc[0,:]"
   ]
  },
  {
   "cell_type": "code",
   "execution_count": 41,
   "id": "f549c0a1",
   "metadata": {},
   "outputs": [
    {
     "data": {
      "text/plain": [
       "A    28\n",
       "B    29\n",
       "C    30\n",
       "Name: 0, dtype: int64"
      ]
     },
     "execution_count": 41,
     "metadata": {},
     "output_type": "execute_result"
    }
   ],
   "source": [
    "df2.loc[0,:]"
   ]
  },
  {
   "cell_type": "markdown",
   "id": "f493c240",
   "metadata": {},
   "source": [
    "### 4f)\n",
    "\n",
    "Are the displayed results from 4e) different than those displayed in 4c)?\n",
    "\n",
    "Why or why not? Type your response in a Markdown cell.\n",
    "\n",
    "#### 4f) - SOLUTION"
   ]
  },
  {
   "cell_type": "markdown",
   "id": "eb25d663",
   "metadata": {},
   "source": [
    "The results are not different as the 0th row now is [28,29,30] which was the last row of df2 before modification."
   ]
  },
  {
   "cell_type": "markdown",
   "id": "a85e933e",
   "metadata": {},
   "source": [
    "## Problem 05\n",
    "\n",
    "This problem will give you further practice working with DataFrames. You will use data associated with games from the Pittsburgh Pirate's 2022 season. The data are entered within a Dictionary for you below."
   ]
  },
  {
   "cell_type": "code",
   "execution_count": 42,
   "id": "396336df",
   "metadata": {},
   "outputs": [],
   "source": [
    "pirates_dict = {'Month': 12 * ['April'],\n",
    "                'Day': [7, 9, 10] + list( range(12, 21) ),\n",
    "                'Away_Team': 3 * ['Pirates'] + 2 * ['Cubs'] + 4 * ['Nationals'] + 3 * ['Pirates'],\n",
    "                'Home_Team': 3 * ['Cardinals'] + 2 * ['Pirates'] + 4 * ['Pirates'] + 3 * ['Brewers'],\n",
    "                'Away_Score': [0, 2, 9, 2, 2, 4, 7, 4, 3, 1, 2, 2],\n",
    "                'Home_Score': [9, 6, 4, 1, 6, 9, 2, 6, 5, 6, 5, 4],\n",
    "                'Winning_Team': 2 * ['Cardinals'] + ['Pirates'] + ['Cubs'] + 2 * ['Pirates'] + ['Nationals'] + 2 * ['Pirates'] + 3 * ['Brewers'],\n",
    "                'Winning_Pitcher': ['Wainwright', 'Whitley', 'Yajure', 'Smyly', 'Peters', 'Contreras', 'Fedde', 'Peters', 'Hembree', 'Lauer', 'Burnes', 'Woodruff'],\n",
    "                'Losing_Pitcher': ['Brubaker', 'Keller', 'Matz', 'Quintana', 'Hendricks', 'Adon', 'Keller', 'Rogers', 'Cishek', 'Thompson', 'Brubaker', 'Keller']}"
   ]
  },
  {
   "cell_type": "markdown",
   "id": "d5d5a0ad",
   "metadata": {},
   "source": [
    "### 5a)\n",
    "\n",
    "How many KEY/VALUE pairs or ITEMS are contained within the `pirates_dict`?\n",
    "\n",
    "#### 5a) - SOLUTION"
   ]
  },
  {
   "cell_type": "code",
   "execution_count": 43,
   "id": "afad0371",
   "metadata": {},
   "outputs": [
    {
     "data": {
      "text/plain": [
       "['__class__',\n",
       " '__contains__',\n",
       " '__delattr__',\n",
       " '__delitem__',\n",
       " '__dir__',\n",
       " '__doc__',\n",
       " '__eq__',\n",
       " '__format__',\n",
       " '__ge__',\n",
       " '__getattribute__',\n",
       " '__getitem__',\n",
       " '__gt__',\n",
       " '__hash__',\n",
       " '__init__',\n",
       " '__init_subclass__',\n",
       " '__iter__',\n",
       " '__le__',\n",
       " '__len__',\n",
       " '__lt__',\n",
       " '__ne__',\n",
       " '__new__',\n",
       " '__reduce__',\n",
       " '__reduce_ex__',\n",
       " '__repr__',\n",
       " '__reversed__',\n",
       " '__setattr__',\n",
       " '__setitem__',\n",
       " '__sizeof__',\n",
       " '__str__',\n",
       " '__subclasshook__',\n",
       " 'clear',\n",
       " 'copy',\n",
       " 'fromkeys',\n",
       " 'get',\n",
       " 'items',\n",
       " 'keys',\n",
       " 'pop',\n",
       " 'popitem',\n",
       " 'setdefault',\n",
       " 'update',\n",
       " 'values']"
      ]
     },
     "execution_count": 43,
     "metadata": {},
     "output_type": "execute_result"
    }
   ],
   "source": [
    "dir(pirates_dict)"
   ]
  },
  {
   "cell_type": "code",
   "execution_count": 44,
   "id": "64e92a52",
   "metadata": {},
   "outputs": [
    {
     "data": {
      "text/plain": [
       "dict_keys(['Month', 'Day', 'Away_Team', 'Home_Team', 'Away_Score', 'Home_Score', 'Winning_Team', 'Winning_Pitcher', 'Losing_Pitcher'])"
      ]
     },
     "execution_count": 44,
     "metadata": {},
     "output_type": "execute_result"
    }
   ],
   "source": [
    "pirates_dict.keys()"
   ]
  },
  {
   "cell_type": "code",
   "execution_count": 45,
   "id": "9342b5b5",
   "metadata": {},
   "outputs": [
    {
     "data": {
      "text/plain": [
       "9"
      ]
     },
     "execution_count": 45,
     "metadata": {},
     "output_type": "execute_result"
    }
   ],
   "source": [
    "len(pirates_dict.keys())"
   ]
  },
  {
   "cell_type": "markdown",
   "id": "e02f7905",
   "metadata": {},
   "source": [
    "So we have 9 items in pirates_dict."
   ]
  },
  {
   "cell_type": "markdown",
   "id": "e464de53",
   "metadata": {},
   "source": [
    "### 5b) \n",
    "\n",
    "Convert the `pirates_dict` to a Pandas DataFrame and assign the result to the `pirates_df` object. You may use the default `index` and `columns` arguments when creating the DataFrame.\n",
    "\n",
    "Use the appropriate attribute to display the number of rows and columns associated with `pirates_df` to the screen.\n",
    "\n",
    "#### 5b) - SOLUTION"
   ]
  },
  {
   "cell_type": "code",
   "execution_count": 46,
   "id": "7f3fae14",
   "metadata": {},
   "outputs": [],
   "source": [
    "pirates_df=pd.DataFrame(pirates_dict)"
   ]
  },
  {
   "cell_type": "code",
   "execution_count": 47,
   "id": "3c56c2cb",
   "metadata": {},
   "outputs": [
    {
     "data": {
      "text/plain": [
       "(12, 9)"
      ]
     },
     "execution_count": 47,
     "metadata": {},
     "output_type": "execute_result"
    }
   ],
   "source": [
    "pirates_df.shape"
   ]
  },
  {
   "cell_type": "code",
   "execution_count": 48,
   "id": "cbeda7da",
   "metadata": {},
   "outputs": [],
   "source": [
    "#pirates_df.info()"
   ]
  },
  {
   "cell_type": "markdown",
   "id": "d2f1cdba",
   "metadata": {},
   "source": [
    "12 rows and 9 columns."
   ]
  },
  {
   "cell_type": "markdown",
   "id": "e7358902",
   "metadata": {},
   "source": [
    "### 5c)\n",
    "\n",
    "Use the appropriate attribute to the display the DATA TYPES for each COLUMN within `pirates_df` to the screen.\n",
    "\n",
    "Are all columns the same data type? Type your response in a Markdown cell.\n",
    "\n",
    "\n",
    "#### 5c) - SOLUTION"
   ]
  },
  {
   "cell_type": "code",
   "execution_count": 49,
   "id": "489648ec",
   "metadata": {},
   "outputs": [
    {
     "name": "stdout",
     "output_type": "stream",
     "text": [
      "object\n",
      "int64\n",
      "int64\n",
      "object\n",
      "object\n",
      "int64\n",
      "object\n",
      "object\n",
      "object\n"
     ]
    }
   ],
   "source": [
    "print(pirates_df.Month.dtype)\n",
    "print(pirates_df.Away_Score.dtype)\n",
    "print(pirates_df.iloc[:,1].dtype)\n",
    "print(pirates_df.loc[:,'Away_Team'].dtype)\n",
    "print(pirates_df.loc[:,'Home_Team'].dtype)\n",
    "print(pirates_df.loc[:,'Home_Score'].dtype)\n",
    "print(pirates_df.loc[:,'Winning_Team'].dtype)\n",
    "print(pirates_df.loc[:,'Winning_Pitcher'].dtype)\n",
    "print(pirates_df.loc[:,'Losing_Pitcher'].dtype) \n"
   ]
  },
  {
   "cell_type": "code",
   "execution_count": 50,
   "id": "cbc40b41",
   "metadata": {},
   "outputs": [
    {
     "data": {
      "text/plain": [
       "Month              object\n",
       "Day                 int64\n",
       "Away_Team          object\n",
       "Home_Team          object\n",
       "Away_Score          int64\n",
       "Home_Score          int64\n",
       "Winning_Team       object\n",
       "Winning_Pitcher    object\n",
       "Losing_Pitcher     object\n",
       "dtype: object"
      ]
     },
     "execution_count": 50,
     "metadata": {},
     "output_type": "execute_result"
    }
   ],
   "source": [
    "pirates_df.dtypes\n",
    "#type(xxx)"
   ]
  },
  {
   "cell_type": "code",
   "execution_count": 51,
   "id": "c46f3ad9",
   "metadata": {},
   "outputs": [
    {
     "name": "stdout",
     "output_type": "stream",
     "text": [
      "<class 'pandas.core.frame.DataFrame'>\n",
      "RangeIndex: 12 entries, 0 to 11\n",
      "Data columns (total 9 columns):\n",
      " #   Column           Non-Null Count  Dtype \n",
      "---  ------           --------------  ----- \n",
      " 0   Month            12 non-null     object\n",
      " 1   Day              12 non-null     int64 \n",
      " 2   Away_Team        12 non-null     object\n",
      " 3   Home_Team        12 non-null     object\n",
      " 4   Away_Score       12 non-null     int64 \n",
      " 5   Home_Score       12 non-null     int64 \n",
      " 6   Winning_Team     12 non-null     object\n",
      " 7   Winning_Pitcher  12 non-null     object\n",
      " 8   Losing_Pitcher   12 non-null     object\n",
      "dtypes: int64(3), object(6)\n",
      "memory usage: 992.0+ bytes\n"
     ]
    }
   ],
   "source": [
    "# I feel this one is simpler\n",
    "pirates_df.info()"
   ]
  },
  {
   "cell_type": "markdown",
   "id": "d9cf3231",
   "metadata": {},
   "source": [
    "No, some column like Day, Away_Score, Home_Score have integer data type and the others are string."
   ]
  },
  {
   "cell_type": "markdown",
   "id": "bd99a200",
   "metadata": {},
   "source": [
    "### 5d)\n",
    "\n",
    "Use the `.info()` method to display the basic information associated with `pirates_df` to the screen.\n",
    "\n",
    "Is the information consistent with what you displayed previously? Type your response in a Markdown cell.\n",
    "\n",
    "#### 5d) - SOLUTION"
   ]
  },
  {
   "cell_type": "code",
   "execution_count": 52,
   "id": "2e3b995a",
   "metadata": {},
   "outputs": [
    {
     "name": "stdout",
     "output_type": "stream",
     "text": [
      "<class 'pandas.core.frame.DataFrame'>\n",
      "RangeIndex: 12 entries, 0 to 11\n",
      "Data columns (total 9 columns):\n",
      " #   Column           Non-Null Count  Dtype \n",
      "---  ------           --------------  ----- \n",
      " 0   Month            12 non-null     object\n",
      " 1   Day              12 non-null     int64 \n",
      " 2   Away_Team        12 non-null     object\n",
      " 3   Home_Team        12 non-null     object\n",
      " 4   Away_Score       12 non-null     int64 \n",
      " 5   Home_Score       12 non-null     int64 \n",
      " 6   Winning_Team     12 non-null     object\n",
      " 7   Winning_Pitcher  12 non-null     object\n",
      " 8   Losing_Pitcher   12 non-null     object\n",
      "dtypes: int64(3), object(6)\n",
      "memory usage: 992.0+ bytes\n"
     ]
    }
   ],
   "source": [
    "pirates_df.info()"
   ]
  },
  {
   "cell_type": "markdown",
   "id": "71014dda",
   "metadata": {},
   "source": [
    "Yes, they are consistent."
   ]
  },
  {
   "cell_type": "markdown",
   "id": "54f6706f",
   "metadata": {},
   "source": [
    "### 5e)\n",
    "\n",
    "Your `pirates_df` DataFrame contains two columns that record the month and day a game was played on. However, it does not record the year! Every game contained in `pirates_df` was played in 2022.\n",
    "\n",
    "Add a column to `pirates_df` named `'Year'` that stores the year associated with all games in `pirates_df`.\n",
    "\n",
    "#### 5e) - SOLUTION"
   ]
  },
  {
   "cell_type": "code",
   "execution_count": 53,
   "id": "0a6b6a64",
   "metadata": {},
   "outputs": [],
   "source": [
    "pirates_df['Year']=2022"
   ]
  },
  {
   "cell_type": "markdown",
   "id": "0c3f96c1",
   "metadata": {},
   "source": [
    "### 5f)\n",
    "\n",
    "Use the appropriate attribute to display the number of rows and columns associated with `pirates_df` to the screen.\n",
    "\n",
    "Is the number of columns different from what you displayed in 5b)?\n",
    "\n",
    "#### 5f) - SOLUTION"
   ]
  },
  {
   "cell_type": "code",
   "execution_count": 54,
   "id": "52d1bf2c",
   "metadata": {},
   "outputs": [
    {
     "data": {
      "text/plain": [
       "(12, 10)"
      ]
     },
     "execution_count": 54,
     "metadata": {},
     "output_type": "execute_result"
    }
   ],
   "source": [
    "pirates_df.shape"
   ]
  },
  {
   "cell_type": "markdown",
   "id": "cab195d0",
   "metadata": {},
   "source": [
    "Yes, now we have 10 columns."
   ]
  },
  {
   "cell_type": "markdown",
   "id": "74dd085e",
   "metadata": {},
   "source": [
    "## Problem 06\n",
    "\n",
    "Let's now practice selecting rows or as I prefer to call it, FILTERING, the data!\n",
    "\n",
    "You will continue to work with the `pirates_df` object in this problem.\n",
    "\n",
    "### 6a)\n",
    "\n",
    "Filter `pirates_df` to select all rows where the `Home_Score` is GREATER THAN 6. \n",
    "\n",
    "Display all columns with the filtered rows to the screen.\n",
    "\n",
    "#### 6a) - SOLUTION"
   ]
  },
  {
   "cell_type": "code",
   "execution_count": 55,
   "id": "662ecfd3",
   "metadata": {},
   "outputs": [
    {
     "data": {
      "text/html": [
       "<div>\n",
       "<style scoped>\n",
       "    .dataframe tbody tr th:only-of-type {\n",
       "        vertical-align: middle;\n",
       "    }\n",
       "\n",
       "    .dataframe tbody tr th {\n",
       "        vertical-align: top;\n",
       "    }\n",
       "\n",
       "    .dataframe thead th {\n",
       "        text-align: right;\n",
       "    }\n",
       "</style>\n",
       "<table border=\"1\" class=\"dataframe\">\n",
       "  <thead>\n",
       "    <tr style=\"text-align: right;\">\n",
       "      <th></th>\n",
       "      <th>Month</th>\n",
       "      <th>Day</th>\n",
       "      <th>Away_Team</th>\n",
       "      <th>Home_Team</th>\n",
       "      <th>Away_Score</th>\n",
       "      <th>Home_Score</th>\n",
       "      <th>Winning_Team</th>\n",
       "      <th>Winning_Pitcher</th>\n",
       "      <th>Losing_Pitcher</th>\n",
       "      <th>Year</th>\n",
       "    </tr>\n",
       "  </thead>\n",
       "  <tbody>\n",
       "    <tr>\n",
       "      <th>0</th>\n",
       "      <td>April</td>\n",
       "      <td>7</td>\n",
       "      <td>Pirates</td>\n",
       "      <td>Cardinals</td>\n",
       "      <td>0</td>\n",
       "      <td>9</td>\n",
       "      <td>Cardinals</td>\n",
       "      <td>Wainwright</td>\n",
       "      <td>Brubaker</td>\n",
       "      <td>2022</td>\n",
       "    </tr>\n",
       "    <tr>\n",
       "      <th>5</th>\n",
       "      <td>April</td>\n",
       "      <td>14</td>\n",
       "      <td>Nationals</td>\n",
       "      <td>Pirates</td>\n",
       "      <td>4</td>\n",
       "      <td>9</td>\n",
       "      <td>Pirates</td>\n",
       "      <td>Contreras</td>\n",
       "      <td>Adon</td>\n",
       "      <td>2022</td>\n",
       "    </tr>\n",
       "  </tbody>\n",
       "</table>\n",
       "</div>"
      ],
      "text/plain": [
       "   Month  Day  Away_Team  Home_Team  Away_Score  Home_Score Winning_Team  \\\n",
       "0  April    7    Pirates  Cardinals           0           9    Cardinals   \n",
       "5  April   14  Nationals    Pirates           4           9      Pirates   \n",
       "\n",
       "  Winning_Pitcher Losing_Pitcher  Year  \n",
       "0      Wainwright       Brubaker  2022  \n",
       "5       Contreras           Adon  2022  "
      ]
     },
     "execution_count": 55,
     "metadata": {},
     "output_type": "execute_result"
    }
   ],
   "source": [
    "pirates_df.loc[pirates_df.Home_Score>6]"
   ]
  },
  {
   "cell_type": "code",
   "execution_count": 56,
   "id": "5d1e7d47",
   "metadata": {},
   "outputs": [
    {
     "data": {
      "text/html": [
       "<div>\n",
       "<style scoped>\n",
       "    .dataframe tbody tr th:only-of-type {\n",
       "        vertical-align: middle;\n",
       "    }\n",
       "\n",
       "    .dataframe tbody tr th {\n",
       "        vertical-align: top;\n",
       "    }\n",
       "\n",
       "    .dataframe thead th {\n",
       "        text-align: right;\n",
       "    }\n",
       "</style>\n",
       "<table border=\"1\" class=\"dataframe\">\n",
       "  <thead>\n",
       "    <tr style=\"text-align: right;\">\n",
       "      <th></th>\n",
       "      <th>Month</th>\n",
       "      <th>Day</th>\n",
       "      <th>Away_Team</th>\n",
       "      <th>Home_Team</th>\n",
       "      <th>Away_Score</th>\n",
       "      <th>Home_Score</th>\n",
       "      <th>Winning_Team</th>\n",
       "      <th>Winning_Pitcher</th>\n",
       "      <th>Losing_Pitcher</th>\n",
       "      <th>Year</th>\n",
       "    </tr>\n",
       "  </thead>\n",
       "  <tbody>\n",
       "    <tr>\n",
       "      <th>0</th>\n",
       "      <td>April</td>\n",
       "      <td>7</td>\n",
       "      <td>Pirates</td>\n",
       "      <td>Cardinals</td>\n",
       "      <td>0</td>\n",
       "      <td>9</td>\n",
       "      <td>Cardinals</td>\n",
       "      <td>Wainwright</td>\n",
       "      <td>Brubaker</td>\n",
       "      <td>2022</td>\n",
       "    </tr>\n",
       "    <tr>\n",
       "      <th>5</th>\n",
       "      <td>April</td>\n",
       "      <td>14</td>\n",
       "      <td>Nationals</td>\n",
       "      <td>Pirates</td>\n",
       "      <td>4</td>\n",
       "      <td>9</td>\n",
       "      <td>Pirates</td>\n",
       "      <td>Contreras</td>\n",
       "      <td>Adon</td>\n",
       "      <td>2022</td>\n",
       "    </tr>\n",
       "  </tbody>\n",
       "</table>\n",
       "</div>"
      ],
      "text/plain": [
       "   Month  Day  Away_Team  Home_Team  Away_Score  Home_Score Winning_Team  \\\n",
       "0  April    7    Pirates  Cardinals           0           9    Cardinals   \n",
       "5  April   14  Nationals    Pirates           4           9      Pirates   \n",
       "\n",
       "  Winning_Pitcher Losing_Pitcher  Year  \n",
       "0      Wainwright       Brubaker  2022  \n",
       "5       Contreras           Adon  2022  "
      ]
     },
     "execution_count": 56,
     "metadata": {},
     "output_type": "execute_result"
    }
   ],
   "source": [
    "# What I observed that it also works without .loc\n",
    "\n",
    "pirates_df[pirates_df.Home_Score>6]"
   ]
  },
  {
   "cell_type": "markdown",
   "id": "b219f996",
   "metadata": {},
   "source": [
    "### 6b) \n",
    "\n",
    "Filter `pirates_df` to select all rows where `Away_Score` is LESS THAN 3.\n",
    "\n",
    "Do NOT display all columns this time. Only display the `Home_Team`, `Away_Team`, and `Winning_Team` columns with the filtered rows.\n",
    "\n",
    "#### 6b) - SOLUTION"
   ]
  },
  {
   "cell_type": "code",
   "execution_count": 57,
   "id": "01dc43bc",
   "metadata": {},
   "outputs": [
    {
     "data": {
      "text/html": [
       "<div>\n",
       "<style scoped>\n",
       "    .dataframe tbody tr th:only-of-type {\n",
       "        vertical-align: middle;\n",
       "    }\n",
       "\n",
       "    .dataframe tbody tr th {\n",
       "        vertical-align: top;\n",
       "    }\n",
       "\n",
       "    .dataframe thead th {\n",
       "        text-align: right;\n",
       "    }\n",
       "</style>\n",
       "<table border=\"1\" class=\"dataframe\">\n",
       "  <thead>\n",
       "    <tr style=\"text-align: right;\">\n",
       "      <th></th>\n",
       "      <th>Home_Team</th>\n",
       "      <th>Away_Team</th>\n",
       "      <th>Winning_Team</th>\n",
       "    </tr>\n",
       "  </thead>\n",
       "  <tbody>\n",
       "    <tr>\n",
       "      <th>0</th>\n",
       "      <td>Cardinals</td>\n",
       "      <td>Pirates</td>\n",
       "      <td>Cardinals</td>\n",
       "    </tr>\n",
       "    <tr>\n",
       "      <th>1</th>\n",
       "      <td>Cardinals</td>\n",
       "      <td>Pirates</td>\n",
       "      <td>Cardinals</td>\n",
       "    </tr>\n",
       "    <tr>\n",
       "      <th>3</th>\n",
       "      <td>Pirates</td>\n",
       "      <td>Cubs</td>\n",
       "      <td>Cubs</td>\n",
       "    </tr>\n",
       "    <tr>\n",
       "      <th>4</th>\n",
       "      <td>Pirates</td>\n",
       "      <td>Cubs</td>\n",
       "      <td>Pirates</td>\n",
       "    </tr>\n",
       "    <tr>\n",
       "      <th>9</th>\n",
       "      <td>Brewers</td>\n",
       "      <td>Pirates</td>\n",
       "      <td>Brewers</td>\n",
       "    </tr>\n",
       "    <tr>\n",
       "      <th>10</th>\n",
       "      <td>Brewers</td>\n",
       "      <td>Pirates</td>\n",
       "      <td>Brewers</td>\n",
       "    </tr>\n",
       "    <tr>\n",
       "      <th>11</th>\n",
       "      <td>Brewers</td>\n",
       "      <td>Pirates</td>\n",
       "      <td>Brewers</td>\n",
       "    </tr>\n",
       "  </tbody>\n",
       "</table>\n",
       "</div>"
      ],
      "text/plain": [
       "    Home_Team Away_Team Winning_Team\n",
       "0   Cardinals   Pirates    Cardinals\n",
       "1   Cardinals   Pirates    Cardinals\n",
       "3     Pirates      Cubs         Cubs\n",
       "4     Pirates      Cubs      Pirates\n",
       "9     Brewers   Pirates      Brewers\n",
       "10    Brewers   Pirates      Brewers\n",
       "11    Brewers   Pirates      Brewers"
      ]
     },
     "execution_count": 57,
     "metadata": {},
     "output_type": "execute_result"
    }
   ],
   "source": [
    "pirates_df.loc[pirates_df.Away_Score<3,['Home_Team', 'Away_Team','Winning_Team']]"
   ]
  },
  {
   "cell_type": "markdown",
   "id": "3ac44875",
   "metadata": {},
   "source": [
    "### 6c)\n",
    "\n",
    "Let's now filter based on MULTIPLE conditions. \n",
    "\n",
    "Filter `pirates_df` to select all rows where the `Home_Score` is GREATER THAN 6 **and** the Pirates are the `Winning_Team`.\n",
    "\n",
    "Display all columns with the filtered rows to the screen.\n",
    "\n",
    "#### 6c) - SOLUTION"
   ]
  },
  {
   "cell_type": "code",
   "execution_count": 58,
   "id": "414f9f6e",
   "metadata": {},
   "outputs": [
    {
     "data": {
      "text/html": [
       "<div>\n",
       "<style scoped>\n",
       "    .dataframe tbody tr th:only-of-type {\n",
       "        vertical-align: middle;\n",
       "    }\n",
       "\n",
       "    .dataframe tbody tr th {\n",
       "        vertical-align: top;\n",
       "    }\n",
       "\n",
       "    .dataframe thead th {\n",
       "        text-align: right;\n",
       "    }\n",
       "</style>\n",
       "<table border=\"1\" class=\"dataframe\">\n",
       "  <thead>\n",
       "    <tr style=\"text-align: right;\">\n",
       "      <th></th>\n",
       "      <th>Month</th>\n",
       "      <th>Day</th>\n",
       "      <th>Away_Team</th>\n",
       "      <th>Home_Team</th>\n",
       "      <th>Away_Score</th>\n",
       "      <th>Home_Score</th>\n",
       "      <th>Winning_Team</th>\n",
       "      <th>Winning_Pitcher</th>\n",
       "      <th>Losing_Pitcher</th>\n",
       "      <th>Year</th>\n",
       "    </tr>\n",
       "  </thead>\n",
       "  <tbody>\n",
       "    <tr>\n",
       "      <th>5</th>\n",
       "      <td>April</td>\n",
       "      <td>14</td>\n",
       "      <td>Nationals</td>\n",
       "      <td>Pirates</td>\n",
       "      <td>4</td>\n",
       "      <td>9</td>\n",
       "      <td>Pirates</td>\n",
       "      <td>Contreras</td>\n",
       "      <td>Adon</td>\n",
       "      <td>2022</td>\n",
       "    </tr>\n",
       "  </tbody>\n",
       "</table>\n",
       "</div>"
      ],
      "text/plain": [
       "   Month  Day  Away_Team Home_Team  Away_Score  Home_Score Winning_Team  \\\n",
       "5  April   14  Nationals   Pirates           4           9      Pirates   \n",
       "\n",
       "  Winning_Pitcher Losing_Pitcher  Year  \n",
       "5       Contreras           Adon  2022  "
      ]
     },
     "execution_count": 58,
     "metadata": {},
     "output_type": "execute_result"
    }
   ],
   "source": [
    "pirates_df.loc[(pirates_df.Home_Score>6 )& (pirates_df.Winning_Team=='Pirates')]"
   ]
  },
  {
   "cell_type": "markdown",
   "id": "3be84663",
   "metadata": {},
   "source": [
    "### 6d) \n",
    "\n",
    "Filter `pirates_df` to select all rows where the `Away_Score` is LESS THAN 3 **and** the Pirates are the `Winning_Team`.\n",
    "\n",
    "Display all columns with the filtered rows to the screen.\n",
    "\n",
    "#### 6d) - SOLUTION"
   ]
  },
  {
   "cell_type": "code",
   "execution_count": 59,
   "id": "e9a1924e",
   "metadata": {},
   "outputs": [
    {
     "data": {
      "text/html": [
       "<div>\n",
       "<style scoped>\n",
       "    .dataframe tbody tr th:only-of-type {\n",
       "        vertical-align: middle;\n",
       "    }\n",
       "\n",
       "    .dataframe tbody tr th {\n",
       "        vertical-align: top;\n",
       "    }\n",
       "\n",
       "    .dataframe thead th {\n",
       "        text-align: right;\n",
       "    }\n",
       "</style>\n",
       "<table border=\"1\" class=\"dataframe\">\n",
       "  <thead>\n",
       "    <tr style=\"text-align: right;\">\n",
       "      <th></th>\n",
       "      <th>Month</th>\n",
       "      <th>Day</th>\n",
       "      <th>Away_Team</th>\n",
       "      <th>Home_Team</th>\n",
       "      <th>Away_Score</th>\n",
       "      <th>Home_Score</th>\n",
       "      <th>Winning_Team</th>\n",
       "      <th>Winning_Pitcher</th>\n",
       "      <th>Losing_Pitcher</th>\n",
       "      <th>Year</th>\n",
       "    </tr>\n",
       "  </thead>\n",
       "  <tbody>\n",
       "    <tr>\n",
       "      <th>4</th>\n",
       "      <td>April</td>\n",
       "      <td>13</td>\n",
       "      <td>Cubs</td>\n",
       "      <td>Pirates</td>\n",
       "      <td>2</td>\n",
       "      <td>6</td>\n",
       "      <td>Pirates</td>\n",
       "      <td>Peters</td>\n",
       "      <td>Hendricks</td>\n",
       "      <td>2022</td>\n",
       "    </tr>\n",
       "  </tbody>\n",
       "</table>\n",
       "</div>"
      ],
      "text/plain": [
       "   Month  Day Away_Team Home_Team  Away_Score  Home_Score Winning_Team  \\\n",
       "4  April   13      Cubs   Pirates           2           6      Pirates   \n",
       "\n",
       "  Winning_Pitcher Losing_Pitcher  Year  \n",
       "4          Peters      Hendricks  2022  "
      ]
     },
     "execution_count": 59,
     "metadata": {},
     "output_type": "execute_result"
    }
   ],
   "source": [
    "pirates_df.loc[(pirates_df.Away_Score <3) & (pirates_df.Winning_Team == 'Pirates')]"
   ]
  },
  {
   "cell_type": "markdown",
   "id": "0ea1a2d7",
   "metadata": {},
   "source": [
    "## Problem 07\n",
    "\n",
    "In the previous homework assignments, you have calculated the standard error on the mean as a function of the sample size. Rather than repeating that process again, let's use Pandas to help **visualize** what's happening when we generate the random samples. Pandas has built-in plotting methods that make it quite simple to generate useful statistical graphics to help us understand a data set. We will discuss visualization in more detail later in the course. \n",
    "\n",
    "The `matplotlib.pyplot` module is imported for you below."
   ]
  },
  {
   "cell_type": "code",
   "execution_count": 60,
   "id": "4e0cd0a6",
   "metadata": {},
   "outputs": [],
   "source": [
    "import matplotlib.pyplot as plt"
   ]
  },
  {
   "cell_type": "markdown",
   "id": "cf4465f4",
   "metadata": {},
   "source": [
    "Over the last few weeks we have talked about the difference between **replications** associated with **simulations** and the sample size effect we wish to study. We estimated the standard error on the mean by generating 5000 replications of the sample average. As we saw in Week 02, we used 5000 replications because the distribution on the sample average converges to a Gaussian (a bell curve) in the limit of an infinite number of replications. Replicating thousands of times allows our simulated results to match the theoretical results.\n",
    "\n",
    "This week, you will work with a smaller number of replications. The simulated estimate to the standard error no longer matches the theoretical result with so few replications. However, it will be easier to visualize the random samples and summary statistics with so few replications. You will specifically use 100 replications for this problem.\n",
    "\n",
    "### 7a)\n",
    "\n",
    "You must use the same format of the last assignment where we stored the samples down rows and the replications along the columns of a NumPy 2D array. Use NumPy to generate 5 samples of a Normal (Gaussian or bell curve) with mean 100 and standard deviation 25 and replicate that process 100 times. Do NOT calculate summary statistics associated with these samples.\n",
    "\n",
    "Assign the result to the variable `X005`.\n",
    "\n",
    "**IMPORTANT**: Do NOT forget to set the random seed!!!!\n",
    "\n",
    "#### 7a) - SOLUTION"
   ]
  },
  {
   "cell_type": "code",
   "execution_count": 61,
   "id": "f45526a4",
   "metadata": {},
   "outputs": [],
   "source": [
    "X005= np.random.default_rng(2100).normal(100,25,(5,100))"
   ]
  },
  {
   "cell_type": "code",
   "execution_count": 62,
   "id": "bd773be6",
   "metadata": {},
   "outputs": [],
   "source": [
    "#or\n",
    "rg=np.random.default_rng(2100)"
   ]
  },
  {
   "cell_type": "code",
   "execution_count": 63,
   "id": "207f2198",
   "metadata": {},
   "outputs": [],
   "source": [
    "X005= rg.normal(100,25,(5,100))"
   ]
  },
  {
   "cell_type": "markdown",
   "id": "d392e3f0",
   "metadata": {},
   "source": [
    "### 7b)\n",
    "\n",
    "Convert the `X005` NumPy array to a Pandas DataFrame and assign the result to the `df005` object. You may use the default `index` and `columns` arguments when you create the DataFrame.\n",
    "\n",
    "Use the appropriate attribute to display the number of rows and columns associated with `df005` to the screen.\n",
    "\n",
    "#### 7b) - SOLUTION"
   ]
  },
  {
   "cell_type": "code",
   "execution_count": 64,
   "id": "8ecbe479",
   "metadata": {},
   "outputs": [],
   "source": [
    "df005=pd.DataFrame(X005)"
   ]
  },
  {
   "cell_type": "code",
   "execution_count": 65,
   "id": "a80b63b0",
   "metadata": {},
   "outputs": [
    {
     "data": {
      "text/plain": [
       "(5, 100)"
      ]
     },
     "execution_count": 65,
     "metadata": {},
     "output_type": "execute_result"
    }
   ],
   "source": [
    "df005.shape"
   ]
  },
  {
   "cell_type": "markdown",
   "id": "1f7e561f",
   "metadata": {},
   "source": [
    "### 7c)\n",
    "\n",
    "Let's visualize the summary statistics associated with the 5 random samples over the 100 replications with a boxplot. Again, you will learn about the boxplot in more detail later. For now, you will focus on the SPREAD or VARIATION through the HEIGHT of the box and whiskers (the vertical lines coming from the box) and on the CENTRAL behavior through the MEAN. Therefore, you must set the appropriate arguments to display the MEAN within the boxplot. The MEAN **must** be displayed as red triangles.\n",
    "\n",
    "Use the appropriate method to summarize the replications of the 5 random samples as a boxplot.\n",
    "\n",
    "#### 7c) - SOLUTION"
   ]
  },
  {
   "cell_type": "code",
   "execution_count": 66,
   "id": "5b927dc0",
   "metadata": {},
   "outputs": [
    {
     "data": {
      "text/plain": [
       "<function matplotlib.pyplot.show(close=None, block=None)>"
      ]
     },
     "execution_count": 66,
     "metadata": {},
     "output_type": "execute_result"
    },
    {
     "data": {
      "image/png": "[encoded data removed]",
      "text/plain": [
       "<Figure size 1200x600 with 1 Axes>"
      ]
     },
     "metadata": {},
     "output_type": "display_data"
    }
   ],
   "source": [
    "fig, ax =plt.subplots(figsize=(12,6))\n",
    "\n",
    "df005.boxplot(ax=ax, showmeans=True,\\\n",
    "    meanprops={'markerfacecolor':'red','markeredgecolor':'red'})\n",
    "\n",
    "plt.show"
   ]
  },
  {
   "cell_type": "markdown",
   "id": "39b6e324",
   "metadata": {},
   "source": [
    "### 7d)\n",
    "\n",
    "Let's now see what happens if we generate 50 random samples instead of 5. You must continue to use 100 replications.\n",
    "\n",
    "Use NumPy to generate 50 samples of a Normal (Gaussian or bell curve) with mean 100 and standard deviation 25 and replicate that process 100 times. Do NOT calculate summary statistics associated with these samples.\n",
    "\n",
    "Assign the result to the variable `X050`.\n",
    "\n",
    "Convert the `X050` NumPy array to a Pandas DataFrame and assign the result to the `df050` object.\n",
    "\n",
    "**IMPORTANT**: Do NOT forget to set the random seed!!!!\n",
    "\n",
    "#### 7d) - SOLUTION"
   ]
  },
  {
   "cell_type": "code",
   "execution_count": 67,
   "id": "7154105c",
   "metadata": {},
   "outputs": [],
   "source": [
    "rg=np.random.default_rng(2100)\n",
    "X050=rg.normal(100,25,(50,100))\n",
    "df050=pd.DataFrame(X050)"
   ]
  },
  {
   "cell_type": "markdown",
   "id": "ebe5ca3b",
   "metadata": {},
   "source": [
    "### 7e)\n",
    "\n",
    "Let's now visualize the summary statistics associated with the 50 random samples.\n",
    "\n",
    "Use the appropriate method to summarize the replications of the 50 random samples as a boxplot. You must set the appropriate arguments to display the MEAN within the boxplot. The MEAN must be displayed as red triangles.\n",
    "\n",
    "#### 7e) - SOLUTION"
   ]
  },
  {
   "cell_type": "code",
   "execution_count": 68,
   "id": "903c003d",
   "metadata": {},
   "outputs": [
    {
     "data": {
      "text/plain": [
       "<Axes: >"
      ]
     },
     "execution_count": 68,
     "metadata": {},
     "output_type": "execute_result"
    },
    {
     "data": {
      "image/png": "[encoded data removed]",
      "text/plain": [
       "<Figure size 1200x600 with 1 Axes>"
      ]
     },
     "metadata": {},
     "output_type": "display_data"
    }
   ],
   "source": [
    "fig,ax= plt.subplots(figsize=(12,6))\n",
    "\n",
    "df050.boxplot(ax=ax, showmeans=True,\\\n",
    "    meanprops={'markerfacecolor':'red','markeredgecolor':'red'})"
   ]
  },
  {
   "cell_type": "markdown",
   "id": "01ad887b",
   "metadata": {},
   "source": [
    "### 7f)\n",
    "\n",
    "Lastly, let's see what happens if we generate 500 random samples! You must continue to use 100 replications.\n",
    "\n",
    "Use NumPy to generate 500 samples of a Normal (Gaussian or bell curve) with mean 100 and standard deviation 25 and replicate that process 100 times. Do NOT calculate summary statistics associated with these samples.\n",
    "\n",
    "Assign the result to the variable `X500`.\n",
    "\n",
    "Convert the `X500` NumPy array to a Pandas DataFrame and assign the result to the `df500` object.\n",
    "\n",
    "**IMPORTANT**: Do NOT forget to set the random seed!!!!\n",
    "\n",
    "#### 7f) - SOLUTION"
   ]
  },
  {
   "cell_type": "code",
   "execution_count": 69,
   "id": "54efdfdf",
   "metadata": {},
   "outputs": [],
   "source": [
    "rg=np.random.default_rng(2100)\n",
    "X500=rg.normal(100,25,(500,100))\n",
    "df500=pd.DataFrame(X500)"
   ]
  },
  {
   "cell_type": "markdown",
   "id": "f8d79cc7",
   "metadata": {},
   "source": [
    "### 7g)\n",
    "\n",
    "Use the appropriate method to summarize the replications of the 500 random samples as a boxplot. You must set the appropriate arguments to display the MEAN within the boxplot. The MEAN must be displayed as red triangles.\n",
    "\n",
    "#### 7g) - SOLUTION"
   ]
  },
  {
   "cell_type": "code",
   "execution_count": 70,
   "id": "bd1e18f6",
   "metadata": {},
   "outputs": [
    {
     "data": {
      "text/plain": [
       "<Axes: >"
      ]
     },
     "execution_count": 70,
     "metadata": {},
     "output_type": "execute_result"
    },
    {
     "data": {
      "image/png": "[encoded data removed]",
      "text/plain": [
       "<Figure size 1200x600 with 1 Axes>"
      ]
     },
     "metadata": {},
     "output_type": "display_data"
    }
   ],
   "source": [
    "fig,ax= plt.subplots(figsize=(12,6))\n",
    "\n",
    "df500.boxplot(ax=ax, showmeans=True,\\\n",
    "    meanprops={'markerfacecolor':'red','markeredgecolor':'red'})"
   ]
  },
  {
   "cell_type": "markdown",
   "id": "a137bb71",
   "metadata": {},
   "source": [
    "### 7h)\n",
    "\n",
    "Remember that the sample averages for each replication are shown by the upward facing red triangles in the boxplots. What are the differences in the behavior of the sample averages between as the sample size increases? Type your response in a Markdown cell below.\n",
    "\n",
    "#### 7h) - SOLUTION"
   ]
  },
  {
   "cell_type": "markdown",
   "id": "c8bdebd9",
   "metadata": {},
   "source": [
    "All the sample means are coming closer to mean 100 as the sample size increases. If the sample size is small, it deviates a lot from mean=100."
   ]
  },
  {
   "cell_type": "markdown",
   "id": "da4c7a5a",
   "metadata": {},
   "source": [
    "## Problem 08\n",
    "\n",
    "You will complete a data analysis project in the second half of the semester. You looked through several of the potential projects in the last assignment. The last set of projects have been added to Canvas.\n",
    "\n",
    "Having now looked through all available projects, which project would you like to work on? What is it about that project that interested you?\n",
    "\n",
    "If you cannot decide, select the top 2 that you find interesting. \n",
    "\n",
    "#### 8) - SOLUTION"
   ]
  },
  {
   "cell_type": "markdown",
   "id": "24d22eec",
   "metadata": {},
   "source": [
    "I liked the fpolisolutions a lot as the data is gathered using time series and I am eager to learn that in future. Then the Battery one is also really interesting for me and then the corrosion."
   ]
  },
  {
   "cell_type": "markdown",
   "id": "0c7178ba",
   "metadata": {},
   "source": []
  }
 ],
 "metadata": {
  "kernelspec": {
   "display_name": "Python 3 (ipykernel)",
   "language": "python",
   "name": "python3"
  },
  "language_info": {
   "codemirror_mode": {
    "name": "ipython",
    "version": 3
   },
   "file_extension": ".py",
   "mimetype": "text/x-python",
   "name": "python",
   "nbconvert_exporter": "python",
   "pygments_lexer": "ipython3",
   "version": "3.8.17"
  }
 },
 "nbformat": 4,
 "nbformat_minor": 5
}
